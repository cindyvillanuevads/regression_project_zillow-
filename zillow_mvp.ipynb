{
 "cells": [
  {
   "cell_type": "code",
   "execution_count": 1,
   "metadata": {},
   "outputs": [],
   "source": [
    "import acquire as a\n",
    "import prepare as p\n",
    "import wrangle as w\n",
    "import explore as e\n",
    "import model as m\n",
    "import evaluate as eval\n",
    "\n",
    "import seaborn as sns\n",
    "import pandas as pd\n",
    "import scipy.stats as stats\n",
    "import matplotlib.pyplot as plt\n",
    "from sklearn.linear_model import LinearRegression, LassoLars, TweedieRegressor\n",
    "from sklearn.preprocessing import PolynomialFeatures\n",
    "from IPython.display import display, HTML\n",
    "\n",
    "\n",
    "from sklearn.preprocessing import MinMaxScaler, RobustScaler"
   ]
  },
  {
   "cell_type": "markdown",
   "metadata": {},
   "source": [
    "https://pen.do/support/difference-between-property-and-unit/"
   ]
  },
  {
   "cell_type": "markdown",
   "metadata": {},
   "source": [
    "# Acquire"
   ]
  },
  {
   "cell_type": "code",
   "execution_count": 2,
   "metadata": {},
   "outputs": [],
   "source": [
    "#Acquire data from SQL using my function"
   ]
  },
  {
   "cell_type": "code",
   "execution_count": 3,
   "metadata": {},
   "outputs": [],
   "source": [
    "sql_query = '''\n",
    "SELECT  parcelid, bedroomcnt, bathroomcnt, calculatedfinishedsquarefeet, \n",
    "taxvaluedollarcnt, fips, taxamount \n",
    "FROM properties_2017\n",
    "JOIN predictions_2017 as pred USING (parcelid)\n",
    "WHERE pred.transactiondate >= '2017-05-01' AND pred.transactiondate <= '2017-08-31'\n",
    "AND (propertylandusetypeid > 259 AND propertylandusetypeid  < 265);\n",
    "'''"
   ]
  },
  {
   "cell_type": "code",
   "execution_count": 4,
   "metadata": {},
   "outputs": [],
   "source": [
    "df= a.get_data_from_sql('zillow',sql_query)"
   ]
  },
  {
   "cell_type": "code",
   "execution_count": 5,
   "metadata": {
    "scrolled": true
   },
   "outputs": [
    {
     "data": {
      "text/html": [
       "<div>\n",
       "<style scoped>\n",
       "    .dataframe tbody tr th:only-of-type {\n",
       "        vertical-align: middle;\n",
       "    }\n",
       "\n",
       "    .dataframe tbody tr th {\n",
       "        vertical-align: top;\n",
       "    }\n",
       "\n",
       "    .dataframe thead th {\n",
       "        text-align: right;\n",
       "    }\n",
       "</style>\n",
       "<table border=\"1\" class=\"dataframe\">\n",
       "  <thead>\n",
       "    <tr style=\"text-align: right;\">\n",
       "      <th></th>\n",
       "      <th>parcelid</th>\n",
       "      <th>bedroomcnt</th>\n",
       "      <th>bathroomcnt</th>\n",
       "      <th>calculatedfinishedsquarefeet</th>\n",
       "      <th>taxvaluedollarcnt</th>\n",
       "      <th>fips</th>\n",
       "      <th>taxamount</th>\n",
       "    </tr>\n",
       "  </thead>\n",
       "  <tbody>\n",
       "    <tr>\n",
       "      <th>0</th>\n",
       "      <td>11721753</td>\n",
       "      <td>3.0</td>\n",
       "      <td>2.0</td>\n",
       "      <td>1316.0</td>\n",
       "      <td>205123.0</td>\n",
       "      <td>6037.0</td>\n",
       "      <td>2627.48</td>\n",
       "    </tr>\n",
       "    <tr>\n",
       "      <th>1</th>\n",
       "      <td>11289917</td>\n",
       "      <td>3.0</td>\n",
       "      <td>2.0</td>\n",
       "      <td>1458.0</td>\n",
       "      <td>136104.0</td>\n",
       "      <td>6037.0</td>\n",
       "      <td>2319.90</td>\n",
       "    </tr>\n",
       "    <tr>\n",
       "      <th>2</th>\n",
       "      <td>11705026</td>\n",
       "      <td>2.0</td>\n",
       "      <td>1.0</td>\n",
       "      <td>1421.0</td>\n",
       "      <td>35606.0</td>\n",
       "      <td>6037.0</td>\n",
       "      <td>543.69</td>\n",
       "    </tr>\n",
       "    <tr>\n",
       "      <th>3</th>\n",
       "      <td>14269464</td>\n",
       "      <td>4.0</td>\n",
       "      <td>3.0</td>\n",
       "      <td>2541.0</td>\n",
       "      <td>880456.0</td>\n",
       "      <td>6059.0</td>\n",
       "      <td>9819.72</td>\n",
       "    </tr>\n",
       "    <tr>\n",
       "      <th>4</th>\n",
       "      <td>11446756</td>\n",
       "      <td>3.0</td>\n",
       "      <td>2.0</td>\n",
       "      <td>1491.0</td>\n",
       "      <td>107110.0</td>\n",
       "      <td>6037.0</td>\n",
       "      <td>1399.27</td>\n",
       "    </tr>\n",
       "  </tbody>\n",
       "</table>\n",
       "</div>"
      ],
      "text/plain": [
       "   parcelid  bedroomcnt  bathroomcnt  calculatedfinishedsquarefeet  \\\n",
       "0  11721753         3.0          2.0                        1316.0   \n",
       "1  11289917         3.0          2.0                        1458.0   \n",
       "2  11705026         2.0          1.0                        1421.0   \n",
       "3  14269464         4.0          3.0                        2541.0   \n",
       "4  11446756         3.0          2.0                        1491.0   \n",
       "\n",
       "   taxvaluedollarcnt    fips  taxamount  \n",
       "0           205123.0  6037.0    2627.48  \n",
       "1           136104.0  6037.0    2319.90  \n",
       "2            35606.0  6037.0     543.69  \n",
       "3           880456.0  6059.0    9819.72  \n",
       "4           107110.0  6037.0    1399.27  "
      ]
     },
     "execution_count": 5,
     "metadata": {},
     "output_type": "execute_result"
    }
   ],
   "source": [
    "#check my df\n",
    "df.head()"
   ]
  },
  {
   "cell_type": "code",
   "execution_count": 6,
   "metadata": {},
   "outputs": [
    {
     "data": {
      "text/plain": [
       "(28185, 7)"
      ]
     },
     "execution_count": 6,
     "metadata": {},
     "output_type": "execute_result"
    }
   ],
   "source": [
    "df.shape"
   ]
  },
  {
   "cell_type": "code",
   "execution_count": 7,
   "metadata": {
    "scrolled": true
   },
   "outputs": [
    {
     "data": {
      "text/html": [
       "<div>\n",
       "<style scoped>\n",
       "    .dataframe tbody tr th:only-of-type {\n",
       "        vertical-align: middle;\n",
       "    }\n",
       "\n",
       "    .dataframe tbody tr th {\n",
       "        vertical-align: top;\n",
       "    }\n",
       "\n",
       "    .dataframe thead th {\n",
       "        text-align: right;\n",
       "    }\n",
       "</style>\n",
       "<table border=\"1\" class=\"dataframe\">\n",
       "  <thead>\n",
       "    <tr style=\"text-align: right;\">\n",
       "      <th></th>\n",
       "      <th>count</th>\n",
       "      <th>mean</th>\n",
       "      <th>std</th>\n",
       "      <th>min</th>\n",
       "      <th>25%</th>\n",
       "      <th>50%</th>\n",
       "      <th>75%</th>\n",
       "      <th>max</th>\n",
       "    </tr>\n",
       "  </thead>\n",
       "  <tbody>\n",
       "    <tr>\n",
       "      <th>parcelid</th>\n",
       "      <td>28185.0</td>\n",
       "      <td>1.304103e+07</td>\n",
       "      <td>3.744921e+06</td>\n",
       "      <td>10711855.00</td>\n",
       "      <td>1.151082e+07</td>\n",
       "      <td>12593855.0</td>\n",
       "      <td>1.414899e+07</td>\n",
       "      <td>1.676878e+08</td>\n",
       "    </tr>\n",
       "    <tr>\n",
       "      <th>bedroomcnt</th>\n",
       "      <td>28185.0</td>\n",
       "      <td>3.307007e+00</td>\n",
       "      <td>9.500449e-01</td>\n",
       "      <td>0.00</td>\n",
       "      <td>3.000000e+00</td>\n",
       "      <td>3.0</td>\n",
       "      <td>4.000000e+00</td>\n",
       "      <td>1.200000e+01</td>\n",
       "    </tr>\n",
       "    <tr>\n",
       "      <th>bathroomcnt</th>\n",
       "      <td>28185.0</td>\n",
       "      <td>2.314866e+00</td>\n",
       "      <td>1.019092e+00</td>\n",
       "      <td>0.00</td>\n",
       "      <td>2.000000e+00</td>\n",
       "      <td>2.0</td>\n",
       "      <td>3.000000e+00</td>\n",
       "      <td>1.100000e+01</td>\n",
       "    </tr>\n",
       "    <tr>\n",
       "      <th>calculatedfinishedsquarefeet</th>\n",
       "      <td>28117.0</td>\n",
       "      <td>1.935100e+03</td>\n",
       "      <td>9.959107e+02</td>\n",
       "      <td>240.00</td>\n",
       "      <td>1.278000e+03</td>\n",
       "      <td>1675.0</td>\n",
       "      <td>2.326000e+03</td>\n",
       "      <td>1.724500e+04</td>\n",
       "    </tr>\n",
       "    <tr>\n",
       "      <th>taxvaluedollarcnt</th>\n",
       "      <td>28184.0</td>\n",
       "      <td>5.353762e+05</td>\n",
       "      <td>7.086644e+05</td>\n",
       "      <td>1000.00</td>\n",
       "      <td>1.986108e+05</td>\n",
       "      <td>382446.0</td>\n",
       "      <td>6.327165e+05</td>\n",
       "      <td>2.385837e+07</td>\n",
       "    </tr>\n",
       "    <tr>\n",
       "      <th>fips</th>\n",
       "      <td>28185.0</td>\n",
       "      <td>6.049518e+03</td>\n",
       "      <td>2.131096e+01</td>\n",
       "      <td>6037.00</td>\n",
       "      <td>6.037000e+03</td>\n",
       "      <td>6037.0</td>\n",
       "      <td>6.059000e+03</td>\n",
       "      <td>6.111000e+03</td>\n",
       "    </tr>\n",
       "    <tr>\n",
       "      <th>taxamount</th>\n",
       "      <td>28184.0</td>\n",
       "      <td>6.513591e+03</td>\n",
       "      <td>8.234312e+03</td>\n",
       "      <td>51.26</td>\n",
       "      <td>2.703082e+03</td>\n",
       "      <td>4734.9</td>\n",
       "      <td>7.529305e+03</td>\n",
       "      <td>2.767978e+05</td>\n",
       "    </tr>\n",
       "  </tbody>\n",
       "</table>\n",
       "</div>"
      ],
      "text/plain": [
       "                                count          mean           std  \\\n",
       "parcelid                      28185.0  1.304103e+07  3.744921e+06   \n",
       "bedroomcnt                    28185.0  3.307007e+00  9.500449e-01   \n",
       "bathroomcnt                   28185.0  2.314866e+00  1.019092e+00   \n",
       "calculatedfinishedsquarefeet  28117.0  1.935100e+03  9.959107e+02   \n",
       "taxvaluedollarcnt             28184.0  5.353762e+05  7.086644e+05   \n",
       "fips                          28185.0  6.049518e+03  2.131096e+01   \n",
       "taxamount                     28184.0  6.513591e+03  8.234312e+03   \n",
       "\n",
       "                                      min           25%         50%  \\\n",
       "parcelid                      10711855.00  1.151082e+07  12593855.0   \n",
       "bedroomcnt                           0.00  3.000000e+00         3.0   \n",
       "bathroomcnt                          0.00  2.000000e+00         2.0   \n",
       "calculatedfinishedsquarefeet       240.00  1.278000e+03      1675.0   \n",
       "taxvaluedollarcnt                 1000.00  1.986108e+05    382446.0   \n",
       "fips                              6037.00  6.037000e+03      6037.0   \n",
       "taxamount                           51.26  2.703082e+03      4734.9   \n",
       "\n",
       "                                       75%           max  \n",
       "parcelid                      1.414899e+07  1.676878e+08  \n",
       "bedroomcnt                    4.000000e+00  1.200000e+01  \n",
       "bathroomcnt                   3.000000e+00  1.100000e+01  \n",
       "calculatedfinishedsquarefeet  2.326000e+03  1.724500e+04  \n",
       "taxvaluedollarcnt             6.327165e+05  2.385837e+07  \n",
       "fips                          6.059000e+03  6.111000e+03  \n",
       "taxamount                     7.529305e+03  2.767978e+05  "
      ]
     },
     "execution_count": 7,
     "metadata": {},
     "output_type": "execute_result"
    }
   ],
   "source": [
    "df.describe().T"
   ]
  },
  {
   "cell_type": "code",
   "execution_count": 8,
   "metadata": {},
   "outputs": [
    {
     "name": "stdout",
     "output_type": "stream",
     "text": [
      "<class 'pandas.core.frame.DataFrame'>\n",
      "RangeIndex: 28185 entries, 0 to 28184\n",
      "Data columns (total 7 columns):\n",
      " #   Column                        Non-Null Count  Dtype  \n",
      "---  ------                        --------------  -----  \n",
      " 0   parcelid                      28185 non-null  int64  \n",
      " 1   bedroomcnt                    28185 non-null  float64\n",
      " 2   bathroomcnt                   28185 non-null  float64\n",
      " 3   calculatedfinishedsquarefeet  28117 non-null  float64\n",
      " 4   taxvaluedollarcnt             28184 non-null  float64\n",
      " 5   fips                          28185 non-null  float64\n",
      " 6   taxamount                     28184 non-null  float64\n",
      "dtypes: float64(6), int64(1)\n",
      "memory usage: 1.5 MB\n"
     ]
    }
   ],
   "source": [
    "df.info()"
   ]
  },
  {
   "cell_type": "markdown",
   "metadata": {},
   "source": [
    "**takeaways**\n",
    "- My sql query filter:\n",
    "   - single unit property .\n",
    "   - transaction during  May-August, 2017\n",
    "- calculatedfinishedsquarefee and taxvaluedollarcnt have missing values"
   ]
  },
  {
   "cell_type": "markdown",
   "metadata": {},
   "source": [
    "_____________________"
   ]
  },
  {
   "cell_type": "markdown",
   "metadata": {},
   "source": [
    "# Prepare"
   ]
  },
  {
   "cell_type": "code",
   "execution_count": 9,
   "metadata": {
    "scrolled": true
   },
   "outputs": [
    {
     "name": "stdout",
     "output_type": "stream",
     "text": [
      "Your selected dataframe has 7 columns.\n",
      "There are 3 columns that have missing values.\n",
      "  \n",
      "** There are 25 duplicate rows that represents 0.09% of total Values**\n"
     ]
    },
    {
     "data": {
      "text/html": [
       "<div>\n",
       "<style scoped>\n",
       "    .dataframe tbody tr th:only-of-type {\n",
       "        vertical-align: middle;\n",
       "    }\n",
       "\n",
       "    .dataframe tbody tr th {\n",
       "        vertical-align: top;\n",
       "    }\n",
       "\n",
       "    .dataframe thead th {\n",
       "        text-align: right;\n",
       "    }\n",
       "</style>\n",
       "<table border=\"1\" class=\"dataframe\">\n",
       "  <thead>\n",
       "    <tr style=\"text-align: right;\">\n",
       "      <th></th>\n",
       "      <th>Missing Values</th>\n",
       "      <th>% of Total Values</th>\n",
       "    </tr>\n",
       "  </thead>\n",
       "  <tbody>\n",
       "    <tr>\n",
       "      <th>calculatedfinishedsquarefeet</th>\n",
       "      <td>68</td>\n",
       "      <td>0.2</td>\n",
       "    </tr>\n",
       "    <tr>\n",
       "      <th>taxvaluedollarcnt</th>\n",
       "      <td>1</td>\n",
       "      <td>0.0</td>\n",
       "    </tr>\n",
       "    <tr>\n",
       "      <th>taxamount</th>\n",
       "      <td>1</td>\n",
       "      <td>0.0</td>\n",
       "    </tr>\n",
       "  </tbody>\n",
       "</table>\n",
       "</div>"
      ],
      "text/plain": [
       "                              Missing Values  % of Total Values\n",
       "calculatedfinishedsquarefeet              68                0.2\n",
       "taxvaluedollarcnt                          1                0.0\n",
       "taxamount                                  1                0.0"
      ]
     },
     "execution_count": 9,
     "metadata": {},
     "output_type": "execute_result"
    }
   ],
   "source": [
    "#use a function that gives us a quick report\n",
    "w.miss_dup_values(df)"
   ]
  },
  {
   "cell_type": "code",
   "execution_count": 10,
   "metadata": {},
   "outputs": [],
   "source": [
    "#clean my df\n",
    "df = p.clean_zillow(df)"
   ]
  },
  {
   "cell_type": "code",
   "execution_count": 11,
   "metadata": {},
   "outputs": [
    {
     "name": "stdout",
     "output_type": "stream",
     "text": [
      "Your selected dataframe has 7 columns.\n",
      "There are 0 columns that have missing values.\n",
      "  \n",
      "** There are 0 duplicate rows that represents 0.0% of total Values**\n"
     ]
    },
    {
     "data": {
      "text/html": [
       "<div>\n",
       "<style scoped>\n",
       "    .dataframe tbody tr th:only-of-type {\n",
       "        vertical-align: middle;\n",
       "    }\n",
       "\n",
       "    .dataframe tbody tr th {\n",
       "        vertical-align: top;\n",
       "    }\n",
       "\n",
       "    .dataframe thead th {\n",
       "        text-align: right;\n",
       "    }\n",
       "</style>\n",
       "<table border=\"1\" class=\"dataframe\">\n",
       "  <thead>\n",
       "    <tr style=\"text-align: right;\">\n",
       "      <th></th>\n",
       "      <th>Missing Values</th>\n",
       "      <th>% of Total Values</th>\n",
       "    </tr>\n",
       "  </thead>\n",
       "  <tbody>\n",
       "  </tbody>\n",
       "</table>\n",
       "</div>"
      ],
      "text/plain": [
       "Empty DataFrame\n",
       "Columns: [Missing Values, % of Total Values]\n",
       "Index: []"
      ]
     },
     "execution_count": 11,
     "metadata": {},
     "output_type": "execute_result"
    }
   ],
   "source": [
    "#check the changes\n",
    "w.miss_dup_values(df)"
   ]
  },
  {
   "cell_type": "code",
   "execution_count": 12,
   "metadata": {
    "scrolled": false
   },
   "outputs": [
    {
     "name": "stdout",
     "output_type": "stream",
     "text": [
      "<class 'pandas.core.frame.DataFrame'>\n",
      "Int64Index: 28092 entries, 0 to 28184\n",
      "Data columns (total 7 columns):\n",
      " #   Column              Non-Null Count  Dtype  \n",
      "---  ------              --------------  -----  \n",
      " 0   parcelid            28092 non-null  object \n",
      " 1   n_bedrooms          28092 non-null  float64\n",
      " 2   n_bathrooms         28092 non-null  float64\n",
      " 3   sq_ft               28092 non-null  float64\n",
      " 4   assessed_value_usd  28092 non-null  float64\n",
      " 5   county              28092 non-null  int64  \n",
      " 6   taxamount           28092 non-null  float64\n",
      "dtypes: float64(5), int64(1), object(1)\n",
      "memory usage: 1.7+ MB\n"
     ]
    }
   ],
   "source": [
    "df.info()"
   ]
  },
  {
   "cell_type": "code",
   "execution_count": 13,
   "metadata": {},
   "outputs": [
    {
     "name": "stdout",
     "output_type": "stream",
     "text": [
      "************************** COUNT OF UNIQUE VALUES ************************** \n",
      "Columns\n",
      " \n",
      "parcelid --> 28092 unique values\n",
      " \n",
      "n_bedrooms --> 13 unique values\n",
      " \n",
      "n_bathrooms --> 20 unique values\n",
      " \n",
      "sq_ft --> 4056 unique values\n",
      " \n",
      "assessed_value_usd --> 22733 unique values\n",
      " \n",
      "county --> 3 unique values\n",
      " \n",
      "taxamount --> 27654 unique values\n",
      " \n",
      " **************************  UNIQUE VALUES **************************\n",
      " \n",
      "Uniques values of all the columns that have less than 26 unique values \n",
      " \n",
      "n_bedrooms\n",
      "0.0        33\n",
      "1.0       312\n",
      "2.0      4347\n",
      "3.0     12565\n",
      "4.0      8286\n",
      "5.0      2142\n",
      "6.0       340\n",
      "7.0        50\n",
      "8.0         8\n",
      "9.0         4\n",
      "10.0        2\n",
      "11.0        2\n",
      "12.0        1\n",
      "Name: n_bedrooms, dtype: int64\n",
      "--------------------------- \n",
      " \n",
      "n_bathrooms\n",
      "0.0        25\n",
      "1.0      4903\n",
      "1.5       451\n",
      "2.0     11727\n",
      "2.5      2208\n",
      "3.0      5796\n",
      "3.5       544\n",
      "4.0      1198\n",
      "4.5       384\n",
      "5.0       443\n",
      "5.5       111\n",
      "6.0       176\n",
      "6.5        27\n",
      "7.0        52\n",
      "7.5         9\n",
      "8.0        29\n",
      "8.5         1\n",
      "9.0         5\n",
      "10.0        1\n",
      "11.0        2\n",
      "Name: n_bathrooms, dtype: int64\n",
      "--------------------------- \n",
      " \n",
      "county\n",
      "6037    17913\n",
      "6059     7736\n",
      "6111     2443\n",
      "Name: county, dtype: int64\n",
      "--------------------------- \n",
      " \n"
     ]
    }
   ],
   "source": [
    "#use this function to see unique values of each column and also count of unique values of the columns \n",
    "#that have less than 26 uniques values\n",
    "p.unique_cntvalues(df, 26)"
   ]
  },
  {
   "cell_type": "markdown",
   "metadata": {},
   "source": [
    "** Takeaways**\n",
    "- change parcelid to object type\n",
    "- there are property whith 0 bedrooms and bathtooms. I will check this more"
   ]
  },
  {
   "cell_type": "code",
   "execution_count": 14,
   "metadata": {},
   "outputs": [],
   "source": [
    "#explore n_bedrooms == 0 & n_bathroos == 0"
   ]
  },
  {
   "cell_type": "code",
   "execution_count": 15,
   "metadata": {
    "scrolled": true
   },
   "outputs": [
    {
     "data": {
      "text/plain": [
       "parcelid              19\n",
       "n_bedrooms            19\n",
       "n_bathrooms           19\n",
       "sq_ft                 19\n",
       "assessed_value_usd    19\n",
       "county                19\n",
       "taxamount             19\n",
       "dtype: int64"
      ]
     },
     "execution_count": 15,
     "metadata": {},
     "output_type": "execute_result"
    }
   ],
   "source": [
    "df[(df.n_bedrooms == 0) & (df.n_bathrooms == 0)].count()"
   ]
  },
  {
   "cell_type": "code",
   "execution_count": 16,
   "metadata": {
    "scrolled": true
   },
   "outputs": [
    {
     "data": {
      "text/html": [
       "<div>\n",
       "<style scoped>\n",
       "    .dataframe tbody tr th:only-of-type {\n",
       "        vertical-align: middle;\n",
       "    }\n",
       "\n",
       "    .dataframe tbody tr th {\n",
       "        vertical-align: top;\n",
       "    }\n",
       "\n",
       "    .dataframe thead th {\n",
       "        text-align: right;\n",
       "    }\n",
       "</style>\n",
       "<table border=\"1\" class=\"dataframe\">\n",
       "  <thead>\n",
       "    <tr style=\"text-align: right;\">\n",
       "      <th></th>\n",
       "      <th>parcelid</th>\n",
       "      <th>n_bedrooms</th>\n",
       "      <th>n_bathrooms</th>\n",
       "      <th>sq_ft</th>\n",
       "      <th>assessed_value_usd</th>\n",
       "      <th>county</th>\n",
       "      <th>taxamount</th>\n",
       "    </tr>\n",
       "  </thead>\n",
       "  <tbody>\n",
       "    <tr>\n",
       "      <th>8</th>\n",
       "      <td>11696784</td>\n",
       "      <td>0.0</td>\n",
       "      <td>0.0</td>\n",
       "      <td>1378.0</td>\n",
       "      <td>168828.0</td>\n",
       "      <td>6037</td>\n",
       "      <td>2135.39</td>\n",
       "    </tr>\n",
       "    <tr>\n",
       "      <th>254</th>\n",
       "      <td>11392193</td>\n",
       "      <td>0.0</td>\n",
       "      <td>0.0</td>\n",
       "      <td>2276.0</td>\n",
       "      <td>101792.0</td>\n",
       "      <td>6037</td>\n",
       "      <td>1609.95</td>\n",
       "    </tr>\n",
       "    <tr>\n",
       "      <th>339</th>\n",
       "      <td>11266326</td>\n",
       "      <td>0.0</td>\n",
       "      <td>0.0</td>\n",
       "      <td>400.0</td>\n",
       "      <td>49627.0</td>\n",
       "      <td>6037</td>\n",
       "      <td>703.30</td>\n",
       "    </tr>\n",
       "    <tr>\n",
       "      <th>795</th>\n",
       "      <td>11938527</td>\n",
       "      <td>0.0</td>\n",
       "      <td>0.0</td>\n",
       "      <td>389.0</td>\n",
       "      <td>319396.0</td>\n",
       "      <td>6037</td>\n",
       "      <td>4059.62</td>\n",
       "    </tr>\n",
       "    <tr>\n",
       "      <th>1795</th>\n",
       "      <td>14507431</td>\n",
       "      <td>0.0</td>\n",
       "      <td>0.0</td>\n",
       "      <td>4184.0</td>\n",
       "      <td>1145602.0</td>\n",
       "      <td>6059</td>\n",
       "      <td>11761.22</td>\n",
       "    </tr>\n",
       "    <tr>\n",
       "      <th>3714</th>\n",
       "      <td>12153898</td>\n",
       "      <td>0.0</td>\n",
       "      <td>0.0</td>\n",
       "      <td>682.0</td>\n",
       "      <td>29361.0</td>\n",
       "      <td>6037</td>\n",
       "      <td>451.07</td>\n",
       "    </tr>\n",
       "    <tr>\n",
       "      <th>4940</th>\n",
       "      <td>12554886</td>\n",
       "      <td>0.0</td>\n",
       "      <td>0.0</td>\n",
       "      <td>1064.0</td>\n",
       "      <td>226328.0</td>\n",
       "      <td>6037</td>\n",
       "      <td>2770.52</td>\n",
       "    </tr>\n",
       "    <tr>\n",
       "      <th>6238</th>\n",
       "      <td>11676853</td>\n",
       "      <td>0.0</td>\n",
       "      <td>0.0</td>\n",
       "      <td>660.0</td>\n",
       "      <td>746757.0</td>\n",
       "      <td>6037</td>\n",
       "      <td>8961.30</td>\n",
       "    </tr>\n",
       "    <tr>\n",
       "      <th>6611</th>\n",
       "      <td>12444585</td>\n",
       "      <td>0.0</td>\n",
       "      <td>0.0</td>\n",
       "      <td>738.0</td>\n",
       "      <td>84701.0</td>\n",
       "      <td>6037</td>\n",
       "      <td>1337.61</td>\n",
       "    </tr>\n",
       "    <tr>\n",
       "      <th>9497</th>\n",
       "      <td>11679076</td>\n",
       "      <td>0.0</td>\n",
       "      <td>0.0</td>\n",
       "      <td>1820.0</td>\n",
       "      <td>1034512.0</td>\n",
       "      <td>6037</td>\n",
       "      <td>12614.16</td>\n",
       "    </tr>\n",
       "    <tr>\n",
       "      <th>13627</th>\n",
       "      <td>11283520</td>\n",
       "      <td>0.0</td>\n",
       "      <td>0.0</td>\n",
       "      <td>366.0</td>\n",
       "      <td>62030.0</td>\n",
       "      <td>6037</td>\n",
       "      <td>840.00</td>\n",
       "    </tr>\n",
       "    <tr>\n",
       "      <th>14594</th>\n",
       "      <td>12074776</td>\n",
       "      <td>0.0</td>\n",
       "      <td>0.0</td>\n",
       "      <td>360.0</td>\n",
       "      <td>11089.0</td>\n",
       "      <td>6037</td>\n",
       "      <td>150.58</td>\n",
       "    </tr>\n",
       "    <tr>\n",
       "      <th>15009</th>\n",
       "      <td>14179570</td>\n",
       "      <td>0.0</td>\n",
       "      <td>0.0</td>\n",
       "      <td>3188.0</td>\n",
       "      <td>459712.0</td>\n",
       "      <td>6059</td>\n",
       "      <td>6067.16</td>\n",
       "    </tr>\n",
       "    <tr>\n",
       "      <th>15439</th>\n",
       "      <td>13890348</td>\n",
       "      <td>0.0</td>\n",
       "      <td>0.0</td>\n",
       "      <td>2016.0</td>\n",
       "      <td>104502.0</td>\n",
       "      <td>6059</td>\n",
       "      <td>1574.84</td>\n",
       "    </tr>\n",
       "    <tr>\n",
       "      <th>17760</th>\n",
       "      <td>17059899</td>\n",
       "      <td>0.0</td>\n",
       "      <td>0.0</td>\n",
       "      <td>1060.0</td>\n",
       "      <td>324858.0</td>\n",
       "      <td>6111</td>\n",
       "      <td>3589.64</td>\n",
       "    </tr>\n",
       "    <tr>\n",
       "      <th>19190</th>\n",
       "      <td>11687003</td>\n",
       "      <td>0.0</td>\n",
       "      <td>0.0</td>\n",
       "      <td>1728.0</td>\n",
       "      <td>3640824.0</td>\n",
       "      <td>6037</td>\n",
       "      <td>42229.17</td>\n",
       "    </tr>\n",
       "    <tr>\n",
       "      <th>20874</th>\n",
       "      <td>11341049</td>\n",
       "      <td>0.0</td>\n",
       "      <td>0.0</td>\n",
       "      <td>1366.0</td>\n",
       "      <td>142806.0</td>\n",
       "      <td>6037</td>\n",
       "      <td>2592.30</td>\n",
       "    </tr>\n",
       "    <tr>\n",
       "      <th>23660</th>\n",
       "      <td>12887546</td>\n",
       "      <td>0.0</td>\n",
       "      <td>0.0</td>\n",
       "      <td>816.0</td>\n",
       "      <td>152289.0</td>\n",
       "      <td>6037</td>\n",
       "      <td>2049.01</td>\n",
       "    </tr>\n",
       "    <tr>\n",
       "      <th>24586</th>\n",
       "      <td>11384712</td>\n",
       "      <td>0.0</td>\n",
       "      <td>0.0</td>\n",
       "      <td>1200.0</td>\n",
       "      <td>29855.0</td>\n",
       "      <td>6037</td>\n",
       "      <td>488.32</td>\n",
       "    </tr>\n",
       "  </tbody>\n",
       "</table>\n",
       "</div>"
      ],
      "text/plain": [
       "       parcelid  n_bedrooms  n_bathrooms   sq_ft  assessed_value_usd  county  \\\n",
       "8      11696784         0.0          0.0  1378.0            168828.0    6037   \n",
       "254    11392193         0.0          0.0  2276.0            101792.0    6037   \n",
       "339    11266326         0.0          0.0   400.0             49627.0    6037   \n",
       "795    11938527         0.0          0.0   389.0            319396.0    6037   \n",
       "1795   14507431         0.0          0.0  4184.0           1145602.0    6059   \n",
       "3714   12153898         0.0          0.0   682.0             29361.0    6037   \n",
       "4940   12554886         0.0          0.0  1064.0            226328.0    6037   \n",
       "6238   11676853         0.0          0.0   660.0            746757.0    6037   \n",
       "6611   12444585         0.0          0.0   738.0             84701.0    6037   \n",
       "9497   11679076         0.0          0.0  1820.0           1034512.0    6037   \n",
       "13627  11283520         0.0          0.0   366.0             62030.0    6037   \n",
       "14594  12074776         0.0          0.0   360.0             11089.0    6037   \n",
       "15009  14179570         0.0          0.0  3188.0            459712.0    6059   \n",
       "15439  13890348         0.0          0.0  2016.0            104502.0    6059   \n",
       "17760  17059899         0.0          0.0  1060.0            324858.0    6111   \n",
       "19190  11687003         0.0          0.0  1728.0           3640824.0    6037   \n",
       "20874  11341049         0.0          0.0  1366.0            142806.0    6037   \n",
       "23660  12887546         0.0          0.0   816.0            152289.0    6037   \n",
       "24586  11384712         0.0          0.0  1200.0             29855.0    6037   \n",
       "\n",
       "       taxamount  \n",
       "8        2135.39  \n",
       "254      1609.95  \n",
       "339       703.30  \n",
       "795      4059.62  \n",
       "1795    11761.22  \n",
       "3714      451.07  \n",
       "4940     2770.52  \n",
       "6238     8961.30  \n",
       "6611     1337.61  \n",
       "9497    12614.16  \n",
       "13627     840.00  \n",
       "14594     150.58  \n",
       "15009    6067.16  \n",
       "15439    1574.84  \n",
       "17760    3589.64  \n",
       "19190   42229.17  \n",
       "20874    2592.30  \n",
       "23660    2049.01  \n",
       "24586     488.32  "
      ]
     },
     "execution_count": 16,
     "metadata": {},
     "output_type": "execute_result"
    }
   ],
   "source": [
    "df[(df.n_bedrooms == 0) & (df.n_bathrooms == 0)]"
   ]
  },
  {
   "cell_type": "code",
   "execution_count": 17,
   "metadata": {},
   "outputs": [
    {
     "data": {
      "text/plain": [
       "(28092, 7)"
      ]
     },
     "execution_count": 17,
     "metadata": {},
     "output_type": "execute_result"
    }
   ],
   "source": [
    "df.shape"
   ]
  },
  {
   "cell_type": "markdown",
   "metadata": {},
   "source": [
    "**I decided to keep the properties with 0 bathrooms and bedrooms it represents a small percentage**"
   ]
  },
  {
   "cell_type": "code",
   "execution_count": 18,
   "metadata": {},
   "outputs": [
    {
     "data": {
      "text/plain": [
       "18570    240.0\n",
       "2389     300.0\n",
       "8853     326.0\n",
       "14594    360.0\n",
       "1362     360.0\n",
       "13627    366.0\n",
       "25817    380.0\n",
       "20469    384.0\n",
       "795      389.0\n",
       "339      400.0\n",
       "20088    400.0\n",
       "9775     400.0\n",
       "26082    440.0\n",
       "27669    440.0\n",
       "22493    440.0\n",
       "12738    442.0\n",
       "12016    444.0\n",
       "19968    444.0\n",
       "27329    448.0\n",
       "3932     448.0\n",
       "Name: sq_ft, dtype: float64"
      ]
     },
     "execution_count": 18,
     "metadata": {},
     "output_type": "execute_result"
    }
   ],
   "source": [
    "#checking calculatedfinishedsquarefeet\n",
    "df.sq_ft.sort_values().head(20)"
   ]
  },
  {
   "cell_type": "code",
   "execution_count": 19,
   "metadata": {
    "scrolled": true
   },
   "outputs": [
    {
     "data": {
      "text/html": [
       "<div>\n",
       "<style scoped>\n",
       "    .dataframe tbody tr th:only-of-type {\n",
       "        vertical-align: middle;\n",
       "    }\n",
       "\n",
       "    .dataframe tbody tr th {\n",
       "        vertical-align: top;\n",
       "    }\n",
       "\n",
       "    .dataframe thead th {\n",
       "        text-align: right;\n",
       "    }\n",
       "</style>\n",
       "<table border=\"1\" class=\"dataframe\">\n",
       "  <thead>\n",
       "    <tr style=\"text-align: right;\">\n",
       "      <th></th>\n",
       "      <th>parcelid</th>\n",
       "      <th>n_bedrooms</th>\n",
       "      <th>n_bathrooms</th>\n",
       "      <th>sq_ft</th>\n",
       "      <th>assessed_value_usd</th>\n",
       "      <th>county</th>\n",
       "      <th>taxamount</th>\n",
       "    </tr>\n",
       "  </thead>\n",
       "  <tbody>\n",
       "    <tr>\n",
       "      <th>795</th>\n",
       "      <td>11938527</td>\n",
       "      <td>0.0</td>\n",
       "      <td>0.0</td>\n",
       "      <td>389.0</td>\n",
       "      <td>319396.0</td>\n",
       "      <td>6037</td>\n",
       "      <td>4059.62</td>\n",
       "    </tr>\n",
       "    <tr>\n",
       "      <th>1362</th>\n",
       "      <td>11417048</td>\n",
       "      <td>1.0</td>\n",
       "      <td>1.0</td>\n",
       "      <td>360.0</td>\n",
       "      <td>206054.0</td>\n",
       "      <td>6037</td>\n",
       "      <td>3135.78</td>\n",
       "    </tr>\n",
       "    <tr>\n",
       "      <th>2389</th>\n",
       "      <td>17258105</td>\n",
       "      <td>1.0</td>\n",
       "      <td>1.0</td>\n",
       "      <td>300.0</td>\n",
       "      <td>165579.0</td>\n",
       "      <td>6111</td>\n",
       "      <td>1840.48</td>\n",
       "    </tr>\n",
       "    <tr>\n",
       "      <th>8853</th>\n",
       "      <td>11361390</td>\n",
       "      <td>2.0</td>\n",
       "      <td>1.0</td>\n",
       "      <td>326.0</td>\n",
       "      <td>16084.0</td>\n",
       "      <td>6037</td>\n",
       "      <td>269.75</td>\n",
       "    </tr>\n",
       "    <tr>\n",
       "      <th>13627</th>\n",
       "      <td>11283520</td>\n",
       "      <td>0.0</td>\n",
       "      <td>0.0</td>\n",
       "      <td>366.0</td>\n",
       "      <td>62030.0</td>\n",
       "      <td>6037</td>\n",
       "      <td>840.00</td>\n",
       "    </tr>\n",
       "    <tr>\n",
       "      <th>14594</th>\n",
       "      <td>12074776</td>\n",
       "      <td>0.0</td>\n",
       "      <td>0.0</td>\n",
       "      <td>360.0</td>\n",
       "      <td>11089.0</td>\n",
       "      <td>6037</td>\n",
       "      <td>150.58</td>\n",
       "    </tr>\n",
       "    <tr>\n",
       "      <th>18570</th>\n",
       "      <td>11915330</td>\n",
       "      <td>0.0</td>\n",
       "      <td>1.0</td>\n",
       "      <td>240.0</td>\n",
       "      <td>380000.0</td>\n",
       "      <td>6037</td>\n",
       "      <td>5222.26</td>\n",
       "    </tr>\n",
       "    <tr>\n",
       "      <th>20469</th>\n",
       "      <td>14276688</td>\n",
       "      <td>1.0</td>\n",
       "      <td>1.0</td>\n",
       "      <td>384.0</td>\n",
       "      <td>1486936.0</td>\n",
       "      <td>6059</td>\n",
       "      <td>15953.52</td>\n",
       "    </tr>\n",
       "    <tr>\n",
       "      <th>25817</th>\n",
       "      <td>13910907</td>\n",
       "      <td>1.0</td>\n",
       "      <td>1.0</td>\n",
       "      <td>380.0</td>\n",
       "      <td>87906.0</td>\n",
       "      <td>6059</td>\n",
       "      <td>1365.30</td>\n",
       "    </tr>\n",
       "  </tbody>\n",
       "</table>\n",
       "</div>"
      ],
      "text/plain": [
       "       parcelid  n_bedrooms  n_bathrooms  sq_ft  assessed_value_usd  county  \\\n",
       "795    11938527         0.0          0.0  389.0            319396.0    6037   \n",
       "1362   11417048         1.0          1.0  360.0            206054.0    6037   \n",
       "2389   17258105         1.0          1.0  300.0            165579.0    6111   \n",
       "8853   11361390         2.0          1.0  326.0             16084.0    6037   \n",
       "13627  11283520         0.0          0.0  366.0             62030.0    6037   \n",
       "14594  12074776         0.0          0.0  360.0             11089.0    6037   \n",
       "18570  11915330         0.0          1.0  240.0            380000.0    6037   \n",
       "20469  14276688         1.0          1.0  384.0           1486936.0    6059   \n",
       "25817  13910907         1.0          1.0  380.0             87906.0    6059   \n",
       "\n",
       "       taxamount  \n",
       "795      4059.62  \n",
       "1362     3135.78  \n",
       "2389     1840.48  \n",
       "8853      269.75  \n",
       "13627     840.00  \n",
       "14594     150.58  \n",
       "18570    5222.26  \n",
       "20469   15953.52  \n",
       "25817    1365.30  "
      ]
     },
     "execution_count": 19,
     "metadata": {},
     "output_type": "execute_result"
    }
   ],
   "source": [
    "df[(df.sq_ft <400)]"
   ]
  },
  {
   "cell_type": "code",
   "execution_count": 20,
   "metadata": {
    "scrolled": true
   },
   "outputs": [
    {
     "name": "stdout",
     "output_type": "stream",
     "text": [
      "<class 'pandas.core.frame.DataFrame'>\n",
      "Int64Index: 28092 entries, 0 to 28184\n",
      "Data columns (total 7 columns):\n",
      " #   Column              Non-Null Count  Dtype  \n",
      "---  ------              --------------  -----  \n",
      " 0   parcelid            28092 non-null  object \n",
      " 1   n_bedrooms          28092 non-null  float64\n",
      " 2   n_bathrooms         28092 non-null  float64\n",
      " 3   sq_ft               28092 non-null  float64\n",
      " 4   assessed_value_usd  28092 non-null  float64\n",
      " 5   county              28092 non-null  int64  \n",
      " 6   taxamount           28092 non-null  float64\n",
      "dtypes: float64(5), int64(1), object(1)\n",
      "memory usage: 1.7+ MB\n"
     ]
    }
   ],
   "source": [
    "df.info()"
   ]
  },
  {
   "cell_type": "markdown",
   "metadata": {},
   "source": [
    "**takeaway**\n",
    "- I decided to keep bathrooms and bedrooms = 0\n"
   ]
  },
  {
   "cell_type": "code",
   "execution_count": 21,
   "metadata": {
    "scrolled": true
   },
   "outputs": [
    {
     "data": {
      "text/html": [
       "<div>\n",
       "<style scoped>\n",
       "    .dataframe tbody tr th:only-of-type {\n",
       "        vertical-align: middle;\n",
       "    }\n",
       "\n",
       "    .dataframe tbody tr th {\n",
       "        vertical-align: top;\n",
       "    }\n",
       "\n",
       "    .dataframe thead th {\n",
       "        text-align: right;\n",
       "    }\n",
       "</style>\n",
       "<table border=\"1\" class=\"dataframe\">\n",
       "  <thead>\n",
       "    <tr style=\"text-align: right;\">\n",
       "      <th></th>\n",
       "      <th>count</th>\n",
       "      <th>mean</th>\n",
       "      <th>std</th>\n",
       "      <th>min</th>\n",
       "      <th>25%</th>\n",
       "      <th>50%</th>\n",
       "      <th>75%</th>\n",
       "      <th>max</th>\n",
       "    </tr>\n",
       "  </thead>\n",
       "  <tbody>\n",
       "    <tr>\n",
       "      <th>n_bedrooms</th>\n",
       "      <td>28092.0</td>\n",
       "      <td>3.314075</td>\n",
       "      <td>0.933630</td>\n",
       "      <td>0.00</td>\n",
       "      <td>3.0000</td>\n",
       "      <td>3.00</td>\n",
       "      <td>4.00</td>\n",
       "      <td>12.00</td>\n",
       "    </tr>\n",
       "    <tr>\n",
       "      <th>n_bathrooms</th>\n",
       "      <td>28092.0</td>\n",
       "      <td>2.319931</td>\n",
       "      <td>1.013303</td>\n",
       "      <td>0.00</td>\n",
       "      <td>2.0000</td>\n",
       "      <td>2.00</td>\n",
       "      <td>3.00</td>\n",
       "      <td>11.00</td>\n",
       "    </tr>\n",
       "    <tr>\n",
       "      <th>sq_ft</th>\n",
       "      <td>28092.0</td>\n",
       "      <td>1934.526734</td>\n",
       "      <td>994.195722</td>\n",
       "      <td>240.00</td>\n",
       "      <td>1279.0000</td>\n",
       "      <td>1675.00</td>\n",
       "      <td>2326.00</td>\n",
       "      <td>17245.00</td>\n",
       "    </tr>\n",
       "    <tr>\n",
       "      <th>assessed_value_usd</th>\n",
       "      <td>28092.0</td>\n",
       "      <td>533154.663605</td>\n",
       "      <td>703724.559385</td>\n",
       "      <td>1000.00</td>\n",
       "      <td>198423.2500</td>\n",
       "      <td>382000.00</td>\n",
       "      <td>631675.00</td>\n",
       "      <td>23858374.00</td>\n",
       "    </tr>\n",
       "    <tr>\n",
       "      <th>county</th>\n",
       "      <td>28092.0</td>\n",
       "      <td>6049.493735</td>\n",
       "      <td>21.293740</td>\n",
       "      <td>6037.00</td>\n",
       "      <td>6037.0000</td>\n",
       "      <td>6037.00</td>\n",
       "      <td>6059.00</td>\n",
       "      <td>6111.00</td>\n",
       "    </tr>\n",
       "    <tr>\n",
       "      <th>taxamount</th>\n",
       "      <td>28092.0</td>\n",
       "      <td>6486.747036</td>\n",
       "      <td>8168.544179</td>\n",
       "      <td>51.26</td>\n",
       "      <td>2702.1275</td>\n",
       "      <td>4733.06</td>\n",
       "      <td>7513.87</td>\n",
       "      <td>276797.83</td>\n",
       "    </tr>\n",
       "  </tbody>\n",
       "</table>\n",
       "</div>"
      ],
      "text/plain": [
       "                      count           mean            std      min  \\\n",
       "n_bedrooms          28092.0       3.314075       0.933630     0.00   \n",
       "n_bathrooms         28092.0       2.319931       1.013303     0.00   \n",
       "sq_ft               28092.0    1934.526734     994.195722   240.00   \n",
       "assessed_value_usd  28092.0  533154.663605  703724.559385  1000.00   \n",
       "county              28092.0    6049.493735      21.293740  6037.00   \n",
       "taxamount           28092.0    6486.747036    8168.544179    51.26   \n",
       "\n",
       "                            25%        50%        75%          max  \n",
       "n_bedrooms               3.0000       3.00       4.00        12.00  \n",
       "n_bathrooms              2.0000       2.00       3.00        11.00  \n",
       "sq_ft                 1279.0000    1675.00    2326.00     17245.00  \n",
       "assessed_value_usd  198423.2500  382000.00  631675.00  23858374.00  \n",
       "county                6037.0000    6037.00    6059.00      6111.00  \n",
       "taxamount             2702.1275    4733.06    7513.87    276797.83  "
      ]
     },
     "execution_count": 21,
     "metadata": {},
     "output_type": "execute_result"
    }
   ],
   "source": [
    "df.describe().T"
   ]
  },
  {
   "cell_type": "code",
   "execution_count": 22,
   "metadata": {},
   "outputs": [
    {
     "data": {
      "image/png": "[encoded data removed]",
      "text/plain": [
       "<Figure size 432x288 with 1 Axes>"
      ]
     },
     "metadata": {
      "needs_background": "light"
     },
     "output_type": "display_data"
    },
    {
     "data": {
      "image/png": "[encoded data removed]",
      "text/plain": [
       "<Figure size 432x288 with 1 Axes>"
      ]
     },
     "metadata": {
      "needs_background": "light"
     },
     "output_type": "display_data"
    },
    {
     "data": {
      "image/png": "[encoded data removed]",
      "text/plain": [
       "<Figure size 432x288 with 1 Axes>"
      ]
     },
     "metadata": {
      "needs_background": "light"
     },
     "output_type": "display_data"
    },
    {
     "data": {
      "image/png": "[encoded data removed]",
      "text/plain": [
       "<Figure size 432x288 with 1 Axes>"
      ]
     },
     "metadata": {
      "needs_background": "light"
     },
     "output_type": "display_data"
    },
    {
     "data": {
      "image/png": "[encoded data removed]",
      "text/plain": [
       "<Figure size 432x288 with 1 Axes>"
      ]
     },
     "metadata": {
      "needs_background": "light"
     },
     "output_type": "display_data"
    },
    {
     "data": {
      "image/png": "[encoded data removed]",
      "text/plain": [
       "<Figure size 432x288 with 1 Axes>"
      ]
     },
     "metadata": {
      "needs_background": "light"
     },
     "output_type": "display_data"
    }
   ],
   "source": [
    "p.distribution(df)"
   ]
  },
  {
   "cell_type": "markdown",
   "metadata": {},
   "source": [
    "because all my features are continous i decided to boxplot"
   ]
  },
  {
   "cell_type": "code",
   "execution_count": 23,
   "metadata": {
    "scrolled": false
   },
   "outputs": [
    {
     "data": {
      "image/png": "[encoded data removed]",
      "text/plain": [
       "<Figure size 576x432 with 1 Axes>"
      ]
     },
     "metadata": {
      "needs_background": "light"
     },
     "output_type": "display_data"
    },
    {
     "data": {
      "image/png": "[encoded data removed]",
      "text/plain": [
       "<Figure size 576x432 with 1 Axes>"
      ]
     },
     "metadata": {
      "needs_background": "light"
     },
     "output_type": "display_data"
    },
    {
     "data": {
      "image/png": "[encoded data removed]",
      "text/plain": [
       "<Figure size 576x432 with 1 Axes>"
      ]
     },
     "metadata": {
      "needs_background": "light"
     },
     "output_type": "display_data"
    },
    {
     "data": {
      "image/png": "[encoded data removed]",
      "text/plain": [
       "<Figure size 576x432 with 1 Axes>"
      ]
     },
     "metadata": {
      "needs_background": "light"
     },
     "output_type": "display_data"
    },
    {
     "data": {
      "image/png": "[encoded data removed]",
      "text/plain": [
       "<Figure size 576x432 with 1 Axes>"
      ]
     },
     "metadata": {
      "needs_background": "light"
     },
     "output_type": "display_data"
    },
    {
     "data": {
      "image/png": "[encoded data removed]",
      "text/plain": [
       "<Figure size 576x432 with 1 Axes>"
      ]
     },
     "metadata": {
      "needs_background": "light"
     },
     "output_type": "display_data"
    }
   ],
   "source": [
    "p.distribution_boxplot(df)"
   ]
  },
  {
   "cell_type": "markdown",
   "metadata": {},
   "source": [
    "**Takeaways** \n",
    "-  bathrooms , bedrooms, sq_dt and usd_valure are continous.\n",
    "- target is  usd_value\n"
   ]
  },
  {
   "cell_type": "markdown",
   "metadata": {},
   "source": [
    "Clean data\n",
    "\n",
    "- Drop duplicates\n",
    "- Drop nulls \n",
    "- Change 'parcelid' to a string type\n",
    "- Rename columns :\n",
    "    - 'bedroomcnt' --> 'n_bedrooms'\n",
    "    - 'bathroomcnt' --> 'n_bathrooms' \n",
    "    - 'calculatedfinishedsquarefeet' --> 'sq_ft'\n",
    "    - 'taxvaluedollarcnt' --> 'assessed_value_usd'\n",
    "\n",
    "\n"
   ]
  },
  {
   "cell_type": "markdown",
   "metadata": {},
   "source": [
    "**I will create a new df that has ony parcelid, assessed_value_usd, taxamount, county**"
   ]
  },
  {
   "cell_type": "code",
   "execution_count": 24,
   "metadata": {
    "scrolled": true
   },
   "outputs": [
    {
     "data": {
      "text/html": [
       "<div>\n",
       "<style scoped>\n",
       "    .dataframe tbody tr th:only-of-type {\n",
       "        vertical-align: middle;\n",
       "    }\n",
       "\n",
       "    .dataframe tbody tr th {\n",
       "        vertical-align: top;\n",
       "    }\n",
       "\n",
       "    .dataframe thead th {\n",
       "        text-align: right;\n",
       "    }\n",
       "</style>\n",
       "<table border=\"1\" class=\"dataframe\">\n",
       "  <thead>\n",
       "    <tr style=\"text-align: right;\">\n",
       "      <th></th>\n",
       "      <th>parcelid</th>\n",
       "      <th>assessed_value_usd</th>\n",
       "      <th>county</th>\n",
       "      <th>taxamount</th>\n",
       "    </tr>\n",
       "  </thead>\n",
       "  <tbody>\n",
       "    <tr>\n",
       "      <th>0</th>\n",
       "      <td>11721753</td>\n",
       "      <td>205123.0</td>\n",
       "      <td>6037</td>\n",
       "      <td>2627.48</td>\n",
       "    </tr>\n",
       "    <tr>\n",
       "      <th>1</th>\n",
       "      <td>11289917</td>\n",
       "      <td>136104.0</td>\n",
       "      <td>6037</td>\n",
       "      <td>2319.90</td>\n",
       "    </tr>\n",
       "    <tr>\n",
       "      <th>2</th>\n",
       "      <td>11705026</td>\n",
       "      <td>35606.0</td>\n",
       "      <td>6037</td>\n",
       "      <td>543.69</td>\n",
       "    </tr>\n",
       "    <tr>\n",
       "      <th>3</th>\n",
       "      <td>14269464</td>\n",
       "      <td>880456.0</td>\n",
       "      <td>6059</td>\n",
       "      <td>9819.72</td>\n",
       "    </tr>\n",
       "    <tr>\n",
       "      <th>4</th>\n",
       "      <td>11446756</td>\n",
       "      <td>107110.0</td>\n",
       "      <td>6037</td>\n",
       "      <td>1399.27</td>\n",
       "    </tr>\n",
       "  </tbody>\n",
       "</table>\n",
       "</div>"
      ],
      "text/plain": [
       "   parcelid  assessed_value_usd  county  taxamount\n",
       "0  11721753            205123.0    6037    2627.48\n",
       "1  11289917            136104.0    6037    2319.90\n",
       "2  11705026             35606.0    6037     543.69\n",
       "3  14269464            880456.0    6059    9819.72\n",
       "4  11446756            107110.0    6037    1399.27"
      ]
     },
     "execution_count": 24,
     "metadata": {},
     "output_type": "execute_result"
    }
   ],
   "source": [
    "# I will use this df for the distribution of tax rates for each county.\n",
    "df_county = df.drop(columns = ['n_bedrooms','n_bathrooms','sq_ft'])\n",
    "df_county.head()"
   ]
  },
  {
   "cell_type": "code",
   "execution_count": 25,
   "metadata": {},
   "outputs": [
    {
     "data": {
      "text/html": [
       "<div>\n",
       "<style scoped>\n",
       "    .dataframe tbody tr th:only-of-type {\n",
       "        vertical-align: middle;\n",
       "    }\n",
       "\n",
       "    .dataframe tbody tr th {\n",
       "        vertical-align: top;\n",
       "    }\n",
       "\n",
       "    .dataframe thead th {\n",
       "        text-align: right;\n",
       "    }\n",
       "</style>\n",
       "<table border=\"1\" class=\"dataframe\">\n",
       "  <thead>\n",
       "    <tr style=\"text-align: right;\">\n",
       "      <th></th>\n",
       "      <th>parcelid</th>\n",
       "      <th>n_bedrooms</th>\n",
       "      <th>n_bathrooms</th>\n",
       "      <th>sq_ft</th>\n",
       "      <th>assessed_value_usd</th>\n",
       "    </tr>\n",
       "  </thead>\n",
       "  <tbody>\n",
       "    <tr>\n",
       "      <th>0</th>\n",
       "      <td>11721753</td>\n",
       "      <td>3.0</td>\n",
       "      <td>2.0</td>\n",
       "      <td>1316.0</td>\n",
       "      <td>205123.0</td>\n",
       "    </tr>\n",
       "    <tr>\n",
       "      <th>1</th>\n",
       "      <td>11289917</td>\n",
       "      <td>3.0</td>\n",
       "      <td>2.0</td>\n",
       "      <td>1458.0</td>\n",
       "      <td>136104.0</td>\n",
       "    </tr>\n",
       "    <tr>\n",
       "      <th>2</th>\n",
       "      <td>11705026</td>\n",
       "      <td>2.0</td>\n",
       "      <td>1.0</td>\n",
       "      <td>1421.0</td>\n",
       "      <td>35606.0</td>\n",
       "    </tr>\n",
       "    <tr>\n",
       "      <th>3</th>\n",
       "      <td>14269464</td>\n",
       "      <td>4.0</td>\n",
       "      <td>3.0</td>\n",
       "      <td>2541.0</td>\n",
       "      <td>880456.0</td>\n",
       "    </tr>\n",
       "    <tr>\n",
       "      <th>4</th>\n",
       "      <td>11446756</td>\n",
       "      <td>3.0</td>\n",
       "      <td>2.0</td>\n",
       "      <td>1491.0</td>\n",
       "      <td>107110.0</td>\n",
       "    </tr>\n",
       "  </tbody>\n",
       "</table>\n",
       "</div>"
      ],
      "text/plain": [
       "   parcelid  n_bedrooms  n_bathrooms   sq_ft  assessed_value_usd\n",
       "0  11721753         3.0          2.0  1316.0            205123.0\n",
       "1  11289917         3.0          2.0  1458.0            136104.0\n",
       "2  11705026         2.0          1.0  1421.0             35606.0\n",
       "3  14269464         4.0          3.0  2541.0            880456.0\n",
       "4  11446756         3.0          2.0  1491.0            107110.0"
      ]
     },
     "execution_count": 25,
     "metadata": {},
     "output_type": "execute_result"
    }
   ],
   "source": [
    "df = df.drop(columns = ['county', 'taxamount'])\n",
    "df.head()"
   ]
  },
  {
   "cell_type": "markdown",
   "metadata": {},
   "source": [
    "### split train, validate, test"
   ]
  },
  {
   "cell_type": "code",
   "execution_count": 26,
   "metadata": {
    "scrolled": true
   },
   "outputs": [
    {
     "name": "stdout",
     "output_type": "stream",
     "text": [
      "train -> (15731, 5)\n",
      "validate -> (6742, 5)\n",
      "test -> (5619, 5)\n"
     ]
    }
   ],
   "source": [
    "#use my function to split\n",
    "train, validate, test = p.split_data(df)"
   ]
  },
  {
   "cell_type": "markdown",
   "metadata": {},
   "source": [
    "**Split Data**\n",
    "\n",
    "- Data is split into train (50%), validate (30%), and test (20%).\n",
    "- random_state=123"
   ]
  },
  {
   "cell_type": "code",
   "execution_count": 27,
   "metadata": {},
   "outputs": [
    {
     "name": "stdout",
     "output_type": "stream",
     "text": [
      "X_train -> (15731, 4)               y_train->(15731,)\n",
      "X_validate -> (6742, 4)         y_validate->(6742,) \n",
      "X_test -> (5619, 4)                  y_test>(5619,)\n"
     ]
    }
   ],
   "source": [
    "#split my features from my target\n",
    "X_train, y_train, X_validate, y_validate, X_test, y_test = p.split_Xy(train,validate,test, 'assessed_value_usd')"
   ]
  },
  {
   "cell_type": "code",
   "execution_count": null,
   "metadata": {},
   "outputs": [],
   "source": []
  },
  {
   "cell_type": "code",
   "execution_count": 28,
   "metadata": {},
   "outputs": [
    {
     "data": {
      "image/png": "[encoded data removed]",
      "text/plain": [
       "<Figure size 936x432 with 2 Axes>"
      ]
     },
     "metadata": {
      "needs_background": "light"
     },
     "output_type": "display_data"
    },
    {
     "data": {
      "image/png": "[encoded data removed]",
      "text/plain": [
       "<Figure size 936x432 with 2 Axes>"
      ]
     },
     "metadata": {
      "needs_background": "light"
     },
     "output_type": "display_data"
    },
    {
     "data": {
      "image/png": "[encoded data removed]",
      "text/plain": [
       "<Figure size 936x432 with 2 Axes>"
      ]
     },
     "metadata": {
      "needs_background": "light"
     },
     "output_type": "display_data"
    }
   ],
   "source": [
    "#Scale our data\n",
    "X_train_scaled, X_validate_scaled, X_test_scaled = p.scaled_df(X_train, X_validate, X_test, RobustScaler())"
   ]
  },
  {
   "cell_type": "markdown",
   "metadata": {},
   "source": [
    "**takeaways**\n",
    "- I use Robust Scaler that uses parameters that are more robust to outliers,  because  bathrooms , bedrooms, and sq_dt have outliers."
   ]
  },
  {
   "cell_type": "markdown",
   "metadata": {},
   "source": [
    "__________________________"
   ]
  },
  {
   "cell_type": "markdown",
   "metadata": {},
   "source": [
    "# Expolore\n"
   ]
  },
  {
   "cell_type": "markdown",
   "metadata": {},
   "source": [
    "before Exploration this is what I think:\n",
    "\n",
    "\n",
    "\n",
    "- The variables that can influence the value of home are square feet, and number of bedrooms and at last number of bathrooms. \n",
    "- square feet, and number of bedrooms  can have an influence no matter where the property located.\n",
    "\n",
    "-  other factors can influence the value of a home such as zip code, year built,  school district."
   ]
  },
  {
   "cell_type": "code",
   "execution_count": 29,
   "metadata": {},
   "outputs": [],
   "source": [
    "#  I want to explore with my target"
   ]
  },
  {
   "cell_type": "code",
   "execution_count": 30,
   "metadata": {},
   "outputs": [
    {
     "data": {
      "text/plain": [
       "<AxesSubplot:>"
      ]
     },
     "execution_count": 30,
     "metadata": {},
     "output_type": "execute_result"
    },
    {
     "data": {
      "image/png": "[encoded data removed]",
      "text/plain": [
       "<Figure size 936x432 with 1 Axes>"
      ]
     },
     "metadata": {
      "needs_background": "light"
     },
     "output_type": "display_data"
    }
   ],
   "source": [
    "plt.figure(figsize=(13, 6))\n",
    "train['assessed_value_usd'].hist(grid=False)\n"
   ]
  },
  {
   "cell_type": "code",
   "execution_count": 31,
   "metadata": {},
   "outputs": [
    {
     "data": {
      "text/plain": [
       "<AxesSubplot:xlabel='assessed_value_usd'>"
      ]
     },
     "execution_count": 31,
     "metadata": {},
     "output_type": "execute_result"
    },
    {
     "data": {
      "image/png": "[encoded data removed]",
      "text/plain": [
       "<Figure size 1152x576 with 1 Axes>"
      ]
     },
     "metadata": {
      "needs_background": "light"
     },
     "output_type": "display_data"
    }
   ],
   "source": [
    "plt.figure(figsize=(16, 8))\n",
    "sns.boxplot(train['assessed_value_usd'])"
   ]
  },
  {
   "cell_type": "code",
   "execution_count": 32,
   "metadata": {
    "scrolled": false
   },
   "outputs": [
    {
     "data": {
      "image/png": "[encoded data removed]",
      "text/plain": [
       "<Figure size 720x720 with 1 Axes>"
      ]
     },
     "metadata": {
      "needs_background": "light"
     },
     "output_type": "display_data"
    }
   ],
   "source": [
    "#plot our target\n",
    "sns.displot(y_train,  kind=\"kde\", height =10 ,aspect =1, color = 'red')\n",
    "plt.xlabel(\"Value in USD (10^7)\")\n",
    "plt.ylabel(\"Number of properties\")\n",
    "plt.show()"
   ]
  },
  {
   "cell_type": "code",
   "execution_count": 33,
   "metadata": {},
   "outputs": [],
   "source": [
    "# I creating a new df so it has target and scaled features"
   ]
  },
  {
   "cell_type": "code",
   "execution_count": 34,
   "metadata": {},
   "outputs": [],
   "source": [
    "train_scaled = pd.concat([X_train_scaled, pd.DataFrame( {'assessed_valure_usd': y_train}) ], axis= 1 )"
   ]
  },
  {
   "cell_type": "code",
   "execution_count": 35,
   "metadata": {},
   "outputs": [
    {
     "data": {
      "text/html": [
       "<div>\n",
       "<style scoped>\n",
       "    .dataframe tbody tr th:only-of-type {\n",
       "        vertical-align: middle;\n",
       "    }\n",
       "\n",
       "    .dataframe tbody tr th {\n",
       "        vertical-align: top;\n",
       "    }\n",
       "\n",
       "    .dataframe thead th {\n",
       "        text-align: right;\n",
       "    }\n",
       "</style>\n",
       "<table border=\"1\" class=\"dataframe\">\n",
       "  <thead>\n",
       "    <tr style=\"text-align: right;\">\n",
       "      <th></th>\n",
       "      <th>n_bedrooms</th>\n",
       "      <th>n_bathrooms</th>\n",
       "      <th>sq_ft</th>\n",
       "      <th>assessed_valure_usd</th>\n",
       "    </tr>\n",
       "  </thead>\n",
       "  <tbody>\n",
       "    <tr>\n",
       "      <th>26382</th>\n",
       "      <td>0.0</td>\n",
       "      <td>0.5</td>\n",
       "      <td>-0.288023</td>\n",
       "      <td>225691.0</td>\n",
       "    </tr>\n",
       "    <tr>\n",
       "      <th>8272</th>\n",
       "      <td>1.0</td>\n",
       "      <td>2.5</td>\n",
       "      <td>1.895437</td>\n",
       "      <td>824059.0</td>\n",
       "    </tr>\n",
       "    <tr>\n",
       "      <th>15498</th>\n",
       "      <td>0.0</td>\n",
       "      <td>0.0</td>\n",
       "      <td>0.329848</td>\n",
       "      <td>161841.0</td>\n",
       "    </tr>\n",
       "    <tr>\n",
       "      <th>13792</th>\n",
       "      <td>2.0</td>\n",
       "      <td>1.0</td>\n",
       "      <td>-0.157795</td>\n",
       "      <td>345429.0</td>\n",
       "    </tr>\n",
       "    <tr>\n",
       "      <th>18279</th>\n",
       "      <td>-1.0</td>\n",
       "      <td>-1.0</td>\n",
       "      <td>-0.095057</td>\n",
       "      <td>477466.0</td>\n",
       "    </tr>\n",
       "  </tbody>\n",
       "</table>\n",
       "</div>"
      ],
      "text/plain": [
       "       n_bedrooms  n_bathrooms     sq_ft  assessed_valure_usd\n",
       "26382         0.0          0.5 -0.288023             225691.0\n",
       "8272          1.0          2.5  1.895437             824059.0\n",
       "15498         0.0          0.0  0.329848             161841.0\n",
       "13792         2.0          1.0 -0.157795             345429.0\n",
       "18279        -1.0         -1.0 -0.095057             477466.0"
      ]
     },
     "execution_count": 35,
     "metadata": {},
     "output_type": "execute_result"
    }
   ],
   "source": [
    "train_scaled.head()"
   ]
  },
  {
   "cell_type": "code",
   "execution_count": 36,
   "metadata": {
    "scrolled": false
   },
   "outputs": [
    {
     "data": {
      "image/png": "[encoded data removed]",
      "text/plain": [
       "<Figure size 720x720 with 2 Axes>"
      ]
     },
     "metadata": {
      "needs_background": "light"
     },
     "output_type": "display_data"
    }
   ],
   "source": [
    "#let see the correlation\n",
    "plt.figure(figsize=(10,10))\n",
    "e.heatmap(train_scaled)"
   ]
  },
  {
   "cell_type": "markdown",
   "metadata": {},
   "source": [
    "Features in order with more correlation with the target:\n",
    "\n",
    "    - 1. sq_ft\n",
    "    - 2. n_bathrooms\n",
    "    - 3. n_bedrooms\n",
    "    \n",
    "-  Strong correlation between n_bathrooms and sq_ft"
   ]
  },
  {
   "cell_type": "code",
   "execution_count": 37,
   "metadata": {
    "scrolled": false
   },
   "outputs": [
    {
     "data": {
      "text/plain": [
       "<Figure size 1296x1152 with 0 Axes>"
      ]
     },
     "metadata": {},
     "output_type": "display_data"
    },
    {
     "data": {
      "image/png": "[encoded data removed]",
      "text/plain": [
       "<Figure size 720x720 with 14 Axes>"
      ]
     },
     "metadata": {
      "needs_background": "light"
     },
     "output_type": "display_data"
    }
   ],
   "source": [
    "#as all my columns are continuous I use pairplot.\n",
    "plt.figure(figsize=(18,16))\n",
    "sns.pairplot(train_scaled, kind=\"reg\", plot_kws={'line_kws':{'color':'red'}}, corner=True)\n",
    "plt.show()"
   ]
  },
  {
   "cell_type": "markdown",
   "metadata": {},
   "source": [
    "**Takeaways**\n",
    "\n",
    "we can vizualize the correlation between features and features with our target(assessed_value_usd)\n",
    "- sq_ft has more correlation with our target\n",
    "- sq_ft has higher correlation n_bathrooms"
   ]
  },
  {
   "cell_type": "markdown",
   "metadata": {},
   "source": [
    "## Statistical Tests"
   ]
  },
  {
   "cell_type": "markdown",
   "metadata": {},
   "source": [
    "### - T-test"
   ]
  },
  {
   "cell_type": "markdown",
   "metadata": {},
   "source": [
    " **Is any diference in  the average of assessed_value_usd  for 2   bedrooms  vs 3 o bedrooms properties?**\n"
   ]
  },
  {
   "cell_type": "markdown",
   "metadata": {},
   "source": [
    "- 𝐻𝑜 : There is no difference in  the average of assessed_value_usd  for the properties with  3  bedrooms  vs 2 bedrooms\n",
    "- 𝐻𝑎 : There is significant  difference in  the average of assessed_value_usd  for the properties with  3  bedrooms  vs 2 bedrooms\n",
    "\n",
    "\n",
    "\n",
    "- **continous** = assessed_value_usd \n",
    "- **categorical** = 2 groups ( bedroom_2, bedroom_3)  \n",
    "- **continous vs categorical** = 2-tailed (significantly different) , 2-sample (comparing 2 groups) t-test."
   ]
  },
  {
   "cell_type": "markdown",
   "metadata": {},
   "source": [
    "1. Set Significance Level: $\\alpha = .05$ (in other words Confidence level is 0.95)\n",
    "\n",
    "2. Verify Assumptions:\n",
    "\n",
    "    - Normal Distribution, or at least 30 observations and \"kinda\" normal. The more observations you have, the less \"normal\" it needs to appear. (CLT)\n",
    "    - Independent samples\n",
    "    - Equal Variances (or set method argument to False when not)\n",
    "3. Compute test statistic and probability (t-statistic & p-value) using stats.ttest_ind"
   ]
  },
  {
   "cell_type": "code",
   "execution_count": 38,
   "metadata": {},
   "outputs": [],
   "source": [
    "# Set Significance Level\n",
    "alpha = 0.05"
   ]
  },
  {
   "cell_type": "code",
   "execution_count": 39,
   "metadata": {},
   "outputs": [
    {
     "data": {
      "text/html": [
       "<div>\n",
       "<style scoped>\n",
       "    .dataframe tbody tr th:only-of-type {\n",
       "        vertical-align: middle;\n",
       "    }\n",
       "\n",
       "    .dataframe tbody tr th {\n",
       "        vertical-align: top;\n",
       "    }\n",
       "\n",
       "    .dataframe thead th {\n",
       "        text-align: right;\n",
       "    }\n",
       "</style>\n",
       "<table border=\"1\" class=\"dataframe\">\n",
       "  <thead>\n",
       "    <tr style=\"text-align: right;\">\n",
       "      <th></th>\n",
       "      <th>n_bedrooms</th>\n",
       "      <th>n_bathrooms</th>\n",
       "      <th>sq_ft</th>\n",
       "      <th>assessed_valure_usd</th>\n",
       "    </tr>\n",
       "  </thead>\n",
       "  <tbody>\n",
       "    <tr>\n",
       "      <th>26382</th>\n",
       "      <td>0.0</td>\n",
       "      <td>0.5</td>\n",
       "      <td>-0.288023</td>\n",
       "      <td>225691.0</td>\n",
       "    </tr>\n",
       "    <tr>\n",
       "      <th>8272</th>\n",
       "      <td>1.0</td>\n",
       "      <td>2.5</td>\n",
       "      <td>1.895437</td>\n",
       "      <td>824059.0</td>\n",
       "    </tr>\n",
       "    <tr>\n",
       "      <th>15498</th>\n",
       "      <td>0.0</td>\n",
       "      <td>0.0</td>\n",
       "      <td>0.329848</td>\n",
       "      <td>161841.0</td>\n",
       "    </tr>\n",
       "    <tr>\n",
       "      <th>13792</th>\n",
       "      <td>2.0</td>\n",
       "      <td>1.0</td>\n",
       "      <td>-0.157795</td>\n",
       "      <td>345429.0</td>\n",
       "    </tr>\n",
       "    <tr>\n",
       "      <th>18279</th>\n",
       "      <td>-1.0</td>\n",
       "      <td>-1.0</td>\n",
       "      <td>-0.095057</td>\n",
       "      <td>477466.0</td>\n",
       "    </tr>\n",
       "  </tbody>\n",
       "</table>\n",
       "</div>"
      ],
      "text/plain": [
       "       n_bedrooms  n_bathrooms     sq_ft  assessed_valure_usd\n",
       "26382         0.0          0.5 -0.288023             225691.0\n",
       "8272          1.0          2.5  1.895437             824059.0\n",
       "15498         0.0          0.0  0.329848             161841.0\n",
       "13792         2.0          1.0 -0.157795             345429.0\n",
       "18279        -1.0         -1.0 -0.095057             477466.0"
      ]
     },
     "execution_count": 39,
     "metadata": {},
     "output_type": "execute_result"
    }
   ],
   "source": [
    "train_scaled.head()"
   ]
  },
  {
   "cell_type": "code",
   "execution_count": 40,
   "metadata": {},
   "outputs": [],
   "source": [
    "#create my groups\n",
    "bedroom_2 = train_scaled[train_scaled.n_bedrooms == 2].assessed_valure_usd\n",
    "bedroom_3 = train_scaled[train_scaled.n_bedrooms ==3 ].assessed_valure_usd"
   ]
  },
  {
   "cell_type": "code",
   "execution_count": 41,
   "metadata": {},
   "outputs": [
    {
     "data": {
      "text/plain": [
       "((1222,), (183,))"
      ]
     },
     "execution_count": 41,
     "metadata": {},
     "output_type": "execute_result"
    }
   ],
   "source": [
    "#Normal Distribution\n",
    "bedroom_2.shape, bedroom_3.shape"
   ]
  },
  {
   "cell_type": "code",
   "execution_count": 42,
   "metadata": {},
   "outputs": [
    {
     "data": {
      "text/plain": [
       "(1019661486481.7203, 3379921615882.199)"
      ]
     },
     "execution_count": 42,
     "metadata": {},
     "output_type": "execute_result"
    }
   ],
   "source": [
    "# Equal Variances (or set method argument to False when not)\n",
    "bedroom_2.var(), bedroom_3.var()"
   ]
  },
  {
   "cell_type": "code",
   "execution_count": 43,
   "metadata": {},
   "outputs": [
    {
     "data": {
      "text/plain": [
       "(-3.7034584268582034, 0.0002755138534629395)"
      ]
     },
     "execution_count": 43,
     "metadata": {},
     "output_type": "execute_result"
    }
   ],
   "source": [
    "#Compute Test Statistic\n",
    "t, p = stats.ttest_ind(bedroom_2, bedroom_3, equal_var = False)\n",
    "t,p"
   ]
  },
  {
   "cell_type": "code",
   "execution_count": 44,
   "metadata": {},
   "outputs": [
    {
     "name": "stdout",
     "output_type": "stream",
     "text": [
      "We reject the null hypothesis\n"
     ]
    }
   ],
   "source": [
    "if (p < alpha):\n",
    "    print(\"We reject the null hypothesis\")\n",
    "else:\n",
    "    print(\"We fail to reject the null hypothesis\")"
   ]
  },
  {
   "cell_type": "markdown",
   "metadata": {},
   "source": [
    "t is negative that means the average in assessed_value_usd is for 3 bedrooms is  greater  than 2 bedrooms"
   ]
  },
  {
   "cell_type": "code",
   "execution_count": 45,
   "metadata": {},
   "outputs": [
    {
     "name": "stdout",
     "output_type": "stream",
     "text": [
      "Average  assessed value  for 2 bedrooms is : $  964110.46\n",
      "Average  assessed value  for 3 bedrooms is : $ 1478663.83\n"
     ]
    }
   ],
   "source": [
    "print('Average  assessed value  for 2 bedrooms is : $ ',round( bedroom_2.mean(), 2))\n",
    "print('Average  assessed value  for 3 bedrooms is : $', round (bedroom_3.mean(), 2))"
   ]
  },
  {
   "cell_type": "markdown",
   "metadata": {},
   "source": [
    "### - Correlation"
   ]
  },
  {
   "cell_type": "markdown",
   "metadata": {},
   "source": [
    "Are bathrooms and bedrooms linearly correlated? \n",
    "- 𝐻𝑜 : There is not a linear correlation between number of bathrooms and number of bedrooms for a property.\n",
    "- 𝐻𝑎 : There is a linear correlation between number of bathrooms and number of bedrooms for a property.\n"
   ]
  },
  {
   "cell_type": "code",
   "execution_count": 46,
   "metadata": {},
   "outputs": [
    {
     "data": {
      "text/plain": [
       "(0.6440763653445709, 0.0)"
      ]
     },
     "execution_count": 46,
     "metadata": {},
     "output_type": "execute_result"
    }
   ],
   "source": [
    "r, p = stats.pearsonr(train_scaled.n_bathrooms, train_scaled.n_bedrooms)\n",
    "r, p"
   ]
  },
  {
   "cell_type": "code",
   "execution_count": 47,
   "metadata": {},
   "outputs": [
    {
     "name": "stdout",
     "output_type": "stream",
     "text": [
      "We reject the null hypothesis\n"
     ]
    }
   ],
   "source": [
    "if (p < alpha):\n",
    "    print(\"We reject the null hypothesis\")\n",
    "else:\n",
    "    print(\"We fail to reject the null hypothesis\")"
   ]
  },
  {
   "cell_type": "code",
   "execution_count": 48,
   "metadata": {},
   "outputs": [
    {
     "data": {
      "text/plain": [
       "Text(-3, 8, 'Pearson r:0.6441\\n p-stat: 0.00')"
      ]
     },
     "execution_count": 48,
     "metadata": {},
     "output_type": "execute_result"
    },
    {
     "data": {
      "image/png": "[encoded data removed]",
      "text/plain": [
       "<Figure size 360x360 with 1 Axes>"
      ]
     },
     "metadata": {
      "needs_background": "light"
     },
     "output_type": "display_data"
    }
   ],
   "source": [
    "\n",
    "sns.lmplot(x = 'n_bathrooms', y= 'n_bedrooms', data = train_scaled, line_kws={'color': 'red'})\n",
    "plt.xlabel('Bathrooms')\n",
    "plt.ylabel('Bedrooms')\n",
    "plt.title('Bathrooms vs Bedrooms')\n",
    "plt.annotate(f'Pearson r:{r:.4f}\\n p-stat: {p:.2f}', xy =(-3, 8))"
   ]
  },
  {
   "cell_type": "markdown",
   "metadata": {},
   "source": [
    "**Takeaways**\n",
    "- What independent variables are correlated with assessed_value_usd?\n",
    "    - my surprise is bathrooms have higher correlation with our target than bedrooms\n",
    "    - **sq_ft  looks to be the best predictor of our target variable**\n",
    "\n",
    "- Which independent variables are correlated with other independent variables?\n",
    "    - bathrooms and bedrooms are  correlated (if bedrooms increase  also bathrooms tend to increase)\n",
    "    - bathroom and sq_ft have stronger correlation"
   ]
  },
  {
   "cell_type": "markdown",
   "metadata": {},
   "source": [
    "______________________"
   ]
  },
  {
   "cell_type": "markdown",
   "metadata": {},
   "source": [
    "# Modeling"
   ]
  },
  {
   "cell_type": "markdown",
   "metadata": {},
   "source": [
    "### - Feature Engineering\n"
   ]
  },
  {
   "cell_type": "markdown",
   "metadata": {},
   "source": [
    "    - SelectkBest"
   ]
  },
  {
   "cell_type": "code",
   "execution_count": 49,
   "metadata": {},
   "outputs": [
    {
     "name": "stdout",
     "output_type": "stream",
     "text": [
      "The top 2 selected feautures based on the SelectKBest class are: ['n_bathrooms', 'sq_ft']\n"
     ]
    }
   ],
   "source": [
    "#using my function for SelectkBest\n",
    "top_sb =m.select_kbest(X_train_scaled, y_train, 2)"
   ]
  },
  {
   "cell_type": "code",
   "execution_count": 50,
   "metadata": {},
   "outputs": [],
   "source": [
    "from sklearn.linear_model import LinearRegression"
   ]
  },
  {
   "cell_type": "code",
   "execution_count": 51,
   "metadata": {
    "scrolled": true
   },
   "outputs": [
    {
     "name": "stdout",
     "output_type": "stream",
     "text": [
      "The top 2 selected feautures based on the the RFE class class are: ['n_bedrooms', 'sq_ft']\n",
      "n_bedrooms     1\n",
      "sq_ft          1\n",
      "n_bathrooms    2\n",
      "dtype: int64\n"
     ]
    }
   ],
   "source": [
    "#using my function for RFE\n",
    "top_rfe = m.select_rfe(X_train_scaled, y_train, 2,LinearRegression() )"
   ]
  },
  {
   "cell_type": "code",
   "execution_count": 52,
   "metadata": {},
   "outputs": [
    {
     "data": {
      "text/plain": [
       "(15731,)"
      ]
     },
     "execution_count": 52,
     "metadata": {},
     "output_type": "execute_result"
    }
   ],
   "source": [
    "y_train.shape"
   ]
  },
  {
   "cell_type": "markdown",
   "metadata": {},
   "source": [
    "### - Modeling"
   ]
  },
  {
   "cell_type": "code",
   "execution_count": 53,
   "metadata": {},
   "outputs": [
    {
     "data": {
      "image/png": "[encoded data removed]",
      "text/plain": [
       "<Figure size 720x720 with 1 Axes>"
      ]
     },
     "metadata": {
      "needs_background": "light"
     },
     "output_type": "display_data"
    }
   ],
   "source": [
    "#plot our target\n",
    "sns.displot(y_train,  kind=\"kde\", height =10 ,aspect =1, color = 'red')\n",
    "plt.xlabel(\"Value in USD (10^7)\")\n",
    "plt.ylabel(\"Number of properties\")\n",
    "plt.show()"
   ]
  },
  {
   "cell_type": "code",
   "execution_count": 54,
   "metadata": {},
   "outputs": [],
   "source": [
    "#conver y_train y _ validate to df\n",
    "y_train = pd.DataFrame( {'actual': y_train})\n",
    "y_validate = pd.DataFrame( {'actual': y_validate})\n",
    "y_test = pd.DataFrame( {'actual': y_test})"
   ]
  },
  {
   "cell_type": "markdown",
   "metadata": {},
   "source": [
    "**Baseline**"
   ]
  },
  {
   "cell_type": "markdown",
   "metadata": {},
   "source": [
    "I wil check mean and median to calculate my baseline and I will select the one that has better rmse "
   ]
  },
  {
   "cell_type": "code",
   "execution_count": 55,
   "metadata": {},
   "outputs": [
    {
     "data": {
      "text/plain": [
       "(actual    531178.103553\n",
       " dtype: float64,\n",
       " actual    381698.0\n",
       " dtype: float64)"
      ]
     },
     "execution_count": 55,
     "metadata": {},
     "output_type": "execute_result"
    }
   ],
   "source": [
    "y_train.mean(), y_train.median()"
   ]
  },
  {
   "cell_type": "code",
   "execution_count": 56,
   "metadata": {},
   "outputs": [
    {
     "data": {
      "text/plain": [
       "659828.8100870318"
      ]
     },
     "execution_count": 56,
     "metadata": {},
     "output_type": "execute_result"
    }
   ],
   "source": [
    "#create baseline using mean (I'm using my function to calculate rmse)\n",
    "tra_m = eval.baseline_errors(y_train, 'actual', 'mean')\n",
    "tra_m['rmse']"
   ]
  },
  {
   "cell_type": "code",
   "execution_count": 57,
   "metadata": {},
   "outputs": [
    {
     "data": {
      "text/plain": [
       "719836.6015413993"
      ]
     },
     "execution_count": 57,
     "metadata": {},
     "output_type": "execute_result"
    }
   ],
   "source": [
    "#let's calculate baseline in validate\n",
    "val_m = eval.baseline_errors(y_validate, 'actual', 'mean')\n",
    "val_m['rmse']"
   ]
  },
  {
   "cell_type": "code",
   "execution_count": 58,
   "metadata": {},
   "outputs": [
    {
     "data": {
      "text/plain": [
       "676548.8600088181"
      ]
     },
     "execution_count": 58,
     "metadata": {},
     "output_type": "execute_result"
    }
   ],
   "source": [
    "#create baseline using median\n",
    "tra = eval.baseline_errors(y_train, 'actual', 'median')\n",
    "tra['rmse']"
   ]
  },
  {
   "cell_type": "code",
   "execution_count": 59,
   "metadata": {},
   "outputs": [
    {
     "data": {
      "text/plain": [
       "735456.3529466464"
      ]
     },
     "execution_count": 59,
     "metadata": {},
     "output_type": "execute_result"
    }
   ],
   "source": [
    "#using median in validate\n",
    "val = eval.baseline_errors(y_validate, 'actual', 'median')\n",
    "val['rmse']"
   ]
  },
  {
   "cell_type": "markdown",
   "metadata": {},
   "source": [
    "**I will select mean for my baseline**"
   ]
  },
  {
   "cell_type": "code",
   "execution_count": 60,
   "metadata": {
    "scrolled": false
   },
   "outputs": [
    {
     "data": {
      "text/html": [
       "<div>\n",
       "<style scoped>\n",
       "    .dataframe tbody tr th:only-of-type {\n",
       "        vertical-align: middle;\n",
       "    }\n",
       "\n",
       "    .dataframe tbody tr th {\n",
       "        vertical-align: top;\n",
       "    }\n",
       "\n",
       "    .dataframe thead th {\n",
       "        text-align: right;\n",
       "    }\n",
       "</style>\n",
       "<table border=\"1\" class=\"dataframe\">\n",
       "  <thead>\n",
       "    <tr style=\"text-align: right;\">\n",
       "      <th></th>\n",
       "      <th>actual</th>\n",
       "      <th>yhat_baseline_mean</th>\n",
       "      <th>yhat_baseline_median</th>\n",
       "    </tr>\n",
       "  </thead>\n",
       "  <tbody>\n",
       "    <tr>\n",
       "      <th>26382</th>\n",
       "      <td>225691.0</td>\n",
       "      <td>531178.103553</td>\n",
       "      <td>381698.0</td>\n",
       "    </tr>\n",
       "    <tr>\n",
       "      <th>8272</th>\n",
       "      <td>824059.0</td>\n",
       "      <td>531178.103553</td>\n",
       "      <td>381698.0</td>\n",
       "    </tr>\n",
       "    <tr>\n",
       "      <th>15498</th>\n",
       "      <td>161841.0</td>\n",
       "      <td>531178.103553</td>\n",
       "      <td>381698.0</td>\n",
       "    </tr>\n",
       "    <tr>\n",
       "      <th>13792</th>\n",
       "      <td>345429.0</td>\n",
       "      <td>531178.103553</td>\n",
       "      <td>381698.0</td>\n",
       "    </tr>\n",
       "    <tr>\n",
       "      <th>18279</th>\n",
       "      <td>477466.0</td>\n",
       "      <td>531178.103553</td>\n",
       "      <td>381698.0</td>\n",
       "    </tr>\n",
       "  </tbody>\n",
       "</table>\n",
       "</div>"
      ],
      "text/plain": [
       "         actual  yhat_baseline_mean  yhat_baseline_median\n",
       "26382  225691.0       531178.103553              381698.0\n",
       "8272   824059.0       531178.103553              381698.0\n",
       "15498  161841.0       531178.103553              381698.0\n",
       "13792  345429.0       531178.103553              381698.0\n",
       "18279  477466.0       531178.103553              381698.0"
      ]
     },
     "execution_count": 60,
     "metadata": {},
     "output_type": "execute_result"
    }
   ],
   "source": [
    "y_train.head()"
   ]
  },
  {
   "cell_type": "code",
   "execution_count": 61,
   "metadata": {},
   "outputs": [],
   "source": [
    "metric_df = pd.DataFrame(data = [{\n",
    "    'model': 'mean_baseline',\n",
    "    'rmse_train' : tra['rmse'],\n",
    "    'rmse_validate': val_m['rmse'],\n",
    "    'rmse_difference' : abs(round(tra['rmse'] - val_m['rmse'], 4)),\n",
    "    'r^2_validate' : val_m['r2']}])"
   ]
  },
  {
   "cell_type": "code",
   "execution_count": 62,
   "metadata": {},
   "outputs": [
    {
     "data": {
      "text/html": [
       "<div>\n",
       "<style scoped>\n",
       "    .dataframe tbody tr th:only-of-type {\n",
       "        vertical-align: middle;\n",
       "    }\n",
       "\n",
       "    .dataframe tbody tr th {\n",
       "        vertical-align: top;\n",
       "    }\n",
       "\n",
       "    .dataframe thead th {\n",
       "        text-align: right;\n",
       "    }\n",
       "</style>\n",
       "<table border=\"1\" class=\"dataframe\">\n",
       "  <thead>\n",
       "    <tr style=\"text-align: right;\">\n",
       "      <th></th>\n",
       "      <th>model</th>\n",
       "      <th>rmse_train</th>\n",
       "      <th>rmse_validate</th>\n",
       "      <th>rmse_difference</th>\n",
       "      <th>r^2_validate</th>\n",
       "    </tr>\n",
       "  </thead>\n",
       "  <tbody>\n",
       "    <tr>\n",
       "      <th>0</th>\n",
       "      <td>mean_baseline</td>\n",
       "      <td>676548.860009</td>\n",
       "      <td>719836.601541</td>\n",
       "      <td>43287.7415</td>\n",
       "      <td>0.0</td>\n",
       "    </tr>\n",
       "  </tbody>\n",
       "</table>\n",
       "</div>"
      ],
      "text/plain": [
       "           model     rmse_train  rmse_validate  rmse_difference  r^2_validate\n",
       "0  mean_baseline  676548.860009  719836.601541       43287.7415           0.0"
      ]
     },
     "execution_count": 62,
     "metadata": {},
     "output_type": "execute_result"
    }
   ],
   "source": [
    "metric_df"
   ]
  },
  {
   "cell_type": "markdown",
   "metadata": {},
   "source": [
    "#### Model1: LinearRegression (OLS)"
   ]
  },
  {
   "cell_type": "code",
   "execution_count": 63,
   "metadata": {
    "scrolled": true
   },
   "outputs": [
    {
     "data": {
      "text/plain": [
       "514223.070384048"
      ]
     },
     "execution_count": 63,
     "metadata": {},
     "output_type": "execute_result"
    }
   ],
   "source": [
    "#using selected features with selectk best\n",
    "ols_sb = m.create_model(X_train_scaled[top_sb], y_train, 'actual', LinearRegression(normalize=True), 'modelOLS' )\n",
    "ols_sb['rmse']"
   ]
  },
  {
   "cell_type": "code",
   "execution_count": 64,
   "metadata": {},
   "outputs": [
    {
     "name": "stdout",
     "output_type": "stream",
     "text": [
      "The top 2 selected feautures based on the the RFE class class are: ['n_bedrooms', 'sq_ft']\n",
      "n_bedrooms     1\n",
      "sq_ft          1\n",
      "n_bathrooms    2\n",
      "dtype: int64\n"
     ]
    }
   ],
   "source": [
    "#using my function for RFE\n",
    "top_rfe = m.select_rfe(X_train_scaled, y_train, 2,LinearRegression(normalize=True) )\n"
   ]
  },
  {
   "cell_type": "code",
   "execution_count": 65,
   "metadata": {},
   "outputs": [
    {
     "data": {
      "text/plain": [
       "505329.6068567074"
      ]
     },
     "execution_count": 65,
     "metadata": {},
     "output_type": "execute_result"
    }
   ],
   "source": [
    "ols_rfe = m.create_model(X_train_scaled[top_rfe], y_train, 'actual', LinearRegression(normalize=True), 'modelOLS' )\n",
    "ols_rfe['rmse']"
   ]
  },
  {
   "cell_type": "code",
   "execution_count": 66,
   "metadata": {},
   "outputs": [],
   "source": [
    "#I will calcaulate validate with top_rfe \n",
    "ols_val = m.create_model(X_validate_scaled[top_rfe], y_validate, 'actual', LinearRegression(normalize=True), 'modelOLS' )"
   ]
  },
  {
   "cell_type": "code",
   "execution_count": 67,
   "metadata": {},
   "outputs": [
    {
     "name": "stdout",
     "output_type": "stream",
     "text": [
      "Train rmse:   505329.6068567074\n",
      "validate rmse 569058.3148635708\n"
     ]
    }
   ],
   "source": [
    "print('Train rmse:  ',ols_rfe['rmse'])\n",
    "print('validate rmse', ols_val['rmse'])"
   ]
  },
  {
   "cell_type": "code",
   "execution_count": 68,
   "metadata": {},
   "outputs": [],
   "source": [
    "metric_df = metric_df.append(\n",
    "    {\n",
    "    'model': 'ols',\n",
    "    'rmse_train': ols_rfe['rmse'],    \n",
    "    'rmse_validate': ols_val['rmse'],\n",
    "    'rmse_difference' : abs(round(ols_rfe['rmse'] - ols_val['rmse'], 4)),\n",
    "    'r^2_validate' : ols_val['r2']}, ignore_index=True)"
   ]
  },
  {
   "cell_type": "markdown",
   "metadata": {},
   "source": [
    "### LassoLars"
   ]
  },
  {
   "cell_type": "code",
   "execution_count": 69,
   "metadata": {},
   "outputs": [
    {
     "data": {
      "text/plain": [
       "514223.0869124893"
      ]
     },
     "execution_count": 69,
     "metadata": {},
     "output_type": "execute_result"
    }
   ],
   "source": [
    "#using selected features with selectk best\n",
    "lasso_sb = m.create_model(X_train_scaled[top_sb], y_train, 'actual', LassoLars(alpha=1), 'model_lasso' )\n",
    "lasso_sb['rmse']"
   ]
  },
  {
   "cell_type": "code",
   "execution_count": 70,
   "metadata": {
    "scrolled": true
   },
   "outputs": [
    {
     "name": "stdout",
     "output_type": "stream",
     "text": [
      "The top 2 selected feautures based on the the RFE class class are: ['n_bedrooms', 'sq_ft']\n",
      "n_bedrooms     1\n",
      "sq_ft          1\n",
      "n_bathrooms    2\n",
      "dtype: int64\n"
     ]
    }
   ],
   "source": [
    "#using my function for RFE\n",
    "top_rfe = m.select_rfe(X_train_scaled, y_train, 2,  LassoLars(alpha=1) )"
   ]
  },
  {
   "cell_type": "code",
   "execution_count": 71,
   "metadata": {},
   "outputs": [
    {
     "data": {
      "text/plain": [
       "505329.69106156"
      ]
     },
     "execution_count": 71,
     "metadata": {},
     "output_type": "execute_result"
    }
   ],
   "source": [
    "lasso_rfe = m.create_model(X_train_scaled[top_rfe], y_train, 'actual', LassoLars(alpha=1), 'model_lasso' )\n",
    "lasso_rfe['rmse']"
   ]
  },
  {
   "cell_type": "code",
   "execution_count": 72,
   "metadata": {},
   "outputs": [],
   "source": [
    "#validate\n",
    "lasso_val = m.create_model(X_validate_scaled[top_rfe], y_validate, 'actual', LassoLars(alpha=1), 'model_lasso' )"
   ]
  },
  {
   "cell_type": "code",
   "execution_count": 73,
   "metadata": {},
   "outputs": [
    {
     "name": "stdout",
     "output_type": "stream",
     "text": [
      "Train rmse:   505329.69106156\n",
      "validate rmse 569058.3467468194\n"
     ]
    }
   ],
   "source": [
    "print('Train rmse:  ',lasso_rfe['rmse'])\n",
    "print('validate rmse', lasso_val['rmse'])"
   ]
  },
  {
   "cell_type": "code",
   "execution_count": 74,
   "metadata": {},
   "outputs": [],
   "source": [
    "metric_df = metric_df.append(\n",
    "    {\n",
    "    'model': 'lasso',\n",
    "    'rmse_train': lasso_rfe['rmse'],\n",
    "    'rmse_validate': lasso_val['rmse'],\n",
    "    'rmse_difference' :abs( round(lasso_rfe['rmse'] - lasso_val['rmse'], 4)),\n",
    "    'r^2_validate' : lasso_val['r2']}, ignore_index = True)\n"
   ]
  },
  {
   "cell_type": "markdown",
   "metadata": {},
   "source": [
    "\n",
    "### TweedieRegressor (GLM)\n"
   ]
  },
  {
   "cell_type": "code",
   "execution_count": 75,
   "metadata": {},
   "outputs": [],
   "source": [
    "#train\n",
    "glm_train = m.create_model(X_train_scaled[top_rfe], y_train, \n",
    "                           'actual', TweedieRegressor(power=0, alpha=0), 'model_glm' )"
   ]
  },
  {
   "cell_type": "code",
   "execution_count": 76,
   "metadata": {},
   "outputs": [],
   "source": [
    "#validate\n",
    "glm_val = m.create_model(X_validate_scaled[top_rfe], y_validate, \n",
    "                         'actual', TweedieRegressor(power=0, alpha=0), 'model_glm' )\n",
    "\n"
   ]
  },
  {
   "cell_type": "code",
   "execution_count": 77,
   "metadata": {
    "scrolled": true
   },
   "outputs": [
    {
     "name": "stdout",
     "output_type": "stream",
     "text": [
      "Train rmse:   505329.6068567074\n",
      "validate rmse 569058.3148635708\n"
     ]
    }
   ],
   "source": [
    "print('Train rmse:  ',glm_train['rmse'])\n",
    "print('validate rmse', glm_val['rmse'])"
   ]
  },
  {
   "cell_type": "code",
   "execution_count": 78,
   "metadata": {},
   "outputs": [],
   "source": [
    "metric_df = metric_df.append(\n",
    "    {\n",
    "    'model': 'glm',\n",
    "    'rmse_train' : glm_train['rmse'],   \n",
    "    'rmse_validate': glm_val['rmse'],\n",
    "    'rmse_difference' : abs(round(glm_train['rmse'] - glm_val['rmse'], 4)),\n",
    "    'r^2_validate' : glm_val['r2']}, ignore_index = True)"
   ]
  },
  {
   "cell_type": "code",
   "execution_count": 79,
   "metadata": {},
   "outputs": [
    {
     "data": {
      "text/html": [
       "<div>\n",
       "<style scoped>\n",
       "    .dataframe tbody tr th:only-of-type {\n",
       "        vertical-align: middle;\n",
       "    }\n",
       "\n",
       "    .dataframe tbody tr th {\n",
       "        vertical-align: top;\n",
       "    }\n",
       "\n",
       "    .dataframe thead th {\n",
       "        text-align: right;\n",
       "    }\n",
       "</style>\n",
       "<table border=\"1\" class=\"dataframe\">\n",
       "  <thead>\n",
       "    <tr style=\"text-align: right;\">\n",
       "      <th></th>\n",
       "      <th>model</th>\n",
       "      <th>rmse_train</th>\n",
       "      <th>rmse_validate</th>\n",
       "      <th>rmse_difference</th>\n",
       "      <th>r^2_validate</th>\n",
       "    </tr>\n",
       "  </thead>\n",
       "  <tbody>\n",
       "    <tr>\n",
       "      <th>0</th>\n",
       "      <td>mean_baseline</td>\n",
       "      <td>676548.860009</td>\n",
       "      <td>719836.601541</td>\n",
       "      <td>43287.7415</td>\n",
       "      <td>0.000000</td>\n",
       "    </tr>\n",
       "    <tr>\n",
       "      <th>1</th>\n",
       "      <td>ols</td>\n",
       "      <td>505329.606857</td>\n",
       "      <td>569058.314864</td>\n",
       "      <td>63728.7080</td>\n",
       "      <td>0.375049</td>\n",
       "    </tr>\n",
       "    <tr>\n",
       "      <th>2</th>\n",
       "      <td>lasso</td>\n",
       "      <td>505329.691062</td>\n",
       "      <td>569058.346747</td>\n",
       "      <td>63728.6557</td>\n",
       "      <td>0.374850</td>\n",
       "    </tr>\n",
       "    <tr>\n",
       "      <th>3</th>\n",
       "      <td>glm</td>\n",
       "      <td>505329.606857</td>\n",
       "      <td>569058.314864</td>\n",
       "      <td>63728.7080</td>\n",
       "      <td>0.375049</td>\n",
       "    </tr>\n",
       "  </tbody>\n",
       "</table>\n",
       "</div>"
      ],
      "text/plain": [
       "           model     rmse_train  rmse_validate  rmse_difference  r^2_validate\n",
       "0  mean_baseline  676548.860009  719836.601541       43287.7415      0.000000\n",
       "1            ols  505329.606857  569058.314864       63728.7080      0.375049\n",
       "2          lasso  505329.691062  569058.346747       63728.6557      0.374850\n",
       "3            glm  505329.606857  569058.314864       63728.7080      0.375049"
      ]
     },
     "execution_count": 79,
     "metadata": {},
     "output_type": "execute_result"
    }
   ],
   "source": [
    "metric_df"
   ]
  },
  {
   "cell_type": "markdown",
   "metadata": {},
   "source": [
    "### Polynomial Regression"
   ]
  },
  {
   "cell_type": "code",
   "execution_count": 80,
   "metadata": {},
   "outputs": [],
   "source": [
    "# make the polynomial features to get a new set of features\n",
    "pf = PolynomialFeatures(degree = 21) \n",
    "\n",
    "# fit and transform X_train_scaled\n",
    "X_train_degree2 = pf.fit_transform(X_train_scaled)\n",
    "\n",
    "# transform X_validate_scaled & X_test_scaled\n",
    "X_validate_degree2 = pf.transform(X_validate_scaled)\n",
    "X_test_degree2 = pf.transform(X_test_scaled)"
   ]
  },
  {
   "cell_type": "code",
   "execution_count": 81,
   "metadata": {},
   "outputs": [],
   "source": [
    "\n",
    "#train\n",
    "pol_reg_train =  m.create_model(X_train_degree2, y_train, \n",
    "                                'actual', LinearRegression(normalize=True), 'model_polreg' )"
   ]
  },
  {
   "cell_type": "code",
   "execution_count": 82,
   "metadata": {},
   "outputs": [],
   "source": [
    "#validate\n",
    "pol_reg_val =  m.create_model(X_validate_degree2, \n",
    "                              y_validate, 'actual',LinearRegression(normalize=True), 'model_polreg' )"
   ]
  },
  {
   "cell_type": "code",
   "execution_count": 83,
   "metadata": {
    "scrolled": true
   },
   "outputs": [
    {
     "name": "stdout",
     "output_type": "stream",
     "text": [
      "Train rmse:   413107.37394136115\n",
      "validate rmse 420844.93456983095\n"
     ]
    }
   ],
   "source": [
    "print('Train rmse:  ',pol_reg_train['rmse'])\n",
    "print('validate rmse', pol_reg_val['rmse'])"
   ]
  },
  {
   "cell_type": "code",
   "execution_count": 84,
   "metadata": {},
   "outputs": [],
   "source": [
    "metric_df = metric_df.append(\n",
    "    {\n",
    "    'model': 'pol_reg',\n",
    "    'rmse_train': pol_reg_train['rmse'],\n",
    "    'rmse_validate': pol_reg_val['rmse'],\n",
    "    'rmse_difference' : abs(round(pol_reg_train['rmse'] - pol_reg_val['rmse'], 4)),\n",
    "    'r^2_validate' : pol_reg_val['r2']},  ignore_index = True)"
   ]
  },
  {
   "cell_type": "code",
   "execution_count": 85,
   "metadata": {
    "scrolled": true
   },
   "outputs": [
    {
     "data": {
      "text/html": [
       "<div>\n",
       "<style scoped>\n",
       "    .dataframe tbody tr th:only-of-type {\n",
       "        vertical-align: middle;\n",
       "    }\n",
       "\n",
       "    .dataframe tbody tr th {\n",
       "        vertical-align: top;\n",
       "    }\n",
       "\n",
       "    .dataframe thead th {\n",
       "        text-align: right;\n",
       "    }\n",
       "</style>\n",
       "<table border=\"1\" class=\"dataframe\">\n",
       "  <thead>\n",
       "    <tr style=\"text-align: right;\">\n",
       "      <th></th>\n",
       "      <th>model</th>\n",
       "      <th>rmse_train</th>\n",
       "      <th>rmse_validate</th>\n",
       "      <th>rmse_difference</th>\n",
       "      <th>r^2_validate</th>\n",
       "    </tr>\n",
       "  </thead>\n",
       "  <tbody>\n",
       "    <tr>\n",
       "      <th>0</th>\n",
       "      <td>mean_baseline</td>\n",
       "      <td>676548.860009</td>\n",
       "      <td>719836.601541</td>\n",
       "      <td>43287.7415</td>\n",
       "      <td>0.000000</td>\n",
       "    </tr>\n",
       "    <tr>\n",
       "      <th>1</th>\n",
       "      <td>ols</td>\n",
       "      <td>505329.606857</td>\n",
       "      <td>569058.314864</td>\n",
       "      <td>63728.7080</td>\n",
       "      <td>0.375049</td>\n",
       "    </tr>\n",
       "    <tr>\n",
       "      <th>2</th>\n",
       "      <td>lasso</td>\n",
       "      <td>505329.691062</td>\n",
       "      <td>569058.346747</td>\n",
       "      <td>63728.6557</td>\n",
       "      <td>0.374850</td>\n",
       "    </tr>\n",
       "    <tr>\n",
       "      <th>3</th>\n",
       "      <td>glm</td>\n",
       "      <td>505329.606857</td>\n",
       "      <td>569058.314864</td>\n",
       "      <td>63728.7080</td>\n",
       "      <td>0.375049</td>\n",
       "    </tr>\n",
       "    <tr>\n",
       "      <th>4</th>\n",
       "      <td>pol_reg</td>\n",
       "      <td>413107.373941</td>\n",
       "      <td>420844.934570</td>\n",
       "      <td>7737.5606</td>\n",
       "      <td>0.673252</td>\n",
       "    </tr>\n",
       "  </tbody>\n",
       "</table>\n",
       "</div>"
      ],
      "text/plain": [
       "           model     rmse_train  rmse_validate  rmse_difference  r^2_validate\n",
       "0  mean_baseline  676548.860009  719836.601541       43287.7415      0.000000\n",
       "1            ols  505329.606857  569058.314864       63728.7080      0.375049\n",
       "2          lasso  505329.691062  569058.346747       63728.6557      0.374850\n",
       "3            glm  505329.606857  569058.314864       63728.7080      0.375049\n",
       "4        pol_reg  413107.373941  420844.934570        7737.5606      0.673252"
      ]
     },
     "execution_count": 85,
     "metadata": {},
     "output_type": "execute_result"
    }
   ],
   "source": [
    "metric_df"
   ]
  },
  {
   "cell_type": "markdown",
   "metadata": {},
   "source": [
    "**Takeaway**\n",
    "I was changing degree argument . I started in 2 and was incrementing.If I have more time I can create a function"
   ]
  },
  {
   "cell_type": "code",
   "execution_count": 86,
   "metadata": {
    "scrolled": false
   },
   "outputs": [
    {
     "name": "stdout",
     "output_type": "stream",
     "text": [
      "These are the models that perform better than our baseline rmse: 719836.6015413993\n"
     ]
    },
    {
     "data": {
      "text/html": [
       "<table border=\"1\" class=\"dataframe\">\n",
       "  <thead>\n",
       "    <tr style=\"text-align: right;\">\n",
       "      <th></th>\n",
       "      <th>model</th>\n",
       "      <th>rmse_validate</th>\n",
       "    </tr>\n",
       "  </thead>\n",
       "  <tbody>\n",
       "    <tr>\n",
       "      <th>1</th>\n",
       "      <td>ols</td>\n",
       "      <td>569058.314864</td>\n",
       "    </tr>\n",
       "    <tr>\n",
       "      <th>2</th>\n",
       "      <td>lasso</td>\n",
       "      <td>569058.346747</td>\n",
       "    </tr>\n",
       "    <tr>\n",
       "      <th>3</th>\n",
       "      <td>glm</td>\n",
       "      <td>569058.314864</td>\n",
       "    </tr>\n",
       "    <tr>\n",
       "      <th>4</th>\n",
       "      <td>pol_reg</td>\n",
       "      <td>420844.934570</td>\n",
       "    </tr>\n",
       "  </tbody>\n",
       "</table>"
      ],
      "text/plain": [
       "<IPython.core.display.HTML object>"
      ]
     },
     "metadata": {},
     "output_type": "display_data"
    },
    {
     "name": "stdout",
     "output_type": "stream",
     "text": [
      "-----------------------------------------------------------------------------------------------\n",
      "   ********** The model with the less  rmse_validate  is pol_reg  rmse:420844.93 **********             \n",
      "-----------------------------------------------------------------------------------------------\n",
      " \n",
      "The model with r^2 validate closer to 1 is  pol_reg\n"
     ]
    },
    {
     "data": {
      "text/html": [
       "<table border=\"1\" class=\"dataframe\">\n",
       "  <thead>\n",
       "    <tr style=\"text-align: right;\">\n",
       "      <th></th>\n",
       "      <th>model</th>\n",
       "      <th>rmse_train</th>\n",
       "      <th>rmse_validate</th>\n",
       "      <th>rmse_difference</th>\n",
       "      <th>r^2_validate</th>\n",
       "    </tr>\n",
       "  </thead>\n",
       "  <tbody>\n",
       "    <tr>\n",
       "      <th>0</th>\n",
       "      <td>mean_baseline</td>\n",
       "      <td>676548.860009</td>\n",
       "      <td>719836.601541</td>\n",
       "      <td>43287.7415</td>\n",
       "      <td>0.000000</td>\n",
       "    </tr>\n",
       "    <tr>\n",
       "      <th>1</th>\n",
       "      <td>ols</td>\n",
       "      <td>505329.606857</td>\n",
       "      <td>569058.314864</td>\n",
       "      <td>63728.7080</td>\n",
       "      <td>0.375049</td>\n",
       "    </tr>\n",
       "    <tr>\n",
       "      <th>2</th>\n",
       "      <td>lasso</td>\n",
       "      <td>505329.691062</td>\n",
       "      <td>569058.346747</td>\n",
       "      <td>63728.6557</td>\n",
       "      <td>0.374850</td>\n",
       "    </tr>\n",
       "    <tr>\n",
       "      <th>3</th>\n",
       "      <td>glm</td>\n",
       "      <td>505329.606857</td>\n",
       "      <td>569058.314864</td>\n",
       "      <td>63728.7080</td>\n",
       "      <td>0.375049</td>\n",
       "    </tr>\n",
       "    <tr>\n",
       "      <th>4</th>\n",
       "      <td>pol_reg</td>\n",
       "      <td>413107.373941</td>\n",
       "      <td>420844.934570</td>\n",
       "      <td>7737.5606</td>\n",
       "      <td>0.673252</td>\n",
       "    </tr>\n",
       "  </tbody>\n",
       "</table>"
      ],
      "text/plain": [
       "<IPython.core.display.HTML object>"
      ]
     },
     "metadata": {},
     "output_type": "display_data"
    }
   ],
   "source": [
    "m.report (metric_df)"
   ]
  },
  {
   "cell_type": "code",
   "execution_count": 87,
   "metadata": {},
   "outputs": [],
   "source": [
    "# I'm going to test my best model"
   ]
  },
  {
   "cell_type": "code",
   "execution_count": 88,
   "metadata": {},
   "outputs": [
    {
     "data": {
      "text/html": [
       "<div>\n",
       "<style scoped>\n",
       "    .dataframe tbody tr th:only-of-type {\n",
       "        vertical-align: middle;\n",
       "    }\n",
       "\n",
       "    .dataframe tbody tr th {\n",
       "        vertical-align: top;\n",
       "    }\n",
       "\n",
       "    .dataframe thead th {\n",
       "        text-align: right;\n",
       "    }\n",
       "</style>\n",
       "<table border=\"1\" class=\"dataframe\">\n",
       "  <thead>\n",
       "    <tr style=\"text-align: right;\">\n",
       "      <th></th>\n",
       "      <th>actual</th>\n",
       "    </tr>\n",
       "  </thead>\n",
       "  <tbody>\n",
       "    <tr>\n",
       "      <th>24154</th>\n",
       "      <td>634530.0</td>\n",
       "    </tr>\n",
       "    <tr>\n",
       "      <th>14152</th>\n",
       "      <td>264220.0</td>\n",
       "    </tr>\n",
       "    <tr>\n",
       "      <th>6474</th>\n",
       "      <td>1531000.0</td>\n",
       "    </tr>\n",
       "    <tr>\n",
       "      <th>13011</th>\n",
       "      <td>320904.0</td>\n",
       "    </tr>\n",
       "    <tr>\n",
       "      <th>9920</th>\n",
       "      <td>221196.0</td>\n",
       "    </tr>\n",
       "  </tbody>\n",
       "</table>\n",
       "</div>"
      ],
      "text/plain": [
       "          actual\n",
       "24154   634530.0\n",
       "14152   264220.0\n",
       "6474   1531000.0\n",
       "13011   320904.0\n",
       "9920    221196.0"
      ]
     },
     "execution_count": 88,
     "metadata": {},
     "output_type": "execute_result"
    }
   ],
   "source": [
    "y_test.head()"
   ]
  },
  {
   "cell_type": "code",
   "execution_count": 89,
   "metadata": {},
   "outputs": [],
   "source": [
    "pol_reg_test =  m.create_model(X_test_degree2, \n",
    "                              y_test, 'actual',LinearRegression(normalize=True), 'model_polreg' )"
   ]
  },
  {
   "cell_type": "code",
   "execution_count": 90,
   "metadata": {},
   "outputs": [
    {
     "data": {
      "text/html": [
       "<div>\n",
       "<style scoped>\n",
       "    .dataframe tbody tr th:only-of-type {\n",
       "        vertical-align: middle;\n",
       "    }\n",
       "\n",
       "    .dataframe tbody tr th {\n",
       "        vertical-align: top;\n",
       "    }\n",
       "\n",
       "    .dataframe thead th {\n",
       "        text-align: right;\n",
       "    }\n",
       "</style>\n",
       "<table border=\"1\" class=\"dataframe\">\n",
       "  <thead>\n",
       "    <tr style=\"text-align: right;\">\n",
       "      <th></th>\n",
       "      <th>model</th>\n",
       "      <th>rmse_train</th>\n",
       "      <th>rmse_validate</th>\n",
       "      <th>rmse_difference</th>\n",
       "      <th>r^2_validate</th>\n",
       "    </tr>\n",
       "  </thead>\n",
       "  <tbody>\n",
       "    <tr>\n",
       "      <th>0</th>\n",
       "      <td>mean_baseline</td>\n",
       "      <td>676548.860009</td>\n",
       "      <td>719836.601541</td>\n",
       "      <td>43287.7415</td>\n",
       "      <td>0.000000</td>\n",
       "    </tr>\n",
       "    <tr>\n",
       "      <th>1</th>\n",
       "      <td>ols</td>\n",
       "      <td>505329.606857</td>\n",
       "      <td>569058.314864</td>\n",
       "      <td>63728.7080</td>\n",
       "      <td>0.375049</td>\n",
       "    </tr>\n",
       "    <tr>\n",
       "      <th>2</th>\n",
       "      <td>lasso</td>\n",
       "      <td>505329.691062</td>\n",
       "      <td>569058.346747</td>\n",
       "      <td>63728.6557</td>\n",
       "      <td>0.374850</td>\n",
       "    </tr>\n",
       "    <tr>\n",
       "      <th>3</th>\n",
       "      <td>glm</td>\n",
       "      <td>505329.606857</td>\n",
       "      <td>569058.314864</td>\n",
       "      <td>63728.7080</td>\n",
       "      <td>0.375049</td>\n",
       "    </tr>\n",
       "    <tr>\n",
       "      <th>4</th>\n",
       "      <td>pol_reg</td>\n",
       "      <td>413107.373941</td>\n",
       "      <td>420844.934570</td>\n",
       "      <td>7737.5606</td>\n",
       "      <td>0.673252</td>\n",
       "    </tr>\n",
       "  </tbody>\n",
       "</table>\n",
       "</div>"
      ],
      "text/plain": [
       "           model     rmse_train  rmse_validate  rmse_difference  r^2_validate\n",
       "0  mean_baseline  676548.860009  719836.601541       43287.7415      0.000000\n",
       "1            ols  505329.606857  569058.314864       63728.7080      0.375049\n",
       "2          lasso  505329.691062  569058.346747       63728.6557      0.374850\n",
       "3            glm  505329.606857  569058.314864       63728.7080      0.375049\n",
       "4        pol_reg  413107.373941  420844.934570        7737.5606      0.673252"
      ]
     },
     "execution_count": 90,
     "metadata": {},
     "output_type": "execute_result"
    }
   ],
   "source": [
    "metric_df"
   ]
  },
  {
   "cell_type": "code",
   "execution_count": 91,
   "metadata": {
    "scrolled": true
   },
   "outputs": [
    {
     "data": {
      "text/html": [
       "<div>\n",
       "<style scoped>\n",
       "    .dataframe tbody tr th:only-of-type {\n",
       "        vertical-align: middle;\n",
       "    }\n",
       "\n",
       "    .dataframe tbody tr th {\n",
       "        vertical-align: top;\n",
       "    }\n",
       "\n",
       "    .dataframe thead th {\n",
       "        text-align: right;\n",
       "    }\n",
       "</style>\n",
       "<table border=\"1\" class=\"dataframe\">\n",
       "  <thead>\n",
       "    <tr style=\"text-align: right;\">\n",
       "      <th></th>\n",
       "      <th>model</th>\n",
       "      <th>rmse_train</th>\n",
       "      <th>rmse_validate</th>\n",
       "      <th>rmse_difference</th>\n",
       "      <th>r^2_validate</th>\n",
       "    </tr>\n",
       "  </thead>\n",
       "  <tbody>\n",
       "    <tr>\n",
       "      <th>0</th>\n",
       "      <td>mean_baseline</td>\n",
       "      <td>676548.860009</td>\n",
       "      <td>719836.601541</td>\n",
       "      <td>43287.7415</td>\n",
       "      <td>0.000000</td>\n",
       "    </tr>\n",
       "    <tr>\n",
       "      <th>4</th>\n",
       "      <td>pol_reg</td>\n",
       "      <td>413107.373941</td>\n",
       "      <td>420844.934570</td>\n",
       "      <td>7737.5606</td>\n",
       "      <td>0.673252</td>\n",
       "    </tr>\n",
       "  </tbody>\n",
       "</table>\n",
       "</div>"
      ],
      "text/plain": [
       "           model     rmse_train  rmse_validate  rmse_difference  r^2_validate\n",
       "0  mean_baseline  676548.860009  719836.601541       43287.7415      0.000000\n",
       "4        pol_reg  413107.373941  420844.934570        7737.5606      0.673252"
      ]
     },
     "execution_count": 91,
     "metadata": {},
     "output_type": "execute_result"
    }
   ],
   "source": [
    "best_model = metric_df.drop([1,2,3], axis= 0)\n",
    "best_model"
   ]
  },
  {
   "cell_type": "code",
   "execution_count": 92,
   "metadata": {},
   "outputs": [],
   "source": [
    "best_model[' rmse_test'] =  pol_reg_test['rmse']\n",
    "best_model.iloc[0,5] = 0"
   ]
  },
  {
   "cell_type": "code",
   "execution_count": 93,
   "metadata": {
    "scrolled": false
   },
   "outputs": [
    {
     "data": {
      "text/html": [
       "<div>\n",
       "<style scoped>\n",
       "    .dataframe tbody tr th:only-of-type {\n",
       "        vertical-align: middle;\n",
       "    }\n",
       "\n",
       "    .dataframe tbody tr th {\n",
       "        vertical-align: top;\n",
       "    }\n",
       "\n",
       "    .dataframe thead th {\n",
       "        text-align: right;\n",
       "    }\n",
       "</style>\n",
       "<table border=\"1\" class=\"dataframe\">\n",
       "  <thead>\n",
       "    <tr style=\"text-align: right;\">\n",
       "      <th></th>\n",
       "      <th>model</th>\n",
       "      <th>rmse_train</th>\n",
       "      <th>rmse_validate</th>\n",
       "      <th>rmse_difference</th>\n",
       "      <th>r^2_validate</th>\n",
       "      <th>rmse_test</th>\n",
       "    </tr>\n",
       "  </thead>\n",
       "  <tbody>\n",
       "    <tr>\n",
       "      <th>0</th>\n",
       "      <td>mean_baseline</td>\n",
       "      <td>676548.860009</td>\n",
       "      <td>719836.601541</td>\n",
       "      <td>43287.7415</td>\n",
       "      <td>0.000000</td>\n",
       "      <td>0.000000</td>\n",
       "    </tr>\n",
       "    <tr>\n",
       "      <th>4</th>\n",
       "      <td>pol_reg</td>\n",
       "      <td>413107.373941</td>\n",
       "      <td>420844.934570</td>\n",
       "      <td>7737.5606</td>\n",
       "      <td>0.673252</td>\n",
       "      <td>378440.269668</td>\n",
       "    </tr>\n",
       "  </tbody>\n",
       "</table>\n",
       "</div>"
      ],
      "text/plain": [
       "           model     rmse_train  rmse_validate  rmse_difference  r^2_validate  \\\n",
       "0  mean_baseline  676548.860009  719836.601541       43287.7415      0.000000   \n",
       "4        pol_reg  413107.373941  420844.934570        7737.5606      0.673252   \n",
       "\n",
       "       rmse_test  \n",
       "0       0.000000  \n",
       "4  378440.269668  "
      ]
     },
     "execution_count": 93,
     "metadata": {},
     "output_type": "execute_result"
    }
   ],
   "source": [
    "best_model"
   ]
  },
  {
   "cell_type": "markdown",
   "metadata": {},
   "source": [
    "**takeaweays**\n",
    "- I used mean for my baseline \n",
    "- my model that used PolynomialFeatures(degree = 21)  and features (n_berooms, n_bathrooms, sq_ft) was my best model.\n",
    "- RMSE for baseline is 719,836.601 usd\n",
    "- RMSE for best model in test is 378,440.27 usd\n",
    "- my model predict 52.57 % less error than my baseline"
   ]
  },
  {
   "cell_type": "markdown",
   "metadata": {},
   "source": [
    "### Best Model Vizualization"
   ]
  },
  {
   "cell_type": "code",
   "execution_count": 94,
   "metadata": {
    "scrolled": false
   },
   "outputs": [
    {
     "data": {
      "image/png": "[encoded data removed]",
      "text/plain": [
       "<Figure size 1152x576 with 1 Axes>"
      ]
     },
     "metadata": {
      "needs_background": "light"
     },
     "output_type": "display_data"
    }
   ],
   "source": [
    "\n",
    "plt.figure(figsize=(16,8))\n",
    "plt.plot(y_validate.actual, y_validate.yhat_baseline_mean, alpha=.5, color=\"gray\", label='_nolegend_')\n",
    "plt.annotate(\"Baseline: Predict Using Mean\", ( 8000_000, 1))\n",
    "plt.plot(y_validate.actual, y_validate.actual, alpha=.5, color=\"blue\", label='_nolegend_')\n",
    "plt.annotate(\"The Ideal Line: Predicted = Actual\", (.8 *(10**7), .95 *(10**7)), rotation=25)\n",
    "\n",
    "#plt.scatter(y_validate.actual, y_validate.modelOLS, \n",
    "#           alpha=.5, color=\"red\", s=100, label=\"Model: LinearRegression\")\n",
    "#plt.scatter(y_validate.actual, y_validate.model_lasso, \n",
    "#            alpha=.5, color=\"blue\", s=100, label=\"Model: LASSO\")\n",
    "#plt.scatter(y_validate.actual, y_validate.model_glm, \n",
    "#            alpha=.5, color=\"yellow\", s=100, label=\"Model: TweedieRegressor\")\n",
    "plt.scatter(y_validate.actual, y_validate.model_polreg, \n",
    "            alpha=.5, color=\"green\", s=100, label=\"Model 21 degree Polynomial\")\n",
    "plt.legend()\n",
    "plt.xlabel(\"ActualAssessed value\")\n",
    "plt.ylabel(\"Predicted assessed value\")\n",
    "plt.yscale(value = 'linear')\n",
    "plt.title(\"Where are predictions more extreme? More modest?\")\n",
    "\n",
    "plt.show()"
   ]
  },
  {
   "cell_type": "markdown",
   "metadata": {},
   "source": [
    "### Residuals"
   ]
  },
  {
   "cell_type": "code",
   "execution_count": 95,
   "metadata": {
    "scrolled": false
   },
   "outputs": [
    {
     "data": {
      "image/png": "[encoded data removed]",
      "text/plain": [
       "<Figure size 936x504 with 1 Axes>"
      ]
     },
     "metadata": {
      "needs_background": "light"
     },
     "output_type": "display_data"
    }
   ],
   "source": [
    "eval.plot_residuals(y_validate, 'actual', 'model_polreg')\n"
   ]
  },
  {
   "cell_type": "markdown",
   "metadata": {},
   "source": [
    "________________"
   ]
  },
  {
   "cell_type": "markdown",
   "metadata": {},
   "source": [
    "### with more time I would drop the outliers in my target, I would add more features as year built, lot size, number of stories,"
   ]
  },
  {
   "cell_type": "markdown",
   "metadata": {},
   "source": [
    "________________________"
   ]
  },
  {
   "cell_type": "markdown",
   "metadata": {},
   "source": [
    "# Distribution of tax rates for each county"
   ]
  },
  {
   "cell_type": "code",
   "execution_count": 96,
   "metadata": {},
   "outputs": [],
   "source": [
    "# I'm going to use my df that I created before the split"
   ]
  },
  {
   "cell_type": "code",
   "execution_count": 97,
   "metadata": {},
   "outputs": [
    {
     "data": {
      "text/html": [
       "<div>\n",
       "<style scoped>\n",
       "    .dataframe tbody tr th:only-of-type {\n",
       "        vertical-align: middle;\n",
       "    }\n",
       "\n",
       "    .dataframe tbody tr th {\n",
       "        vertical-align: top;\n",
       "    }\n",
       "\n",
       "    .dataframe thead th {\n",
       "        text-align: right;\n",
       "    }\n",
       "</style>\n",
       "<table border=\"1\" class=\"dataframe\">\n",
       "  <thead>\n",
       "    <tr style=\"text-align: right;\">\n",
       "      <th></th>\n",
       "      <th>parcelid</th>\n",
       "      <th>assessed_value_usd</th>\n",
       "      <th>county</th>\n",
       "      <th>taxamount</th>\n",
       "    </tr>\n",
       "  </thead>\n",
       "  <tbody>\n",
       "    <tr>\n",
       "      <th>0</th>\n",
       "      <td>11721753</td>\n",
       "      <td>205123.0</td>\n",
       "      <td>6037</td>\n",
       "      <td>2627.48</td>\n",
       "    </tr>\n",
       "    <tr>\n",
       "      <th>1</th>\n",
       "      <td>11289917</td>\n",
       "      <td>136104.0</td>\n",
       "      <td>6037</td>\n",
       "      <td>2319.90</td>\n",
       "    </tr>\n",
       "    <tr>\n",
       "      <th>2</th>\n",
       "      <td>11705026</td>\n",
       "      <td>35606.0</td>\n",
       "      <td>6037</td>\n",
       "      <td>543.69</td>\n",
       "    </tr>\n",
       "    <tr>\n",
       "      <th>3</th>\n",
       "      <td>14269464</td>\n",
       "      <td>880456.0</td>\n",
       "      <td>6059</td>\n",
       "      <td>9819.72</td>\n",
       "    </tr>\n",
       "    <tr>\n",
       "      <th>4</th>\n",
       "      <td>11446756</td>\n",
       "      <td>107110.0</td>\n",
       "      <td>6037</td>\n",
       "      <td>1399.27</td>\n",
       "    </tr>\n",
       "  </tbody>\n",
       "</table>\n",
       "</div>"
      ],
      "text/plain": [
       "   parcelid  assessed_value_usd  county  taxamount\n",
       "0  11721753            205123.0    6037    2627.48\n",
       "1  11289917            136104.0    6037    2319.90\n",
       "2  11705026             35606.0    6037     543.69\n",
       "3  14269464            880456.0    6059    9819.72\n",
       "4  11446756            107110.0    6037    1399.27"
      ]
     },
     "execution_count": 97,
     "metadata": {},
     "output_type": "execute_result"
    }
   ],
   "source": [
    "df_county.head()"
   ]
  },
  {
   "cell_type": "code",
   "execution_count": 98,
   "metadata": {},
   "outputs": [],
   "source": [
    "# calculate the tax rate\n",
    "df_county['tax_rate']= df_county['taxamount']/ df_county['assessed_value_usd'] "
   ]
  },
  {
   "cell_type": "code",
   "execution_count": 99,
   "metadata": {},
   "outputs": [
    {
     "data": {
      "text/html": [
       "<div>\n",
       "<style scoped>\n",
       "    .dataframe tbody tr th:only-of-type {\n",
       "        vertical-align: middle;\n",
       "    }\n",
       "\n",
       "    .dataframe tbody tr th {\n",
       "        vertical-align: top;\n",
       "    }\n",
       "\n",
       "    .dataframe thead th {\n",
       "        text-align: right;\n",
       "    }\n",
       "</style>\n",
       "<table border=\"1\" class=\"dataframe\">\n",
       "  <thead>\n",
       "    <tr style=\"text-align: right;\">\n",
       "      <th></th>\n",
       "      <th>parcelid</th>\n",
       "      <th>assessed_value_usd</th>\n",
       "      <th>county</th>\n",
       "      <th>taxamount</th>\n",
       "      <th>tax_rate</th>\n",
       "    </tr>\n",
       "  </thead>\n",
       "  <tbody>\n",
       "    <tr>\n",
       "      <th>0</th>\n",
       "      <td>11721753</td>\n",
       "      <td>205123.0</td>\n",
       "      <td>6037</td>\n",
       "      <td>2627.48</td>\n",
       "      <td>0.012809</td>\n",
       "    </tr>\n",
       "    <tr>\n",
       "      <th>1</th>\n",
       "      <td>11289917</td>\n",
       "      <td>136104.0</td>\n",
       "      <td>6037</td>\n",
       "      <td>2319.90</td>\n",
       "      <td>0.017045</td>\n",
       "    </tr>\n",
       "    <tr>\n",
       "      <th>2</th>\n",
       "      <td>11705026</td>\n",
       "      <td>35606.0</td>\n",
       "      <td>6037</td>\n",
       "      <td>543.69</td>\n",
       "      <td>0.015270</td>\n",
       "    </tr>\n",
       "    <tr>\n",
       "      <th>3</th>\n",
       "      <td>14269464</td>\n",
       "      <td>880456.0</td>\n",
       "      <td>6059</td>\n",
       "      <td>9819.72</td>\n",
       "      <td>0.011153</td>\n",
       "    </tr>\n",
       "    <tr>\n",
       "      <th>4</th>\n",
       "      <td>11446756</td>\n",
       "      <td>107110.0</td>\n",
       "      <td>6037</td>\n",
       "      <td>1399.27</td>\n",
       "      <td>0.013064</td>\n",
       "    </tr>\n",
       "  </tbody>\n",
       "</table>\n",
       "</div>"
      ],
      "text/plain": [
       "   parcelid  assessed_value_usd  county  taxamount  tax_rate\n",
       "0  11721753            205123.0    6037    2627.48  0.012809\n",
       "1  11289917            136104.0    6037    2319.90  0.017045\n",
       "2  11705026             35606.0    6037     543.69  0.015270\n",
       "3  14269464            880456.0    6059    9819.72  0.011153\n",
       "4  11446756            107110.0    6037    1399.27  0.013064"
      ]
     },
     "execution_count": 99,
     "metadata": {},
     "output_type": "execute_result"
    }
   ],
   "source": [
    "df_county.head()"
   ]
  },
  {
   "cell_type": "code",
   "execution_count": 100,
   "metadata": {
    "scrolled": false
   },
   "outputs": [
    {
     "data": {
      "text/plain": [
       "6037    17913\n",
       "6059     7736\n",
       "6111     2443\n",
       "Name: county, dtype: int64"
      ]
     },
     "execution_count": 100,
     "metadata": {},
     "output_type": "execute_result"
    }
   ],
   "source": [
    "#lets see counties\n",
    "df_county['county'].value_counts()"
   ]
  },
  {
   "cell_type": "markdown",
   "metadata": {},
   "source": [
    "- county # 6037 ----->\t\tLos Angeles\n",
    "- county # 6059 ----->\t\tOrange\n",
    "- county # 6111 ----->\t\tVentura"
   ]
  },
  {
   "cell_type": "code",
   "execution_count": 101,
   "metadata": {},
   "outputs": [],
   "source": [
    "#crete a function that plots each county"
   ]
  },
  {
   "cell_type": "code",
   "execution_count": 102,
   "metadata": {},
   "outputs": [],
   "source": [
    "def plot_dis (df_county):\n",
    "    \n",
    "    #make a dictionary \n",
    "    counties= {\n",
    "    6037: \"Los Angeles\",\n",
    "    6059: \"Orange\",\n",
    "    6111: \"Ventura\"\n",
    "    }\n",
    "    #get the counties\n",
    "    f = df_county['county'].value_counts()\n",
    "    cols = list(f.index)\n",
    "    \n",
    "    #plot each county\n",
    "    for col in cols :\n",
    "        #get the name of the county\n",
    "        name = counties[col]\n",
    "        print (f'                         ********** {name} County ********** ')\n",
    "        print('')\n",
    "        #get the taxrte for that county\n",
    "        zipc =  df_county[['tax_rate']][df_county['county']== col]\n",
    "        df_r = pd.DataFrame(zipc.describe().T)\n",
    "        display (HTML(df_r.to_html()))\n",
    "        plt.figure(figsize=(13,8))\n",
    "        sns.distplot(zipc, bins = 50, color = 'purple')\n",
    "        plt.xlim(0,0.06)\n",
    "        plt.ylabel('count')\n",
    "        plt.title(f'2017 Tax Distribution for {name} county')\n",
    "        plt.show()\n",
    "        print('--------------------------------------------------------------------------------------------')\n",
    "        \n",
    "    return\n"
   ]
  },
  {
   "cell_type": "code",
   "execution_count": 103,
   "metadata": {
    "scrolled": false
   },
   "outputs": [
    {
     "name": "stdout",
     "output_type": "stream",
     "text": [
      "                         ********** Los Angeles County ********** \n",
      "\n"
     ]
    },
    {
     "data": {
      "text/html": [
       "<table border=\"1\" class=\"dataframe\">\n",
       "  <thead>\n",
       "    <tr style=\"text-align: right;\">\n",
       "      <th></th>\n",
       "      <th>count</th>\n",
       "      <th>mean</th>\n",
       "      <th>std</th>\n",
       "      <th>min</th>\n",
       "      <th>25%</th>\n",
       "      <th>50%</th>\n",
       "      <th>75%</th>\n",
       "      <th>max</th>\n",
       "    </tr>\n",
       "  </thead>\n",
       "  <tbody>\n",
       "    <tr>\n",
       "      <th>tax_rate</th>\n",
       "      <td>17913.0</td>\n",
       "      <td>0.014089</td>\n",
       "      <td>0.00866</td>\n",
       "      <td>0.000857</td>\n",
       "      <td>0.012123</td>\n",
       "      <td>0.012634</td>\n",
       "      <td>0.01431</td>\n",
       "      <td>0.81649</td>\n",
       "    </tr>\n",
       "  </tbody>\n",
       "</table>"
      ],
      "text/plain": [
       "<IPython.core.display.HTML object>"
      ]
     },
     "metadata": {},
     "output_type": "display_data"
    },
    {
     "data": {
      "image/png": "[encoded data removed]",
      "text/plain": [
       "<Figure size 936x576 with 1 Axes>"
      ]
     },
     "metadata": {
      "needs_background": "light"
     },
     "output_type": "display_data"
    },
    {
     "name": "stdout",
     "output_type": "stream",
     "text": [
      "--------------------------------------------------------------------------------------------\n",
      "                         ********** Orange County ********** \n",
      "\n"
     ]
    },
    {
     "data": {
      "text/html": [
       "<table border=\"1\" class=\"dataframe\">\n",
       "  <thead>\n",
       "    <tr style=\"text-align: right;\">\n",
       "      <th></th>\n",
       "      <th>count</th>\n",
       "      <th>mean</th>\n",
       "      <th>std</th>\n",
       "      <th>min</th>\n",
       "      <th>25%</th>\n",
       "      <th>50%</th>\n",
       "      <th>75%</th>\n",
       "      <th>max</th>\n",
       "    </tr>\n",
       "  </thead>\n",
       "  <tbody>\n",
       "    <tr>\n",
       "      <th>tax_rate</th>\n",
       "      <td>7736.0</td>\n",
       "      <td>0.012074</td>\n",
       "      <td>0.002777</td>\n",
       "      <td>0.001157</td>\n",
       "      <td>0.010624</td>\n",
       "      <td>0.011532</td>\n",
       "      <td>0.012547</td>\n",
       "      <td>0.10735</td>\n",
       "    </tr>\n",
       "  </tbody>\n",
       "</table>"
      ],
      "text/plain": [
       "<IPython.core.display.HTML object>"
      ]
     },
     "metadata": {},
     "output_type": "display_data"
    },
    {
     "data": {
      "image/png": "[encoded data removed]",
      "text/plain": [
       "<Figure size 936x576 with 1 Axes>"
      ]
     },
     "metadata": {
      "needs_background": "light"
     },
     "output_type": "display_data"
    },
    {
     "name": "stdout",
     "output_type": "stream",
     "text": [
      "--------------------------------------------------------------------------------------------\n",
      "                         ********** Ventura County ********** \n",
      "\n"
     ]
    },
    {
     "data": {
      "text/html": [
       "<table border=\"1\" class=\"dataframe\">\n",
       "  <thead>\n",
       "    <tr style=\"text-align: right;\">\n",
       "      <th></th>\n",
       "      <th>count</th>\n",
       "      <th>mean</th>\n",
       "      <th>std</th>\n",
       "      <th>min</th>\n",
       "      <th>25%</th>\n",
       "      <th>50%</th>\n",
       "      <th>75%</th>\n",
       "      <th>max</th>\n",
       "    </tr>\n",
       "  </thead>\n",
       "  <tbody>\n",
       "    <tr>\n",
       "      <th>tax_rate</th>\n",
       "      <td>2443.0</td>\n",
       "      <td>0.011817</td>\n",
       "      <td>0.006155</td>\n",
       "      <td>0.000094</td>\n",
       "      <td>0.010732</td>\n",
       "      <td>0.011245</td>\n",
       "      <td>0.011886</td>\n",
       "      <td>0.294865</td>\n",
       "    </tr>\n",
       "  </tbody>\n",
       "</table>"
      ],
      "text/plain": [
       "<IPython.core.display.HTML object>"
      ]
     },
     "metadata": {},
     "output_type": "display_data"
    },
    {
     "data": {
      "image/png": "[encoded data removed]",
      "text/plain": [
       "<Figure size 936x576 with 1 Axes>"
      ]
     },
     "metadata": {
      "needs_background": "light"
     },
     "output_type": "display_data"
    },
    {
     "name": "stdout",
     "output_type": "stream",
     "text": [
      "--------------------------------------------------------------------------------------------\n"
     ]
    }
   ],
   "source": [
    "plot_dis(df_county)"
   ]
  },
  {
   "cell_type": "code",
   "execution_count": 104,
   "metadata": {},
   "outputs": [
    {
     "data": {
      "image/png": "[encoded data removed]",
      "text/plain": [
       "<Figure size 936x576 with 1 Axes>"
      ]
     },
     "metadata": {
      "needs_background": "light"
     },
     "output_type": "display_data"
    }
   ],
   "source": [
    "#plot all counties\n",
    "x1 = df_county.loc[df_county.county==6037, 'tax_rate']\n",
    "x2 = df_county.loc[df_county.county==6059, 'tax_rate']\n",
    "x3 = df_county.loc[df_county.county==6111, 'tax_rate']\n",
    "\n",
    "kwargs = dict(alpha=0.5, bins=100)\n",
    "plt.figure(figsize=(13,8))\n",
    "plt.hist(x1, **kwargs, color='g', label=' Los Angeles (6037)')\n",
    "plt.hist(x2, **kwargs, color='b', label= 'Orange (6059)')\n",
    "plt.hist(x3, **kwargs, color='r', label= 'Venturea (6111)')\n",
    "plt.gca().set(title='Frequency Histogram of tax_rate', ylabel= 'Count')\n",
    "plt.xlim(0,.06)\n",
    "plt.legend();"
   ]
  },
  {
   "cell_type": "code",
   "execution_count": null,
   "metadata": {},
   "outputs": [],
   "source": []
  }
 ],
 "metadata": {
  "kernelspec": {
   "display_name": "Python 3",
   "language": "python",
   "name": "python3"
  },
  "language_info": {
   "codemirror_mode": {
    "name": "ipython",
    "version": 3
   },
   "file_extension": ".py",
   "mimetype": "text/x-python",
   "name": "python",
   "nbconvert_exporter": "python",
   "pygments_lexer": "ipython3",
   "version": "3.8.5"
  }
 },
 "nbformat": 4,
 "nbformat_minor": 4
}
