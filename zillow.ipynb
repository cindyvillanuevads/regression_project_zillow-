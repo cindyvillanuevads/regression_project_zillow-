{
 "cells": [
  {
   "cell_type": "code",
   "execution_count": 1,
   "metadata": {},
   "outputs": [],
   "source": [
    "import acquire as a\n",
    "import prepare as p\n",
    "import wrangle as w\n",
    "import explore as e\n",
    "import model as m\n",
    "import evaluate as eval\n",
    "\n",
    "import seaborn as sns\n",
    "import pandas as pd\n",
    "import scipy.stats as stats\n",
    "import matplotlib.pyplot as plt\n",
    "\n",
    "\n",
    "from sklearn.preprocessing import MinMaxScaler, RobustScaler"
   ]
  },
  {
   "cell_type": "markdown",
   "metadata": {},
   "source": [
    "https://pen.do/support/difference-between-property-and-unit/"
   ]
  },
  {
   "cell_type": "markdown",
   "metadata": {},
   "source": [
    "# Acquire"
   ]
  },
  {
   "cell_type": "code",
   "execution_count": 2,
   "metadata": {},
   "outputs": [],
   "source": [
    "#Acquire data from SQL using my function"
   ]
  },
  {
   "cell_type": "code",
   "execution_count": 3,
   "metadata": {},
   "outputs": [],
   "source": [
    "sql_query = '''\n",
    "SELECT  parcelid, bedroomcnt, bathroomcnt, calculatedfinishedsquarefeet, \n",
    "taxvaluedollarcnt \n",
    "FROM properties_2017\n",
    "JOIN predictions_2017 as pred USING (parcelid)\n",
    "WHERE pred.transactiondate >= '2017-05-01' AND pred.transactiondate <= '2017-08-31'\n",
    "AND (propertylandusetypeid > 259 AND propertylandusetypeid  < 265);\n",
    "'''"
   ]
  },
  {
   "cell_type": "code",
   "execution_count": 4,
   "metadata": {},
   "outputs": [],
   "source": [
    "df= a.get_data_from_sql('zillow',sql_query)"
   ]
  },
  {
   "cell_type": "code",
   "execution_count": 5,
   "metadata": {
    "scrolled": true
   },
   "outputs": [
    {
     "data": {
      "text/html": [
       "<div>\n",
       "<style scoped>\n",
       "    .dataframe tbody tr th:only-of-type {\n",
       "        vertical-align: middle;\n",
       "    }\n",
       "\n",
       "    .dataframe tbody tr th {\n",
       "        vertical-align: top;\n",
       "    }\n",
       "\n",
       "    .dataframe thead th {\n",
       "        text-align: right;\n",
       "    }\n",
       "</style>\n",
       "<table border=\"1\" class=\"dataframe\">\n",
       "  <thead>\n",
       "    <tr style=\"text-align: right;\">\n",
       "      <th></th>\n",
       "      <th>parcelid</th>\n",
       "      <th>bedroomcnt</th>\n",
       "      <th>bathroomcnt</th>\n",
       "      <th>calculatedfinishedsquarefeet</th>\n",
       "      <th>taxvaluedollarcnt</th>\n",
       "    </tr>\n",
       "  </thead>\n",
       "  <tbody>\n",
       "    <tr>\n",
       "      <th>0</th>\n",
       "      <td>11721753</td>\n",
       "      <td>3.0</td>\n",
       "      <td>2.0</td>\n",
       "      <td>1316.0</td>\n",
       "      <td>205123.0</td>\n",
       "    </tr>\n",
       "    <tr>\n",
       "      <th>1</th>\n",
       "      <td>11289917</td>\n",
       "      <td>3.0</td>\n",
       "      <td>2.0</td>\n",
       "      <td>1458.0</td>\n",
       "      <td>136104.0</td>\n",
       "    </tr>\n",
       "    <tr>\n",
       "      <th>2</th>\n",
       "      <td>11705026</td>\n",
       "      <td>2.0</td>\n",
       "      <td>1.0</td>\n",
       "      <td>1421.0</td>\n",
       "      <td>35606.0</td>\n",
       "    </tr>\n",
       "    <tr>\n",
       "      <th>3</th>\n",
       "      <td>14269464</td>\n",
       "      <td>4.0</td>\n",
       "      <td>3.0</td>\n",
       "      <td>2541.0</td>\n",
       "      <td>880456.0</td>\n",
       "    </tr>\n",
       "    <tr>\n",
       "      <th>4</th>\n",
       "      <td>11446756</td>\n",
       "      <td>3.0</td>\n",
       "      <td>2.0</td>\n",
       "      <td>1491.0</td>\n",
       "      <td>107110.0</td>\n",
       "    </tr>\n",
       "  </tbody>\n",
       "</table>\n",
       "</div>"
      ],
      "text/plain": [
       "   parcelid  bedroomcnt  bathroomcnt  calculatedfinishedsquarefeet  \\\n",
       "0  11721753         3.0          2.0                        1316.0   \n",
       "1  11289917         3.0          2.0                        1458.0   \n",
       "2  11705026         2.0          1.0                        1421.0   \n",
       "3  14269464         4.0          3.0                        2541.0   \n",
       "4  11446756         3.0          2.0                        1491.0   \n",
       "\n",
       "   taxvaluedollarcnt  \n",
       "0           205123.0  \n",
       "1           136104.0  \n",
       "2            35606.0  \n",
       "3           880456.0  \n",
       "4           107110.0  "
      ]
     },
     "execution_count": 5,
     "metadata": {},
     "output_type": "execute_result"
    }
   ],
   "source": [
    "#check my df\n",
    "df.head()"
   ]
  },
  {
   "cell_type": "code",
   "execution_count": 6,
   "metadata": {},
   "outputs": [
    {
     "data": {
      "text/plain": [
       "(28185, 5)"
      ]
     },
     "execution_count": 6,
     "metadata": {},
     "output_type": "execute_result"
    }
   ],
   "source": [
    "df.shape"
   ]
  },
  {
   "cell_type": "code",
   "execution_count": 7,
   "metadata": {
    "scrolled": true
   },
   "outputs": [
    {
     "data": {
      "text/html": [
       "<div>\n",
       "<style scoped>\n",
       "    .dataframe tbody tr th:only-of-type {\n",
       "        vertical-align: middle;\n",
       "    }\n",
       "\n",
       "    .dataframe tbody tr th {\n",
       "        vertical-align: top;\n",
       "    }\n",
       "\n",
       "    .dataframe thead th {\n",
       "        text-align: right;\n",
       "    }\n",
       "</style>\n",
       "<table border=\"1\" class=\"dataframe\">\n",
       "  <thead>\n",
       "    <tr style=\"text-align: right;\">\n",
       "      <th></th>\n",
       "      <th>count</th>\n",
       "      <th>mean</th>\n",
       "      <th>std</th>\n",
       "      <th>min</th>\n",
       "      <th>25%</th>\n",
       "      <th>50%</th>\n",
       "      <th>75%</th>\n",
       "      <th>max</th>\n",
       "    </tr>\n",
       "  </thead>\n",
       "  <tbody>\n",
       "    <tr>\n",
       "      <th>parcelid</th>\n",
       "      <td>28185.0</td>\n",
       "      <td>1.304103e+07</td>\n",
       "      <td>3.744921e+06</td>\n",
       "      <td>10711855.0</td>\n",
       "      <td>11510818.00</td>\n",
       "      <td>12593855.0</td>\n",
       "      <td>14148993.0</td>\n",
       "      <td>167687839.0</td>\n",
       "    </tr>\n",
       "    <tr>\n",
       "      <th>bedroomcnt</th>\n",
       "      <td>28185.0</td>\n",
       "      <td>3.307007e+00</td>\n",
       "      <td>9.500449e-01</td>\n",
       "      <td>0.0</td>\n",
       "      <td>3.00</td>\n",
       "      <td>3.0</td>\n",
       "      <td>4.0</td>\n",
       "      <td>12.0</td>\n",
       "    </tr>\n",
       "    <tr>\n",
       "      <th>bathroomcnt</th>\n",
       "      <td>28185.0</td>\n",
       "      <td>2.314866e+00</td>\n",
       "      <td>1.019092e+00</td>\n",
       "      <td>0.0</td>\n",
       "      <td>2.00</td>\n",
       "      <td>2.0</td>\n",
       "      <td>3.0</td>\n",
       "      <td>11.0</td>\n",
       "    </tr>\n",
       "    <tr>\n",
       "      <th>calculatedfinishedsquarefeet</th>\n",
       "      <td>28117.0</td>\n",
       "      <td>1.935100e+03</td>\n",
       "      <td>9.959107e+02</td>\n",
       "      <td>240.0</td>\n",
       "      <td>1278.00</td>\n",
       "      <td>1675.0</td>\n",
       "      <td>2326.0</td>\n",
       "      <td>17245.0</td>\n",
       "    </tr>\n",
       "    <tr>\n",
       "      <th>taxvaluedollarcnt</th>\n",
       "      <td>28184.0</td>\n",
       "      <td>5.353762e+05</td>\n",
       "      <td>7.086644e+05</td>\n",
       "      <td>1000.0</td>\n",
       "      <td>198610.75</td>\n",
       "      <td>382446.0</td>\n",
       "      <td>632716.5</td>\n",
       "      <td>23858374.0</td>\n",
       "    </tr>\n",
       "  </tbody>\n",
       "</table>\n",
       "</div>"
      ],
      "text/plain": [
       "                                count          mean           std         min  \\\n",
       "parcelid                      28185.0  1.304103e+07  3.744921e+06  10711855.0   \n",
       "bedroomcnt                    28185.0  3.307007e+00  9.500449e-01         0.0   \n",
       "bathroomcnt                   28185.0  2.314866e+00  1.019092e+00         0.0   \n",
       "calculatedfinishedsquarefeet  28117.0  1.935100e+03  9.959107e+02       240.0   \n",
       "taxvaluedollarcnt             28184.0  5.353762e+05  7.086644e+05      1000.0   \n",
       "\n",
       "                                      25%         50%         75%          max  \n",
       "parcelid                      11510818.00  12593855.0  14148993.0  167687839.0  \n",
       "bedroomcnt                           3.00         3.0         4.0         12.0  \n",
       "bathroomcnt                          2.00         2.0         3.0         11.0  \n",
       "calculatedfinishedsquarefeet      1278.00      1675.0      2326.0      17245.0  \n",
       "taxvaluedollarcnt               198610.75    382446.0    632716.5   23858374.0  "
      ]
     },
     "execution_count": 7,
     "metadata": {},
     "output_type": "execute_result"
    }
   ],
   "source": [
    "df.describe().T"
   ]
  },
  {
   "cell_type": "code",
   "execution_count": 8,
   "metadata": {},
   "outputs": [
    {
     "name": "stdout",
     "output_type": "stream",
     "text": [
      "<class 'pandas.core.frame.DataFrame'>\n",
      "RangeIndex: 28185 entries, 0 to 28184\n",
      "Data columns (total 5 columns):\n",
      " #   Column                        Non-Null Count  Dtype  \n",
      "---  ------                        --------------  -----  \n",
      " 0   parcelid                      28185 non-null  int64  \n",
      " 1   bedroomcnt                    28185 non-null  float64\n",
      " 2   bathroomcnt                   28185 non-null  float64\n",
      " 3   calculatedfinishedsquarefeet  28117 non-null  float64\n",
      " 4   taxvaluedollarcnt             28184 non-null  float64\n",
      "dtypes: float64(4), int64(1)\n",
      "memory usage: 1.1 MB\n"
     ]
    }
   ],
   "source": [
    "df.info()"
   ]
  },
  {
   "cell_type": "markdown",
   "metadata": {},
   "source": [
    "**takeaways**\n",
    "- My sql query filter:\n",
    "   - single unit property .\n",
    "   - transaction during  May-August, 2017\n",
    "- calculatedfinishedsquarefee and taxvaluedollarcnt have missing values"
   ]
  },
  {
   "cell_type": "markdown",
   "metadata": {},
   "source": [
    "# Prepare"
   ]
  },
  {
   "cell_type": "code",
   "execution_count": 9,
   "metadata": {
    "scrolled": true
   },
   "outputs": [
    {
     "name": "stdout",
     "output_type": "stream",
     "text": [
      "Your selected dataframe has 5 columns.\n",
      "There are 2 columns that have missing values.\n",
      "  \n",
      "** There are 25 duplicate rows that represents 0.09% of total Values**\n"
     ]
    },
    {
     "data": {
      "text/html": [
       "<div>\n",
       "<style scoped>\n",
       "    .dataframe tbody tr th:only-of-type {\n",
       "        vertical-align: middle;\n",
       "    }\n",
       "\n",
       "    .dataframe tbody tr th {\n",
       "        vertical-align: top;\n",
       "    }\n",
       "\n",
       "    .dataframe thead th {\n",
       "        text-align: right;\n",
       "    }\n",
       "</style>\n",
       "<table border=\"1\" class=\"dataframe\">\n",
       "  <thead>\n",
       "    <tr style=\"text-align: right;\">\n",
       "      <th></th>\n",
       "      <th>Missing Values</th>\n",
       "      <th>% of Total Values</th>\n",
       "    </tr>\n",
       "  </thead>\n",
       "  <tbody>\n",
       "    <tr>\n",
       "      <th>calculatedfinishedsquarefeet</th>\n",
       "      <td>68</td>\n",
       "      <td>0.2</td>\n",
       "    </tr>\n",
       "    <tr>\n",
       "      <th>taxvaluedollarcnt</th>\n",
       "      <td>1</td>\n",
       "      <td>0.0</td>\n",
       "    </tr>\n",
       "  </tbody>\n",
       "</table>\n",
       "</div>"
      ],
      "text/plain": [
       "                              Missing Values  % of Total Values\n",
       "calculatedfinishedsquarefeet              68                0.2\n",
       "taxvaluedollarcnt                          1                0.0"
      ]
     },
     "execution_count": 9,
     "metadata": {},
     "output_type": "execute_result"
    }
   ],
   "source": [
    "#use a function that gives us a quick report\n",
    "w.miss_dup_values(df)"
   ]
  },
  {
   "cell_type": "code",
   "execution_count": 10,
   "metadata": {},
   "outputs": [],
   "source": [
    "# I'm going to drop duplicates"
   ]
  },
  {
   "cell_type": "code",
   "execution_count": 11,
   "metadata": {},
   "outputs": [],
   "source": [
    "df = df.drop_duplicates()"
   ]
  },
  {
   "cell_type": "code",
   "execution_count": 12,
   "metadata": {},
   "outputs": [],
   "source": [
    "#I'm going to drop the rows with missing values"
   ]
  },
  {
   "cell_type": "code",
   "execution_count": 13,
   "metadata": {},
   "outputs": [],
   "source": [
    "df = df.dropna(how='any',axis=0)"
   ]
  },
  {
   "cell_type": "code",
   "execution_count": 14,
   "metadata": {
    "scrolled": true
   },
   "outputs": [
    {
     "name": "stdout",
     "output_type": "stream",
     "text": [
      "Your selected dataframe has 5 columns.\n",
      "There are 0 columns that have missing values.\n",
      "  \n",
      "** There are 0 duplicate rows that represents 0.0% of total Values**\n"
     ]
    },
    {
     "data": {
      "text/html": [
       "<div>\n",
       "<style scoped>\n",
       "    .dataframe tbody tr th:only-of-type {\n",
       "        vertical-align: middle;\n",
       "    }\n",
       "\n",
       "    .dataframe tbody tr th {\n",
       "        vertical-align: top;\n",
       "    }\n",
       "\n",
       "    .dataframe thead th {\n",
       "        text-align: right;\n",
       "    }\n",
       "</style>\n",
       "<table border=\"1\" class=\"dataframe\">\n",
       "  <thead>\n",
       "    <tr style=\"text-align: right;\">\n",
       "      <th></th>\n",
       "      <th>Missing Values</th>\n",
       "      <th>% of Total Values</th>\n",
       "    </tr>\n",
       "  </thead>\n",
       "  <tbody>\n",
       "  </tbody>\n",
       "</table>\n",
       "</div>"
      ],
      "text/plain": [
       "Empty DataFrame\n",
       "Columns: [Missing Values, % of Total Values]\n",
       "Index: []"
      ]
     },
     "execution_count": 14,
     "metadata": {},
     "output_type": "execute_result"
    }
   ],
   "source": [
    "w.miss_dup_values(df)"
   ]
  },
  {
   "cell_type": "code",
   "execution_count": 15,
   "metadata": {
    "scrolled": false
   },
   "outputs": [
    {
     "name": "stdout",
     "output_type": "stream",
     "text": [
      "<class 'pandas.core.frame.DataFrame'>\n",
      "Int64Index: 28093 entries, 0 to 28184\n",
      "Data columns (total 5 columns):\n",
      " #   Column                        Non-Null Count  Dtype  \n",
      "---  ------                        --------------  -----  \n",
      " 0   parcelid                      28093 non-null  int64  \n",
      " 1   bedroomcnt                    28093 non-null  float64\n",
      " 2   bathroomcnt                   28093 non-null  float64\n",
      " 3   calculatedfinishedsquarefeet  28093 non-null  float64\n",
      " 4   taxvaluedollarcnt             28093 non-null  float64\n",
      "dtypes: float64(4), int64(1)\n",
      "memory usage: 1.3 MB\n"
     ]
    }
   ],
   "source": [
    "df.info()"
   ]
  },
  {
   "cell_type": "code",
   "execution_count": 16,
   "metadata": {
    "scrolled": true
   },
   "outputs": [],
   "source": [
    "# I'm going to change parcelid to string, it is a uniqure identifier for parcels lots\n",
    "df['parcelid'] = df['parcelid'].astype('str')"
   ]
  },
  {
   "cell_type": "code",
   "execution_count": 17,
   "metadata": {
    "scrolled": false
   },
   "outputs": [
    {
     "data": {
      "text/plain": [
       "parcelid                         object\n",
       "bedroomcnt                      float64\n",
       "bathroomcnt                     float64\n",
       "calculatedfinishedsquarefeet    float64\n",
       "taxvaluedollarcnt               float64\n",
       "dtype: object"
      ]
     },
     "execution_count": 17,
     "metadata": {},
     "output_type": "execute_result"
    }
   ],
   "source": [
    "df.dtypes"
   ]
  },
  {
   "cell_type": "code",
   "execution_count": 18,
   "metadata": {},
   "outputs": [],
   "source": [
    "df.rename(columns={'bedroomcnt': 'n_bedrooms', \n",
    "                    'bathroomcnt': 'n_bathrooms',\n",
    "                    'calculatedfinishedsquarefeet':'sq_ft',\n",
    "                     'taxvaluedollarcnt': 'assessed_value_usd'}, inplace=True)"
   ]
  },
  {
   "cell_type": "code",
   "execution_count": 19,
   "metadata": {
    "scrolled": false
   },
   "outputs": [
    {
     "name": "stdout",
     "output_type": "stream",
     "text": [
      "Columns\n",
      " \n",
      "parcelid --> 28093 unique values\n",
      " \n",
      "n_bedrooms --> 13 unique values\n",
      " \n",
      "n_bathrooms --> 20 unique values\n",
      " \n",
      "sq_ft --> 4056 unique values\n",
      " \n",
      "assessed_value_usd --> 22733 unique values\n",
      " \n"
     ]
    }
   ],
   "source": [
    "#checking the uniques values for each column\n",
    "columns = df.columns.tolist()\n",
    "print( 'Columns')\n",
    "print(\" \")\n",
    "cat_list = []\n",
    "for col in columns:\n",
    "    print(f'{col} --> {df[col].nunique()} unique values')\n",
    "    if df[col].nunique() < 26:\n",
    "        cat_list.append(col)\n",
    "    print(\" \")\n"
   ]
  },
  {
   "cell_type": "code",
   "execution_count": 20,
   "metadata": {},
   "outputs": [
    {
     "name": "stdout",
     "output_type": "stream",
     "text": [
      "n_bedrooms\n",
      "0.0        33\n",
      "1.0       312\n",
      "2.0      4347\n",
      "3.0     12566\n",
      "4.0      8286\n",
      "5.0      2142\n",
      "6.0       340\n",
      "7.0        50\n",
      "8.0         8\n",
      "9.0         4\n",
      "10.0        2\n",
      "11.0        2\n",
      "12.0        1\n",
      "Name: n_bedrooms, dtype: int64\n",
      "--------------------------- \n",
      " \n",
      "n_bathrooms\n",
      "0.0        25\n",
      "1.0      4903\n",
      "1.5       451\n",
      "2.0     11728\n",
      "2.5      2208\n",
      "3.0      5796\n",
      "3.5       544\n",
      "4.0      1198\n",
      "4.5       384\n",
      "5.0       443\n",
      "5.5       111\n",
      "6.0       176\n",
      "6.5        27\n",
      "7.0        52\n",
      "7.5         9\n",
      "8.0        29\n",
      "8.5         1\n",
      "9.0         5\n",
      "10.0        1\n",
      "11.0        2\n",
      "Name: n_bathrooms, dtype: int64\n",
      "--------------------------- \n",
      " \n"
     ]
    }
   ],
   "source": [
    "#checking  the variables that have few values\n",
    "for l in cat_list:\n",
    "    print(l)\n",
    "    print(df[l].value_counts().sort_index())\n",
    "    print(\"--------------------------- \")\n",
    "    print(\" \")"
   ]
  },
  {
   "cell_type": "markdown",
   "metadata": {},
   "source": [
    "** Takeaways**\n",
    "- change parcelid to object type\n",
    "- there are property whith 0 bedrooms and bathtooms. I will check this more"
   ]
  },
  {
   "cell_type": "code",
   "execution_count": 21,
   "metadata": {},
   "outputs": [],
   "source": [
    "#explore n_bedrooms == 0 & n_bathroos == 0"
   ]
  },
  {
   "cell_type": "code",
   "execution_count": 22,
   "metadata": {
    "scrolled": true
   },
   "outputs": [
    {
     "data": {
      "text/plain": [
       "parcelid              19\n",
       "n_bedrooms            19\n",
       "n_bathrooms           19\n",
       "sq_ft                 19\n",
       "assessed_value_usd    19\n",
       "dtype: int64"
      ]
     },
     "execution_count": 22,
     "metadata": {},
     "output_type": "execute_result"
    }
   ],
   "source": [
    "df[(df.n_bedrooms == 0) & (df.n_bathrooms == 0)].count()"
   ]
  },
  {
   "cell_type": "code",
   "execution_count": 23,
   "metadata": {
    "scrolled": true
   },
   "outputs": [
    {
     "data": {
      "text/html": [
       "<div>\n",
       "<style scoped>\n",
       "    .dataframe tbody tr th:only-of-type {\n",
       "        vertical-align: middle;\n",
       "    }\n",
       "\n",
       "    .dataframe tbody tr th {\n",
       "        vertical-align: top;\n",
       "    }\n",
       "\n",
       "    .dataframe thead th {\n",
       "        text-align: right;\n",
       "    }\n",
       "</style>\n",
       "<table border=\"1\" class=\"dataframe\">\n",
       "  <thead>\n",
       "    <tr style=\"text-align: right;\">\n",
       "      <th></th>\n",
       "      <th>parcelid</th>\n",
       "      <th>n_bedrooms</th>\n",
       "      <th>n_bathrooms</th>\n",
       "      <th>sq_ft</th>\n",
       "      <th>assessed_value_usd</th>\n",
       "    </tr>\n",
       "  </thead>\n",
       "  <tbody>\n",
       "    <tr>\n",
       "      <th>8</th>\n",
       "      <td>11696784</td>\n",
       "      <td>0.0</td>\n",
       "      <td>0.0</td>\n",
       "      <td>1378.0</td>\n",
       "      <td>168828.0</td>\n",
       "    </tr>\n",
       "    <tr>\n",
       "      <th>254</th>\n",
       "      <td>11392193</td>\n",
       "      <td>0.0</td>\n",
       "      <td>0.0</td>\n",
       "      <td>2276.0</td>\n",
       "      <td>101792.0</td>\n",
       "    </tr>\n",
       "    <tr>\n",
       "      <th>339</th>\n",
       "      <td>11266326</td>\n",
       "      <td>0.0</td>\n",
       "      <td>0.0</td>\n",
       "      <td>400.0</td>\n",
       "      <td>49627.0</td>\n",
       "    </tr>\n",
       "    <tr>\n",
       "      <th>795</th>\n",
       "      <td>11938527</td>\n",
       "      <td>0.0</td>\n",
       "      <td>0.0</td>\n",
       "      <td>389.0</td>\n",
       "      <td>319396.0</td>\n",
       "    </tr>\n",
       "    <tr>\n",
       "      <th>1795</th>\n",
       "      <td>14507431</td>\n",
       "      <td>0.0</td>\n",
       "      <td>0.0</td>\n",
       "      <td>4184.0</td>\n",
       "      <td>1145602.0</td>\n",
       "    </tr>\n",
       "    <tr>\n",
       "      <th>3714</th>\n",
       "      <td>12153898</td>\n",
       "      <td>0.0</td>\n",
       "      <td>0.0</td>\n",
       "      <td>682.0</td>\n",
       "      <td>29361.0</td>\n",
       "    </tr>\n",
       "    <tr>\n",
       "      <th>4940</th>\n",
       "      <td>12554886</td>\n",
       "      <td>0.0</td>\n",
       "      <td>0.0</td>\n",
       "      <td>1064.0</td>\n",
       "      <td>226328.0</td>\n",
       "    </tr>\n",
       "    <tr>\n",
       "      <th>6238</th>\n",
       "      <td>11676853</td>\n",
       "      <td>0.0</td>\n",
       "      <td>0.0</td>\n",
       "      <td>660.0</td>\n",
       "      <td>746757.0</td>\n",
       "    </tr>\n",
       "    <tr>\n",
       "      <th>6611</th>\n",
       "      <td>12444585</td>\n",
       "      <td>0.0</td>\n",
       "      <td>0.0</td>\n",
       "      <td>738.0</td>\n",
       "      <td>84701.0</td>\n",
       "    </tr>\n",
       "    <tr>\n",
       "      <th>9497</th>\n",
       "      <td>11679076</td>\n",
       "      <td>0.0</td>\n",
       "      <td>0.0</td>\n",
       "      <td>1820.0</td>\n",
       "      <td>1034512.0</td>\n",
       "    </tr>\n",
       "    <tr>\n",
       "      <th>13627</th>\n",
       "      <td>11283520</td>\n",
       "      <td>0.0</td>\n",
       "      <td>0.0</td>\n",
       "      <td>366.0</td>\n",
       "      <td>62030.0</td>\n",
       "    </tr>\n",
       "    <tr>\n",
       "      <th>14594</th>\n",
       "      <td>12074776</td>\n",
       "      <td>0.0</td>\n",
       "      <td>0.0</td>\n",
       "      <td>360.0</td>\n",
       "      <td>11089.0</td>\n",
       "    </tr>\n",
       "    <tr>\n",
       "      <th>15009</th>\n",
       "      <td>14179570</td>\n",
       "      <td>0.0</td>\n",
       "      <td>0.0</td>\n",
       "      <td>3188.0</td>\n",
       "      <td>459712.0</td>\n",
       "    </tr>\n",
       "    <tr>\n",
       "      <th>15439</th>\n",
       "      <td>13890348</td>\n",
       "      <td>0.0</td>\n",
       "      <td>0.0</td>\n",
       "      <td>2016.0</td>\n",
       "      <td>104502.0</td>\n",
       "    </tr>\n",
       "    <tr>\n",
       "      <th>17760</th>\n",
       "      <td>17059899</td>\n",
       "      <td>0.0</td>\n",
       "      <td>0.0</td>\n",
       "      <td>1060.0</td>\n",
       "      <td>324858.0</td>\n",
       "    </tr>\n",
       "    <tr>\n",
       "      <th>19190</th>\n",
       "      <td>11687003</td>\n",
       "      <td>0.0</td>\n",
       "      <td>0.0</td>\n",
       "      <td>1728.0</td>\n",
       "      <td>3640824.0</td>\n",
       "    </tr>\n",
       "    <tr>\n",
       "      <th>20874</th>\n",
       "      <td>11341049</td>\n",
       "      <td>0.0</td>\n",
       "      <td>0.0</td>\n",
       "      <td>1366.0</td>\n",
       "      <td>142806.0</td>\n",
       "    </tr>\n",
       "    <tr>\n",
       "      <th>23660</th>\n",
       "      <td>12887546</td>\n",
       "      <td>0.0</td>\n",
       "      <td>0.0</td>\n",
       "      <td>816.0</td>\n",
       "      <td>152289.0</td>\n",
       "    </tr>\n",
       "    <tr>\n",
       "      <th>24586</th>\n",
       "      <td>11384712</td>\n",
       "      <td>0.0</td>\n",
       "      <td>0.0</td>\n",
       "      <td>1200.0</td>\n",
       "      <td>29855.0</td>\n",
       "    </tr>\n",
       "  </tbody>\n",
       "</table>\n",
       "</div>"
      ],
      "text/plain": [
       "       parcelid  n_bedrooms  n_bathrooms   sq_ft  assessed_value_usd\n",
       "8      11696784         0.0          0.0  1378.0            168828.0\n",
       "254    11392193         0.0          0.0  2276.0            101792.0\n",
       "339    11266326         0.0          0.0   400.0             49627.0\n",
       "795    11938527         0.0          0.0   389.0            319396.0\n",
       "1795   14507431         0.0          0.0  4184.0           1145602.0\n",
       "3714   12153898         0.0          0.0   682.0             29361.0\n",
       "4940   12554886         0.0          0.0  1064.0            226328.0\n",
       "6238   11676853         0.0          0.0   660.0            746757.0\n",
       "6611   12444585         0.0          0.0   738.0             84701.0\n",
       "9497   11679076         0.0          0.0  1820.0           1034512.0\n",
       "13627  11283520         0.0          0.0   366.0             62030.0\n",
       "14594  12074776         0.0          0.0   360.0             11089.0\n",
       "15009  14179570         0.0          0.0  3188.0            459712.0\n",
       "15439  13890348         0.0          0.0  2016.0            104502.0\n",
       "17760  17059899         0.0          0.0  1060.0            324858.0\n",
       "19190  11687003         0.0          0.0  1728.0           3640824.0\n",
       "20874  11341049         0.0          0.0  1366.0            142806.0\n",
       "23660  12887546         0.0          0.0   816.0            152289.0\n",
       "24586  11384712         0.0          0.0  1200.0             29855.0"
      ]
     },
     "execution_count": 23,
     "metadata": {},
     "output_type": "execute_result"
    }
   ],
   "source": [
    "df[(df.n_bedrooms == 0) & (df.n_bathrooms == 0)]"
   ]
  },
  {
   "cell_type": "code",
   "execution_count": 24,
   "metadata": {},
   "outputs": [
    {
     "data": {
      "text/plain": [
       "(28093, 5)"
      ]
     },
     "execution_count": 24,
     "metadata": {},
     "output_type": "execute_result"
    }
   ],
   "source": [
    "df.shape"
   ]
  },
  {
   "cell_type": "markdown",
   "metadata": {},
   "source": [
    "**I decided to keep the properties with 0 bathrooms and bedrooms it represents a small percentage**"
   ]
  },
  {
   "cell_type": "code",
   "execution_count": 25,
   "metadata": {},
   "outputs": [
    {
     "data": {
      "text/plain": [
       "18570    240.0\n",
       "2389     300.0\n",
       "8853     326.0\n",
       "14594    360.0\n",
       "1362     360.0\n",
       "13627    366.0\n",
       "25817    380.0\n",
       "20469    384.0\n",
       "795      389.0\n",
       "339      400.0\n",
       "9775     400.0\n",
       "20088    400.0\n",
       "27669    440.0\n",
       "26082    440.0\n",
       "22493    440.0\n",
       "12738    442.0\n",
       "12016    444.0\n",
       "19968    444.0\n",
       "3932     448.0\n",
       "27329    448.0\n",
       "Name: sq_ft, dtype: float64"
      ]
     },
     "execution_count": 25,
     "metadata": {},
     "output_type": "execute_result"
    }
   ],
   "source": [
    "#checking calculatedfinishedsquarefeet\n",
    "df.sq_ft.sort_values().head(20)"
   ]
  },
  {
   "cell_type": "code",
   "execution_count": 26,
   "metadata": {
    "scrolled": true
   },
   "outputs": [
    {
     "data": {
      "text/html": [
       "<div>\n",
       "<style scoped>\n",
       "    .dataframe tbody tr th:only-of-type {\n",
       "        vertical-align: middle;\n",
       "    }\n",
       "\n",
       "    .dataframe tbody tr th {\n",
       "        vertical-align: top;\n",
       "    }\n",
       "\n",
       "    .dataframe thead th {\n",
       "        text-align: right;\n",
       "    }\n",
       "</style>\n",
       "<table border=\"1\" class=\"dataframe\">\n",
       "  <thead>\n",
       "    <tr style=\"text-align: right;\">\n",
       "      <th></th>\n",
       "      <th>parcelid</th>\n",
       "      <th>n_bedrooms</th>\n",
       "      <th>n_bathrooms</th>\n",
       "      <th>sq_ft</th>\n",
       "      <th>assessed_value_usd</th>\n",
       "    </tr>\n",
       "  </thead>\n",
       "  <tbody>\n",
       "    <tr>\n",
       "      <th>795</th>\n",
       "      <td>11938527</td>\n",
       "      <td>0.0</td>\n",
       "      <td>0.0</td>\n",
       "      <td>389.0</td>\n",
       "      <td>319396.0</td>\n",
       "    </tr>\n",
       "    <tr>\n",
       "      <th>1362</th>\n",
       "      <td>11417048</td>\n",
       "      <td>1.0</td>\n",
       "      <td>1.0</td>\n",
       "      <td>360.0</td>\n",
       "      <td>206054.0</td>\n",
       "    </tr>\n",
       "    <tr>\n",
       "      <th>2389</th>\n",
       "      <td>17258105</td>\n",
       "      <td>1.0</td>\n",
       "      <td>1.0</td>\n",
       "      <td>300.0</td>\n",
       "      <td>165579.0</td>\n",
       "    </tr>\n",
       "    <tr>\n",
       "      <th>8853</th>\n",
       "      <td>11361390</td>\n",
       "      <td>2.0</td>\n",
       "      <td>1.0</td>\n",
       "      <td>326.0</td>\n",
       "      <td>16084.0</td>\n",
       "    </tr>\n",
       "    <tr>\n",
       "      <th>13627</th>\n",
       "      <td>11283520</td>\n",
       "      <td>0.0</td>\n",
       "      <td>0.0</td>\n",
       "      <td>366.0</td>\n",
       "      <td>62030.0</td>\n",
       "    </tr>\n",
       "    <tr>\n",
       "      <th>14594</th>\n",
       "      <td>12074776</td>\n",
       "      <td>0.0</td>\n",
       "      <td>0.0</td>\n",
       "      <td>360.0</td>\n",
       "      <td>11089.0</td>\n",
       "    </tr>\n",
       "    <tr>\n",
       "      <th>18570</th>\n",
       "      <td>11915330</td>\n",
       "      <td>0.0</td>\n",
       "      <td>1.0</td>\n",
       "      <td>240.0</td>\n",
       "      <td>380000.0</td>\n",
       "    </tr>\n",
       "    <tr>\n",
       "      <th>20469</th>\n",
       "      <td>14276688</td>\n",
       "      <td>1.0</td>\n",
       "      <td>1.0</td>\n",
       "      <td>384.0</td>\n",
       "      <td>1486936.0</td>\n",
       "    </tr>\n",
       "    <tr>\n",
       "      <th>25817</th>\n",
       "      <td>13910907</td>\n",
       "      <td>1.0</td>\n",
       "      <td>1.0</td>\n",
       "      <td>380.0</td>\n",
       "      <td>87906.0</td>\n",
       "    </tr>\n",
       "  </tbody>\n",
       "</table>\n",
       "</div>"
      ],
      "text/plain": [
       "       parcelid  n_bedrooms  n_bathrooms  sq_ft  assessed_value_usd\n",
       "795    11938527         0.0          0.0  389.0            319396.0\n",
       "1362   11417048         1.0          1.0  360.0            206054.0\n",
       "2389   17258105         1.0          1.0  300.0            165579.0\n",
       "8853   11361390         2.0          1.0  326.0             16084.0\n",
       "13627  11283520         0.0          0.0  366.0             62030.0\n",
       "14594  12074776         0.0          0.0  360.0             11089.0\n",
       "18570  11915330         0.0          1.0  240.0            380000.0\n",
       "20469  14276688         1.0          1.0  384.0           1486936.0\n",
       "25817  13910907         1.0          1.0  380.0             87906.0"
      ]
     },
     "execution_count": 26,
     "metadata": {},
     "output_type": "execute_result"
    }
   ],
   "source": [
    "df[(df.sq_ft <400)]"
   ]
  },
  {
   "cell_type": "code",
   "execution_count": 27,
   "metadata": {
    "scrolled": true
   },
   "outputs": [
    {
     "name": "stdout",
     "output_type": "stream",
     "text": [
      "<class 'pandas.core.frame.DataFrame'>\n",
      "Int64Index: 28093 entries, 0 to 28184\n",
      "Data columns (total 5 columns):\n",
      " #   Column              Non-Null Count  Dtype  \n",
      "---  ------              --------------  -----  \n",
      " 0   parcelid            28093 non-null  object \n",
      " 1   n_bedrooms          28093 non-null  float64\n",
      " 2   n_bathrooms         28093 non-null  float64\n",
      " 3   sq_ft               28093 non-null  float64\n",
      " 4   assessed_value_usd  28093 non-null  float64\n",
      "dtypes: float64(4), object(1)\n",
      "memory usage: 1.3+ MB\n"
     ]
    }
   ],
   "source": [
    "df.info()"
   ]
  },
  {
   "cell_type": "markdown",
   "metadata": {},
   "source": [
    "**takeaway**\n",
    "- I decided to keep bathrooms and bedrooms = 0\n"
   ]
  },
  {
   "cell_type": "code",
   "execution_count": 28,
   "metadata": {},
   "outputs": [],
   "source": [
    "#pd.cut(df.n_bedrooms,  [0, 2, 4, 12])\n"
   ]
  },
  {
   "cell_type": "code",
   "execution_count": 29,
   "metadata": {},
   "outputs": [
    {
     "data": {
      "text/html": [
       "<div>\n",
       "<style scoped>\n",
       "    .dataframe tbody tr th:only-of-type {\n",
       "        vertical-align: middle;\n",
       "    }\n",
       "\n",
       "    .dataframe tbody tr th {\n",
       "        vertical-align: top;\n",
       "    }\n",
       "\n",
       "    .dataframe thead th {\n",
       "        text-align: right;\n",
       "    }\n",
       "</style>\n",
       "<table border=\"1\" class=\"dataframe\">\n",
       "  <thead>\n",
       "    <tr style=\"text-align: right;\">\n",
       "      <th></th>\n",
       "      <th>count</th>\n",
       "      <th>mean</th>\n",
       "      <th>std</th>\n",
       "      <th>min</th>\n",
       "      <th>25%</th>\n",
       "      <th>50%</th>\n",
       "      <th>75%</th>\n",
       "      <th>max</th>\n",
       "    </tr>\n",
       "  </thead>\n",
       "  <tbody>\n",
       "    <tr>\n",
       "      <th>n_bedrooms</th>\n",
       "      <td>28093.0</td>\n",
       "      <td>3.314064</td>\n",
       "      <td>0.933615</td>\n",
       "      <td>0.0</td>\n",
       "      <td>3.0</td>\n",
       "      <td>3.0</td>\n",
       "      <td>4.0</td>\n",
       "      <td>12.0</td>\n",
       "    </tr>\n",
       "    <tr>\n",
       "      <th>n_bathrooms</th>\n",
       "      <td>28093.0</td>\n",
       "      <td>2.319920</td>\n",
       "      <td>1.013287</td>\n",
       "      <td>0.0</td>\n",
       "      <td>2.0</td>\n",
       "      <td>2.0</td>\n",
       "      <td>3.0</td>\n",
       "      <td>11.0</td>\n",
       "    </tr>\n",
       "    <tr>\n",
       "      <th>sq_ft</th>\n",
       "      <td>28093.0</td>\n",
       "      <td>1934.491475</td>\n",
       "      <td>994.195591</td>\n",
       "      <td>240.0</td>\n",
       "      <td>1279.0</td>\n",
       "      <td>1675.0</td>\n",
       "      <td>2326.0</td>\n",
       "      <td>17245.0</td>\n",
       "    </tr>\n",
       "    <tr>\n",
       "      <th>assessed_value_usd</th>\n",
       "      <td>28093.0</td>\n",
       "      <td>533148.215214</td>\n",
       "      <td>703712.863914</td>\n",
       "      <td>1000.0</td>\n",
       "      <td>198427.0</td>\n",
       "      <td>382000.0</td>\n",
       "      <td>631675.0</td>\n",
       "      <td>23858374.0</td>\n",
       "    </tr>\n",
       "  </tbody>\n",
       "</table>\n",
       "</div>"
      ],
      "text/plain": [
       "                      count           mean            std     min       25%  \\\n",
       "n_bedrooms          28093.0       3.314064       0.933615     0.0       3.0   \n",
       "n_bathrooms         28093.0       2.319920       1.013287     0.0       2.0   \n",
       "sq_ft               28093.0    1934.491475     994.195591   240.0    1279.0   \n",
       "assessed_value_usd  28093.0  533148.215214  703712.863914  1000.0  198427.0   \n",
       "\n",
       "                         50%       75%         max  \n",
       "n_bedrooms               3.0       4.0        12.0  \n",
       "n_bathrooms              2.0       3.0        11.0  \n",
       "sq_ft                 1675.0    2326.0     17245.0  \n",
       "assessed_value_usd  382000.0  631675.0  23858374.0  "
      ]
     },
     "execution_count": 29,
     "metadata": {},
     "output_type": "execute_result"
    }
   ],
   "source": [
    "df.describe().T"
   ]
  },
  {
   "cell_type": "code",
   "execution_count": 30,
   "metadata": {},
   "outputs": [
    {
     "data": {
      "image/png": "[encoded data removed]",
      "text/plain": [
       "<Figure size 432x288 with 1 Axes>"
      ]
     },
     "metadata": {
      "needs_background": "light"
     },
     "output_type": "display_data"
    },
    {
     "data": {
      "image/png": "[encoded data removed]",
      "text/plain": [
       "<Figure size 432x288 with 1 Axes>"
      ]
     },
     "metadata": {
      "needs_background": "light"
     },
     "output_type": "display_data"
    },
    {
     "data": {
      "image/png": "[encoded data removed]",
      "text/plain": [
       "<Figure size 432x288 with 1 Axes>"
      ]
     },
     "metadata": {
      "needs_background": "light"
     },
     "output_type": "display_data"
    },
    {
     "data": {
      "image/png": "[encoded data removed]",
      "text/plain": [
       "<Figure size 432x288 with 1 Axes>"
      ]
     },
     "metadata": {
      "needs_background": "light"
     },
     "output_type": "display_data"
    }
   ],
   "source": [
    "p.distribution(df)"
   ]
  },
  {
   "cell_type": "markdown",
   "metadata": {},
   "source": [
    "because all my features are continous i decided to boxplot"
   ]
  },
  {
   "cell_type": "code",
   "execution_count": 31,
   "metadata": {},
   "outputs": [
    {
     "data": {
      "image/png": "[encoded data removed]",
      "text/plain": [
       "<Figure size 576x432 with 1 Axes>"
      ]
     },
     "metadata": {
      "needs_background": "light"
     },
     "output_type": "display_data"
    },
    {
     "data": {
      "image/png": "[encoded data removed]",
      "text/plain": [
       "<Figure size 576x432 with 1 Axes>"
      ]
     },
     "metadata": {
      "needs_background": "light"
     },
     "output_type": "display_data"
    },
    {
     "data": {
      "image/png": "[encoded data removed]",
      "text/plain": [
       "<Figure size 576x432 with 1 Axes>"
      ]
     },
     "metadata": {
      "needs_background": "light"
     },
     "output_type": "display_data"
    },
    {
     "data": {
      "image/png": "[encoded data removed]",
      "text/plain": [
       "<Figure size 576x432 with 1 Axes>"
      ]
     },
     "metadata": {
      "needs_background": "light"
     },
     "output_type": "display_data"
    }
   ],
   "source": [
    "p.distribution_boxplot(df)"
   ]
  },
  {
   "cell_type": "markdown",
   "metadata": {},
   "source": [
    "**Takeaways** \n",
    "-  bathrooms , bedrooms, sq_dt and usd_valure are continous.\n",
    "- target is  usd_value\n"
   ]
  },
  {
   "cell_type": "markdown",
   "metadata": {},
   "source": [
    "### split train, validate, test"
   ]
  },
  {
   "cell_type": "code",
   "execution_count": 32,
   "metadata": {},
   "outputs": [
    {
     "name": "stdout",
     "output_type": "stream",
     "text": [
      "train -> (15731, 5)\n",
      "validate -> (6743, 5)\n",
      "test -> (5619, 5)\n"
     ]
    }
   ],
   "source": [
    "train, validate, test = p.split_data(df)"
   ]
  },
  {
   "cell_type": "code",
   "execution_count": 33,
   "metadata": {},
   "outputs": [
    {
     "name": "stdout",
     "output_type": "stream",
     "text": [
      "X_train -> (15731, 4)               y_train->(15731,)\n",
      "X_validate -> (6743, 4)         y_validate->(6743,) \n",
      "X_test -> (5619, 4)                  y_test>(5619,)\n"
     ]
    }
   ],
   "source": [
    "X_train, y_train, X_validate, y_validate, X_test, y_test = p.split_Xy(train,validate,test, 'assessed_value_usd')"
   ]
  },
  {
   "cell_type": "code",
   "execution_count": null,
   "metadata": {},
   "outputs": [],
   "source": []
  },
  {
   "cell_type": "code",
   "execution_count": 34,
   "metadata": {},
   "outputs": [
    {
     "data": {
      "image/png": "[encoded data removed]",
      "text/plain": [
       "<Figure size 936x432 with 2 Axes>"
      ]
     },
     "metadata": {
      "needs_background": "light"
     },
     "output_type": "display_data"
    },
    {
     "data": {
      "image/png": "[encoded data removed]",
      "text/plain": [
       "<Figure size 936x432 with 2 Axes>"
      ]
     },
     "metadata": {
      "needs_background": "light"
     },
     "output_type": "display_data"
    },
    {
     "data": {
      "image/png": "[encoded data removed]",
      "text/plain": [
       "<Figure size 936x432 with 2 Axes>"
      ]
     },
     "metadata": {
      "needs_background": "light"
     },
     "output_type": "display_data"
    }
   ],
   "source": [
    "#Scale our data\n",
    "X_train_scaled, X_validate_scaled, X_test_scaled = p.scaled_df(X_train, X_validate, X_test, RobustScaler())"
   ]
  },
  {
   "cell_type": "markdown",
   "metadata": {},
   "source": [
    "**takeaways**\n",
    "- I use Robust Scaler that uses parameters that are more robust to outliers,  because  bathrooms , bedrooms, and sq_dt have outliers."
   ]
  },
  {
   "cell_type": "markdown",
   "metadata": {},
   "source": [
    "# Expolore\n"
   ]
  },
  {
   "cell_type": "markdown",
   "metadata": {},
   "source": [
    "before Exploration this is what I think:\n",
    "\n",
    "\n",
    "\n",
    "- The variables that can influence the value of home are square feet, and number of bedrooms and at last number of bathrooms. \n",
    "- square feet, and number of bedrooms  can have an influence no matter where the property located.\n",
    "\n",
    "-  other factors can influence the value of a home such as zip code, year built,  school district."
   ]
  },
  {
   "cell_type": "code",
   "execution_count": 35,
   "metadata": {},
   "outputs": [],
   "source": [
    "#  I want to explore with my target"
   ]
  },
  {
   "cell_type": "code",
   "execution_count": 36,
   "metadata": {},
   "outputs": [
    {
     "data": {
      "text/plain": [
       "<AxesSubplot:>"
      ]
     },
     "execution_count": 36,
     "metadata": {},
     "output_type": "execute_result"
    },
    {
     "data": {
      "image/png": "[encoded data removed]",
      "text/plain": [
       "<Figure size 936x432 with 1 Axes>"
      ]
     },
     "metadata": {
      "needs_background": "light"
     },
     "output_type": "display_data"
    }
   ],
   "source": [
    "plt.figure(figsize=(13, 6))\n",
    "train['assessed_value_usd'].hist(grid=False,)\n"
   ]
  },
  {
   "cell_type": "code",
   "execution_count": 37,
   "metadata": {},
   "outputs": [
    {
     "data": {
      "text/plain": [
       "<AxesSubplot:xlabel='assessed_value_usd'>"
      ]
     },
     "execution_count": 37,
     "metadata": {},
     "output_type": "execute_result"
    },
    {
     "data": {
      "image/png": "[encoded data removed]",
      "text/plain": [
       "<Figure size 1152x576 with 1 Axes>"
      ]
     },
     "metadata": {
      "needs_background": "light"
     },
     "output_type": "display_data"
    }
   ],
   "source": [
    "plt.figure(figsize=(16, 8))\n",
    "sns.boxplot(train['assessed_value_usd'])"
   ]
  },
  {
   "cell_type": "code",
   "execution_count": 38,
   "metadata": {
    "scrolled": false
   },
   "outputs": [
    {
     "data": {
      "text/plain": [
       "<seaborn.axisgrid.FacetGrid at 0x7fe6431d7d30>"
      ]
     },
     "execution_count": 38,
     "metadata": {},
     "output_type": "execute_result"
    },
    {
     "data": {
      "text/plain": [
       "<Figure size 1152x576 with 0 Axes>"
      ]
     },
     "metadata": {},
     "output_type": "display_data"
    },
    {
     "data": {
      "image/png": "[encoded data removed]",
      "text/plain": [
       "<Figure size 360x360 with 1 Axes>"
      ]
     },
     "metadata": {
      "needs_background": "light"
     },
     "output_type": "display_data"
    }
   ],
   "source": [
    "plt.figure(figsize=(16, 8))\n",
    "sns.displot( train['assessed_value_usd'])\n"
   ]
  },
  {
   "cell_type": "code",
   "execution_count": 39,
   "metadata": {},
   "outputs": [],
   "source": [
    "# I creating a new df "
   ]
  },
  {
   "cell_type": "code",
   "execution_count": 40,
   "metadata": {},
   "outputs": [],
   "source": [
    "train_scaled = pd.concat([X_train_scaled, pd.DataFrame( {'assessed_valure_usd': y_train}) ], axis= 1 )"
   ]
  },
  {
   "cell_type": "code",
   "execution_count": 41,
   "metadata": {},
   "outputs": [
    {
     "data": {
      "text/html": [
       "<div>\n",
       "<style scoped>\n",
       "    .dataframe tbody tr th:only-of-type {\n",
       "        vertical-align: middle;\n",
       "    }\n",
       "\n",
       "    .dataframe tbody tr th {\n",
       "        vertical-align: top;\n",
       "    }\n",
       "\n",
       "    .dataframe thead th {\n",
       "        text-align: right;\n",
       "    }\n",
       "</style>\n",
       "<table border=\"1\" class=\"dataframe\">\n",
       "  <thead>\n",
       "    <tr style=\"text-align: right;\">\n",
       "      <th></th>\n",
       "      <th>n_bedrooms</th>\n",
       "      <th>n_bathrooms</th>\n",
       "      <th>sq_ft</th>\n",
       "      <th>assessed_valure_usd</th>\n",
       "    </tr>\n",
       "  </thead>\n",
       "  <tbody>\n",
       "    <tr>\n",
       "      <th>20267</th>\n",
       "      <td>0.0</td>\n",
       "      <td>0.0</td>\n",
       "      <td>0.021884</td>\n",
       "      <td>232000.0</td>\n",
       "    </tr>\n",
       "    <tr>\n",
       "      <th>21840</th>\n",
       "      <td>1.0</td>\n",
       "      <td>1.0</td>\n",
       "      <td>0.512845</td>\n",
       "      <td>93881.0</td>\n",
       "    </tr>\n",
       "    <tr>\n",
       "      <th>10960</th>\n",
       "      <td>0.0</td>\n",
       "      <td>0.0</td>\n",
       "      <td>0.193149</td>\n",
       "      <td>143891.0</td>\n",
       "    </tr>\n",
       "    <tr>\n",
       "      <th>25650</th>\n",
       "      <td>0.0</td>\n",
       "      <td>1.0</td>\n",
       "      <td>0.469077</td>\n",
       "      <td>744630.0</td>\n",
       "    </tr>\n",
       "    <tr>\n",
       "      <th>11243</th>\n",
       "      <td>1.0</td>\n",
       "      <td>0.0</td>\n",
       "      <td>1.006660</td>\n",
       "      <td>496457.0</td>\n",
       "    </tr>\n",
       "  </tbody>\n",
       "</table>\n",
       "</div>"
      ],
      "text/plain": [
       "       n_bedrooms  n_bathrooms     sq_ft  assessed_valure_usd\n",
       "20267         0.0          0.0  0.021884             232000.0\n",
       "21840         1.0          1.0  0.512845              93881.0\n",
       "10960         0.0          0.0  0.193149             143891.0\n",
       "25650         0.0          1.0  0.469077             744630.0\n",
       "11243         1.0          0.0  1.006660             496457.0"
      ]
     },
     "execution_count": 41,
     "metadata": {},
     "output_type": "execute_result"
    }
   ],
   "source": [
    "train_scaled.head()"
   ]
  },
  {
   "cell_type": "code",
   "execution_count": 42,
   "metadata": {
    "scrolled": false
   },
   "outputs": [
    {
     "data": {
      "image/png": "[encoded data removed]",
      "text/plain": [
       "<Figure size 432x288 with 2 Axes>"
      ]
     },
     "metadata": {
      "needs_background": "light"
     },
     "output_type": "display_data"
    }
   ],
   "source": [
    "e.heatmap(train_scaled)"
   ]
  },
  {
   "cell_type": "markdown",
   "metadata": {},
   "source": [
    "Features in order with more correlation with the target:\n",
    "\n",
    "    - 1. sq_ft\n",
    "    - 2. n_bathrooms\n",
    "    - 3. n_bedrooms"
   ]
  },
  {
   "cell_type": "code",
   "execution_count": 43,
   "metadata": {
    "scrolled": true
   },
   "outputs": [
    {
     "data": {
      "text/plain": [
       "<seaborn.axisgrid.PairGrid at 0x7fe643888a60>"
      ]
     },
     "execution_count": 43,
     "metadata": {},
     "output_type": "execute_result"
    },
    {
     "data": {
      "image/png": "[encoded data removed]",
      "text/plain": [
       "<Figure size 720x720 with 14 Axes>"
      ]
     },
     "metadata": {
      "needs_background": "light"
     },
     "output_type": "display_data"
    }
   ],
   "source": [
    "sns.pairplot(train_scaled, kind=\"reg\", plot_kws={'line_kws':{'color':'red'}}, corner=True)"
   ]
  },
  {
   "cell_type": "markdown",
   "metadata": {},
   "source": [
    "**Takeaways**\n",
    "- sq_ft has more correlation with our target\n",
    "- sq_ft has higher correlation n_bathrooms"
   ]
  },
  {
   "cell_type": "markdown",
   "metadata": {},
   "source": [
    "## Statistical Tests"
   ]
  },
  {
   "cell_type": "markdown",
   "metadata": {},
   "source": [
    "### - T-test"
   ]
  },
  {
   "cell_type": "markdown",
   "metadata": {},
   "source": [
    " **Is any diference in  the average of assessed_value_usd  for 2   bedrooms  vs 3 o bedrooms properties?**\n"
   ]
  },
  {
   "cell_type": "markdown",
   "metadata": {},
   "source": [
    " - 𝐻𝑜 : There is no difference in  the average of assessed_value_usd  for the properties with  3  bedrooms  vs 2 bedrooms\n",
    "- 𝐻𝑎 : There is significant  difference in  the average of assessed_value_usd  for the properties with  3  bedrooms  vs 2 bedrooms\n",
    "\n",
    "\n",
    "\n",
    "- **continous** = assessed_value_usd \n",
    "- **categorical** = 2 groups ( bedroom_2, bedroom_3)  \n",
    "- **continous vs categorical** = 2-tailed (significantly different) , 2-sample (comparing 2 groups) t-test."
   ]
  },
  {
   "cell_type": "markdown",
   "metadata": {},
   "source": [
    "1. Set Significance Level: $\\alpha = .05$ (in other words Confidence level is 0.95)\n",
    "\n",
    "2. Verify Assumptions:\n",
    "\n",
    "    - Normal Distribution, or at least 30 observations and \"kinda\" normal. The more observations you have, the less \"normal\" it needs to appear. (CLT)\n",
    "    - Independent samples\n",
    "    - Equal Variances (or set method argument to False when not)\n",
    "3. Compute test statistic and probability (t-statistic & p-value) using stats.ttest_ind"
   ]
  },
  {
   "cell_type": "code",
   "execution_count": 44,
   "metadata": {},
   "outputs": [],
   "source": [
    "# Set Significance Level\n",
    "alpha = 0.05"
   ]
  },
  {
   "cell_type": "code",
   "execution_count": 45,
   "metadata": {},
   "outputs": [
    {
     "data": {
      "text/html": [
       "<div>\n",
       "<style scoped>\n",
       "    .dataframe tbody tr th:only-of-type {\n",
       "        vertical-align: middle;\n",
       "    }\n",
       "\n",
       "    .dataframe tbody tr th {\n",
       "        vertical-align: top;\n",
       "    }\n",
       "\n",
       "    .dataframe thead th {\n",
       "        text-align: right;\n",
       "    }\n",
       "</style>\n",
       "<table border=\"1\" class=\"dataframe\">\n",
       "  <thead>\n",
       "    <tr style=\"text-align: right;\">\n",
       "      <th></th>\n",
       "      <th>n_bedrooms</th>\n",
       "      <th>n_bathrooms</th>\n",
       "      <th>sq_ft</th>\n",
       "      <th>assessed_valure_usd</th>\n",
       "    </tr>\n",
       "  </thead>\n",
       "  <tbody>\n",
       "    <tr>\n",
       "      <th>20267</th>\n",
       "      <td>0.0</td>\n",
       "      <td>0.0</td>\n",
       "      <td>0.021884</td>\n",
       "      <td>232000.0</td>\n",
       "    </tr>\n",
       "    <tr>\n",
       "      <th>21840</th>\n",
       "      <td>1.0</td>\n",
       "      <td>1.0</td>\n",
       "      <td>0.512845</td>\n",
       "      <td>93881.0</td>\n",
       "    </tr>\n",
       "    <tr>\n",
       "      <th>10960</th>\n",
       "      <td>0.0</td>\n",
       "      <td>0.0</td>\n",
       "      <td>0.193149</td>\n",
       "      <td>143891.0</td>\n",
       "    </tr>\n",
       "    <tr>\n",
       "      <th>25650</th>\n",
       "      <td>0.0</td>\n",
       "      <td>1.0</td>\n",
       "      <td>0.469077</td>\n",
       "      <td>744630.0</td>\n",
       "    </tr>\n",
       "    <tr>\n",
       "      <th>11243</th>\n",
       "      <td>1.0</td>\n",
       "      <td>0.0</td>\n",
       "      <td>1.006660</td>\n",
       "      <td>496457.0</td>\n",
       "    </tr>\n",
       "  </tbody>\n",
       "</table>\n",
       "</div>"
      ],
      "text/plain": [
       "       n_bedrooms  n_bathrooms     sq_ft  assessed_valure_usd\n",
       "20267         0.0          0.0  0.021884             232000.0\n",
       "21840         1.0          1.0  0.512845              93881.0\n",
       "10960         0.0          0.0  0.193149             143891.0\n",
       "25650         0.0          1.0  0.469077             744630.0\n",
       "11243         1.0          0.0  1.006660             496457.0"
      ]
     },
     "execution_count": 45,
     "metadata": {},
     "output_type": "execute_result"
    }
   ],
   "source": [
    "train_scaled.head()"
   ]
  },
  {
   "cell_type": "code",
   "execution_count": 46,
   "metadata": {},
   "outputs": [],
   "source": [
    "#create my groups\n",
    "bedroom_2 = train_scaled[train_scaled.n_bedrooms == 2].assessed_valure_usd\n",
    "bedroom_3 = train_scaled[train_scaled.n_bedrooms ==3 ].assessed_valure_usd"
   ]
  },
  {
   "cell_type": "code",
   "execution_count": 47,
   "metadata": {},
   "outputs": [
    {
     "data": {
      "text/plain": [
       "((1252,), (192,))"
      ]
     },
     "execution_count": 47,
     "metadata": {},
     "output_type": "execute_result"
    }
   ],
   "source": [
    "#Normal Distribution\n",
    "bedroom_2.shape, bedroom_3.shape"
   ]
  },
  {
   "cell_type": "code",
   "execution_count": 48,
   "metadata": {},
   "outputs": [
    {
     "data": {
      "text/plain": [
       "(1108840196072.28, 5940790657945.124)"
      ]
     },
     "execution_count": 48,
     "metadata": {},
     "output_type": "execute_result"
    }
   ],
   "source": [
    "# Equal Variances (or set method argument to False when not)\n",
    "bedroom_2.var(), bedroom_3.var()"
   ]
  },
  {
   "cell_type": "code",
   "execution_count": 49,
   "metadata": {},
   "outputs": [
    {
     "data": {
      "text/plain": [
       "(-3.415146699023207, 0.0007704302459072129)"
      ]
     },
     "execution_count": 49,
     "metadata": {},
     "output_type": "execute_result"
    }
   ],
   "source": [
    "#Compute Test Statistic\n",
    "t, p = stats.ttest_ind(bedroom_2, bedroom_3, equal_var = False)\n",
    "t,p"
   ]
  },
  {
   "cell_type": "code",
   "execution_count": 50,
   "metadata": {},
   "outputs": [
    {
     "name": "stdout",
     "output_type": "stream",
     "text": [
      "We reject the null hypothesis\n"
     ]
    }
   ],
   "source": [
    "if (p < alpha):\n",
    "    print(\"We reject the null hypothesis\")\n",
    "else:\n",
    "    print(\"We fail to reject the null hypothesis\")"
   ]
  },
  {
   "cell_type": "markdown",
   "metadata": {},
   "source": [
    "t is negative that means the average in assessed_value_usd is for 3 bedrooms is  greater  than 2 bedrooms"
   ]
  },
  {
   "cell_type": "code",
   "execution_count": 51,
   "metadata": {},
   "outputs": [
    {
     "name": "stdout",
     "output_type": "stream",
     "text": [
      "Average  assessed value  for 2 bedrooms is : $  994135.11\n",
      "Average  assessed value  for 3 bedrooms is : $ 1603404.11\n"
     ]
    }
   ],
   "source": [
    "print('Average  assessed value  for 2 bedrooms is : $ ',round( bedroom_2.mean(), 2))\n",
    "print('Average  assessed value  for 3 bedrooms is : $', round (bedroom_3.mean(), 2))"
   ]
  },
  {
   "cell_type": "markdown",
   "metadata": {},
   "source": [
    "### - Correlation"
   ]
  },
  {
   "cell_type": "markdown",
   "metadata": {},
   "source": [
    "Are bathrooms and bedrooms linearly correlated? \n",
    "- 𝐻𝑜 : There is not a linear correlation between number of bathrooms and number of bedrooms for a property.\n",
    "- 𝐻𝑎 : There is a linear correlation between number of bathrooms and number of bedrooms for a property.\n"
   ]
  },
  {
   "cell_type": "code",
   "execution_count": 52,
   "metadata": {},
   "outputs": [
    {
     "data": {
      "text/plain": [
       "(0.6419012149429861, 0.0)"
      ]
     },
     "execution_count": 52,
     "metadata": {},
     "output_type": "execute_result"
    }
   ],
   "source": [
    "r, p = stats.pearsonr(train_scaled.n_bathrooms, train_scaled.n_bedrooms)\n",
    "r, p"
   ]
  },
  {
   "cell_type": "code",
   "execution_count": 53,
   "metadata": {},
   "outputs": [
    {
     "name": "stdout",
     "output_type": "stream",
     "text": [
      "We reject the null hypothesis\n"
     ]
    }
   ],
   "source": [
    "if (p < alpha):\n",
    "    print(\"We reject the null hypothesis\")\n",
    "else:\n",
    "    print(\"We fail to reject the null hypothesis\")"
   ]
  },
  {
   "cell_type": "code",
   "execution_count": 54,
   "metadata": {},
   "outputs": [
    {
     "data": {
      "text/plain": [
       "Text(-3, 8, 'Pearson r:0.6419\\n p-stat: 0.00')"
      ]
     },
     "execution_count": 54,
     "metadata": {},
     "output_type": "execute_result"
    },
    {
     "data": {
      "image/png": "[encoded data removed]",
      "text/plain": [
       "<Figure size 360x360 with 1 Axes>"
      ]
     },
     "metadata": {
      "needs_background": "light"
     },
     "output_type": "display_data"
    }
   ],
   "source": [
    "\n",
    "sns.lmplot(x = 'n_bathrooms', y= 'n_bedrooms', data = train_scaled, line_kws={'color': 'red'})\n",
    "plt.xlabel('Bathrooms')\n",
    "plt.ylabel('Bedrooms')\n",
    "plt.title('Bathrooms vs Bedrooms')\n",
    "plt.annotate(f'Pearson r:{r:.4f}\\n p-stat: {p:.2f}', xy =(-3, 8))"
   ]
  },
  {
   "cell_type": "markdown",
   "metadata": {},
   "source": [
    "**Takeaways**\n",
    "- What independent variables are correlated with assessed_value_usd?\n",
    "    - my surprise is bathrooms have higher correlation with our target than bedrooms\n",
    "    - **sq_ft  looks to be the best predictor of our target variable**\n",
    "\n",
    "- Which independent variables are correlated with other independent variables?\n",
    "    - bathrooms and bedrooms are  correlated (if bedrooms increase  also bathrooms tend to increase)"
   ]
  },
  {
   "cell_type": "markdown",
   "metadata": {},
   "source": [
    "# Modeling"
   ]
  },
  {
   "cell_type": "markdown",
   "metadata": {},
   "source": [
    "### - Feature Engineering\n"
   ]
  },
  {
   "cell_type": "markdown",
   "metadata": {},
   "source": [
    "    - SelectkBest"
   ]
  },
  {
   "cell_type": "code",
   "execution_count": 55,
   "metadata": {},
   "outputs": [
    {
     "name": "stdout",
     "output_type": "stream",
     "text": [
      "The top 2 selected feautures based on the SelectKBest class are: ['n_bathrooms', 'sq_ft']\n"
     ]
    }
   ],
   "source": [
    "#using my function for SelectkBest\n",
    "top_sb =m.select_kbest(X_train_scaled, y_train, 2)"
   ]
  },
  {
   "cell_type": "code",
   "execution_count": 56,
   "metadata": {},
   "outputs": [],
   "source": [
    "from sklearn.linear_model import LinearRegression"
   ]
  },
  {
   "cell_type": "code",
   "execution_count": 57,
   "metadata": {},
   "outputs": [
    {
     "name": "stdout",
     "output_type": "stream",
     "text": [
      "The top 2 selected feautures based on the the RFE class class are: ['n_bedrooms', 'sq_ft']\n",
      "n_bedrooms     1\n",
      "sq_ft          1\n",
      "n_bathrooms    2\n",
      "dtype: int64\n"
     ]
    }
   ],
   "source": [
    "#using my function for RFE\n",
    "top_rfe = m.select_rfe(X_train_scaled, y_train, 2, LinearRegression() )"
   ]
  },
  {
   "cell_type": "markdown",
   "metadata": {},
   "source": [
    "### - Modeling"
   ]
  },
  {
   "cell_type": "code",
   "execution_count": 58,
   "metadata": {},
   "outputs": [
    {
     "data": {
      "image/png": "[encoded data removed]",
      "text/plain": [
       "<Figure size 720x720 with 1 Axes>"
      ]
     },
     "metadata": {
      "needs_background": "light"
     },
     "output_type": "display_data"
    }
   ],
   "source": [
    "#plot our target\n",
    "sns.displot(y_train,  kind=\"kde\", height =10 ,aspect =1, color = 'red')\n",
    "plt.xlabel(\"Value\")\n",
    "plt.ylabel(\"Number of properties\")\n",
    "plt.show()"
   ]
  },
  {
   "cell_type": "code",
   "execution_count": 59,
   "metadata": {
    "scrolled": true
   },
   "outputs": [
    {
     "data": {
      "text/plain": [
       "count    1.573100e+04\n",
       "mean     5.337625e+05\n",
       "std      6.987870e+05\n",
       "min      1.000000e+03\n",
       "25%      1.962015e+05\n",
       "50%      3.816400e+05\n",
       "75%      6.289315e+05\n",
       "max      2.258931e+07\n",
       "Name: assessed_value_usd, dtype: float64"
      ]
     },
     "execution_count": 59,
     "metadata": {},
     "output_type": "execute_result"
    }
   ],
   "source": [
    "y_train.describe()"
   ]
  },
  {
   "cell_type": "code",
   "execution_count": 60,
   "metadata": {},
   "outputs": [],
   "source": [
    "#conver y_train y _ validate to df\n",
    "y_train = pd.DataFrame( {'actual': y_train})\n",
    "y_validate = pd.DataFrame( {'actual': y_validate})"
   ]
  },
  {
   "cell_type": "markdown",
   "metadata": {},
   "source": [
    "**Baseline**"
   ]
  },
  {
   "cell_type": "markdown",
   "metadata": {},
   "source": [
    "I wil check mean and median for y_train. I will choose median, because as you can se in the plot of the target there are outliers"
   ]
  },
  {
   "cell_type": "code",
   "execution_count": 61,
   "metadata": {},
   "outputs": [
    {
     "data": {
      "text/plain": [
       "(actual    533762.525014\n",
       " dtype: float64,\n",
       " actual    381640.0\n",
       " dtype: float64)"
      ]
     },
     "execution_count": 61,
     "metadata": {},
     "output_type": "execute_result"
    }
   ],
   "source": [
    "y_train.mean(), y_train.median()"
   ]
  },
  {
   "cell_type": "code",
   "execution_count": 62,
   "metadata": {},
   "outputs": [
    {
     "data": {
      "text/plain": [
       "698764.7836050247"
      ]
     },
     "execution_count": 62,
     "metadata": {},
     "output_type": "execute_result"
    }
   ],
   "source": [
    "#create baseline using mean (I'm using my function to calculate rmse)\n",
    "tra = eval.baseline_errors(y_train, 'actual', 'mean')\n",
    "tra['rmse']"
   ]
  },
  {
   "cell_type": "code",
   "execution_count": 63,
   "metadata": {},
   "outputs": [
    {
     "data": {
      "text/plain": [
       "692399.5228061898"
      ]
     },
     "execution_count": 63,
     "metadata": {},
     "output_type": "execute_result"
    }
   ],
   "source": [
    "#let's calculate baseline in validate\n",
    "val = eval.baseline_errors(y_validate, 'actual', 'mean')\n",
    "val['rmse']"
   ]
  },
  {
   "cell_type": "code",
   "execution_count": 64,
   "metadata": {},
   "outputs": [
    {
     "data": {
      "text/plain": [
       "715131.7958413708"
      ]
     },
     "execution_count": 64,
     "metadata": {},
     "output_type": "execute_result"
    }
   ],
   "source": [
    "#create baseline using median\n",
    "tra = eval.baseline_errors(y_train, 'actual', 'median')\n",
    "tra['rmse']"
   ]
  },
  {
   "cell_type": "code",
   "execution_count": 65,
   "metadata": {},
   "outputs": [
    {
     "data": {
      "text/plain": [
       "707034.128747132"
      ]
     },
     "execution_count": 65,
     "metadata": {},
     "output_type": "execute_result"
    }
   ],
   "source": [
    "#using median in validate\n",
    "val = eval.baseline_errors(y_validate, 'actual', 'median')\n",
    "val['rmse']"
   ]
  },
  {
   "cell_type": "markdown",
   "metadata": {},
   "source": [
    "**I will select mean for my baseline**"
   ]
  },
  {
   "cell_type": "code",
   "execution_count": 66,
   "metadata": {
    "scrolled": true
   },
   "outputs": [
    {
     "data": {
      "text/html": [
       "<div>\n",
       "<style scoped>\n",
       "    .dataframe tbody tr th:only-of-type {\n",
       "        vertical-align: middle;\n",
       "    }\n",
       "\n",
       "    .dataframe tbody tr th {\n",
       "        vertical-align: top;\n",
       "    }\n",
       "\n",
       "    .dataframe thead th {\n",
       "        text-align: right;\n",
       "    }\n",
       "</style>\n",
       "<table border=\"1\" class=\"dataframe\">\n",
       "  <thead>\n",
       "    <tr style=\"text-align: right;\">\n",
       "      <th></th>\n",
       "      <th>actual</th>\n",
       "      <th>yhat_baseline_mean</th>\n",
       "      <th>yhat_baseline_median</th>\n",
       "    </tr>\n",
       "  </thead>\n",
       "  <tbody>\n",
       "    <tr>\n",
       "      <th>20267</th>\n",
       "      <td>232000.0</td>\n",
       "      <td>533762.525014</td>\n",
       "      <td>381640.0</td>\n",
       "    </tr>\n",
       "    <tr>\n",
       "      <th>21840</th>\n",
       "      <td>93881.0</td>\n",
       "      <td>533762.525014</td>\n",
       "      <td>381640.0</td>\n",
       "    </tr>\n",
       "    <tr>\n",
       "      <th>10960</th>\n",
       "      <td>143891.0</td>\n",
       "      <td>533762.525014</td>\n",
       "      <td>381640.0</td>\n",
       "    </tr>\n",
       "    <tr>\n",
       "      <th>25650</th>\n",
       "      <td>744630.0</td>\n",
       "      <td>533762.525014</td>\n",
       "      <td>381640.0</td>\n",
       "    </tr>\n",
       "    <tr>\n",
       "      <th>11243</th>\n",
       "      <td>496457.0</td>\n",
       "      <td>533762.525014</td>\n",
       "      <td>381640.0</td>\n",
       "    </tr>\n",
       "  </tbody>\n",
       "</table>\n",
       "</div>"
      ],
      "text/plain": [
       "         actual  yhat_baseline_mean  yhat_baseline_median\n",
       "20267  232000.0       533762.525014              381640.0\n",
       "21840   93881.0       533762.525014              381640.0\n",
       "10960  143891.0       533762.525014              381640.0\n",
       "25650  744630.0       533762.525014              381640.0\n",
       "11243  496457.0       533762.525014              381640.0"
      ]
     },
     "execution_count": 66,
     "metadata": {},
     "output_type": "execute_result"
    }
   ],
   "source": [
    "y_train.head()"
   ]
  },
  {
   "cell_type": "markdown",
   "metadata": {},
   "source": [
    "#### Model1: LinearRegression (OLS)"
   ]
  },
  {
   "cell_type": "code",
   "execution_count": null,
   "metadata": {},
   "outputs": [],
   "source": [
    "# create the model object\n",
    "# \n",
    "# make the thing\n",
    "# \n",
    "lm = LinearRegression(normalize=True)\n",
    "\n",
    "# fit the model to our training data. We must specify the column in y_train, \n",
    "# since we have converted it to a dataframe from a series! \n",
    "# \n",
    "# fit the thing\n",
    "# \n",
    "lm.fit(X_train, y_train.G3)\n",
    "\n",
    "# predict train\n",
    "# \n",
    "y_train['G3_pred_lm'] = lm.predict(X_train)\n",
    "\n",
    "# use the thing!\n",
    "# \n",
    "\n",
    "\n",
    "# evaluate: rmse\n",
    "rmse_train = mean_squared_error(y_train.G3, y_train.G3_pred_lm) ** (1/2)\n",
    "\n",
    "# predict validate\n",
    "y_validate['G3_pred_lm'] = lm.predict(X_validate)\n",
    "\n",
    "# evaluate: rmse\n",
    "rmse_validate = mean_squared_error(y_validate.G3, y_validate.G3_pred_lm) ** (1/2)\n",
    "\n",
    "print(\"RMSE for OLS using LinearRegression\\nTraining/In-Sample: \", rmse_train, \n",
    "      \"\\nValidation/Out-of-Sample: \", rmse_validate)"
   ]
  },
  {
   "cell_type": "code",
   "execution_count": 81,
   "metadata": {},
   "outputs": [],
   "source": [
    "method = LinearRegression(normalize=True)"
   ]
  },
  {
   "cell_type": "code",
   "execution_count": 82,
   "metadata": {},
   "outputs": [
    {
     "data": {
      "text/plain": [
       "LinearRegression(normalize=True)"
      ]
     },
     "execution_count": 82,
     "metadata": {},
     "output_type": "execute_result"
    }
   ],
   "source": [
    "method.fit(X_train[top_sb],y_train.actual)"
   ]
  },
  {
   "cell_type": "code",
   "execution_count": 95,
   "metadata": {},
   "outputs": [],
   "source": [
    "def create_model (X_df_scaled, y_df, actual, method, name):\n",
    "    '''\n",
    "    takes in features scaled df, target df, name of actual target, \n",
    "    type of method and the name of the selected method and returns\n",
    "    a dictionary that contains calculated regression_errors with regression_errors function\n",
    "    X_df_scaled : df that contains scaled featues\n",
    "    y_df: target df\n",
    "    actual: name of the column where is actual value of the target\n",
    "    mehod: type of method to create the model object\n",
    "    name: enter the new name for your model\n",
    "    \n",
    "    Example:\n",
    "    create_model(X_train[top_sb], y_train, 'actual', LinearRegression(normalize=True), 'modelOLS' )\n",
    "    '''\n",
    "    # fit the thing\n",
    "    method.fit(X_df_scaled, y_df[actual])\n",
    "\n",
    "    # predict train\n",
    "    y_df[name] = method.predict(X_df_scaled)\n",
    "\n",
    "    #calculate regression errors\n",
    "    train_eval = eval.regression_errors(y_df, actual, name)\n",
    "\n",
    "    return train_eval\n"
   ]
  },
  {
   "cell_type": "code",
   "execution_count": 96,
   "metadata": {},
   "outputs": [
    {
     "data": {
      "text/html": [
       "<div>\n",
       "<style scoped>\n",
       "    .dataframe tbody tr th:only-of-type {\n",
       "        vertical-align: middle;\n",
       "    }\n",
       "\n",
       "    .dataframe tbody tr th {\n",
       "        vertical-align: top;\n",
       "    }\n",
       "\n",
       "    .dataframe thead th {\n",
       "        text-align: right;\n",
       "    }\n",
       "</style>\n",
       "<table border=\"1\" class=\"dataframe\">\n",
       "  <thead>\n",
       "    <tr style=\"text-align: right;\">\n",
       "      <th></th>\n",
       "      <th>actual</th>\n",
       "      <th>yhat_baseline_mean</th>\n",
       "      <th>yhat_baseline_median</th>\n",
       "      <th>modelOLS</th>\n",
       "    </tr>\n",
       "  </thead>\n",
       "  <tbody>\n",
       "    <tr>\n",
       "      <th>20267</th>\n",
       "      <td>232000.0</td>\n",
       "      <td>533762.525014</td>\n",
       "      <td>381640.0</td>\n",
       "      <td>426114.265848</td>\n",
       "    </tr>\n",
       "    <tr>\n",
       "      <th>21840</th>\n",
       "      <td>93881.0</td>\n",
       "      <td>533762.525014</td>\n",
       "      <td>381640.0</td>\n",
       "      <td>662015.608167</td>\n",
       "    </tr>\n",
       "    <tr>\n",
       "      <th>10960</th>\n",
       "      <td>143891.0</td>\n",
       "      <td>533762.525014</td>\n",
       "      <td>381640.0</td>\n",
       "      <td>502104.130931</td>\n",
       "    </tr>\n",
       "    <tr>\n",
       "      <th>25650</th>\n",
       "      <td>744630.0</td>\n",
       "      <td>533762.525014</td>\n",
       "      <td>381640.0</td>\n",
       "      <td>642595.975979</td>\n",
       "    </tr>\n",
       "    <tr>\n",
       "      <th>11243</th>\n",
       "      <td>496457.0</td>\n",
       "      <td>533762.525014</td>\n",
       "      <td>381640.0</td>\n",
       "      <td>863055.990075</td>\n",
       "    </tr>\n",
       "  </tbody>\n",
       "</table>\n",
       "</div>"
      ],
      "text/plain": [
       "         actual  yhat_baseline_mean  yhat_baseline_median       modelOLS\n",
       "20267  232000.0       533762.525014              381640.0  426114.265848\n",
       "21840   93881.0       533762.525014              381640.0  662015.608167\n",
       "10960  143891.0       533762.525014              381640.0  502104.130931\n",
       "25650  744630.0       533762.525014              381640.0  642595.975979\n",
       "11243  496457.0       533762.525014              381640.0  863055.990075"
      ]
     },
     "execution_count": 96,
     "metadata": {},
     "output_type": "execute_result"
    }
   ],
   "source": [
    "y_train.head()"
   ]
  },
  {
   "cell_type": "code",
   "execution_count": 97,
   "metadata": {},
   "outputs": [
    {
     "data": {
      "text/plain": [
       "{'sse': 4630155006061918.0,\n",
       " 'ess': 3050855330908342.0,\n",
       " 'rmse': 542524.8051490515,\n",
       " 'tss': 7681010336970261.0,\n",
       " 'mse': 294333164202.0163,\n",
       " 'r2': 0.3971945352324233}"
      ]
     },
     "execution_count": 97,
     "metadata": {},
     "output_type": "execute_result"
    }
   ],
   "source": [
    "create_model(X_train[top_sb], y_train, 'actual', LinearRegression(normalize=True), 'modelOLS' )"
   ]
  },
  {
   "cell_type": "code",
   "execution_count": null,
   "metadata": {},
   "outputs": [],
   "source": []
  }
 ],
 "metadata": {
  "kernelspec": {
   "display_name": "Python 3",
   "language": "python",
   "name": "python3"
  },
  "language_info": {
   "codemirror_mode": {
    "name": "ipython",
    "version": 3
   },
   "file_extension": ".py",
   "mimetype": "text/x-python",
   "name": "python",
   "nbconvert_exporter": "python",
   "pygments_lexer": "ipython3",
   "version": "3.8.5"
  }
 },
 "nbformat": 4,
 "nbformat_minor": 4
}
